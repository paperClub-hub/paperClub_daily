{
 "cells": [
  {
   "cell_type": "markdown",
   "source": [
    "目录\n",
    "\n",
    "* [逻辑斯蒂回归](#逻辑斯蒂回归)\n",
    "* [加正则项的逻辑斯蒂回归](#加正则项的逻辑斯蒂回归)\n",
    "\n",
    "# 逻辑斯蒂回归"
   ],
   "metadata": {
    "collapsed": false,
    "pycharm": {
     "name": "#%% md\n"
    }
   }
  },
  {
   "cell_type": "code",
   "execution_count": 1,
   "metadata": {
    "collapsed": true
   },
   "outputs": [],
   "source": [
    "import pandas as pd\n",
    "import numpy as np\n",
    "from matplotlib import pyplot as plt\n",
    "from scipy.optimize import minimize\n",
    "from sklearn.preprocessing import PolynomialFeatures"
   ]
  },
  {
   "cell_type": "markdown",
   "source": [
    "手动实现sigmoid函数"
   ],
   "metadata": {
    "collapsed": false,
    "pycharm": {
     "name": "#%% md\n"
    }
   }
  },
  {
   "cell_type": "code",
   "execution_count": 5,
   "outputs": [],
   "source": [
    "def sigmoid(z):\n",
    "    return 1./(1+np.exp(-z))"
   ],
   "metadata": {
    "collapsed": false,
    "pycharm": {
     "name": "#%%\n"
    }
   }
  },
  {
   "cell_type": "markdown",
   "source": [
    "手动实现损失函数的计算"
   ],
   "metadata": {
    "collapsed": false,
    "pycharm": {
     "name": "#%% md\n"
    }
   }
  },
  {
   "cell_type": "code",
   "execution_count": 6,
   "outputs": [],
   "source": [
    "# 计算损失函数\n",
    "def compute_loss(theta, X, y):\n",
    "    if np.ndim(theta) == 1:\n",
    "        theta = theta[:, np.newaxis]\n",
    "    z_x = X.dot(theta) # h=θ^T dot X=θ0*x0+θ1*x1\n",
    "    # print(z_x.shape) # (100,3)x(3,1)=>(100,1)\n",
    "    h_x = sigmoid(z_x) # =>(100,1)\n",
    "\n",
    "    m = y.size # 100，用于对loss求平均\n",
    "    J_loss = -1./m * (np.log(h_x).T.dot(y) + np.log(1-h_x).T.dot(1-y)) # =>(1,1)\n",
    "    if np.isnan(J_loss):\n",
    "        return np.inf\n",
    "    return J_loss[0][0]"
   ],
   "metadata": {
    "collapsed": false,
    "pycharm": {
     "name": "#%%\n"
    }
   }
  },
  {
   "cell_type": "markdown",
   "source": [
    "加载数据\n",
    "\n",
    "数据集简要说明\n",
    "\n",
    "多元变量（二元），数据共有3列。\n",
    "\n",
    "前2列表示2个exam score，由2个考试分数共同决定该条样本是“通过考试”还是“没通过”考试\n",
    "\n",
    "第3列0表示没通过，1表示通过"
   ],
   "metadata": {
    "collapsed": false,
    "pycharm": {
     "name": "#%% md\n"
    }
   }
  },
  {
   "cell_type": "code",
   "execution_count": 2,
   "outputs": [
    {
     "name": "stdout",
     "output_type": "stream",
     "text": [
      "data shape: (100, 3)\n",
      "[[34.62365962 78.02469282  0.        ]\n",
      " [30.28671077 43.89499752  0.        ]\n",
      " [35.84740877 72.90219803  0.        ]\n",
      " [60.18259939 86.3085521   1.        ]\n",
      " [79.03273605 75.34437644  1.        ]]\n"
     ]
    },
    {
     "data": {
      "text/plain": "<Figure size 432x288 with 1 Axes>",
      "image/png": "[encoded data removed]"
     },
     "metadata": {
      "needs_background": "light"
     },
     "output_type": "display_data"
    }
   ],
   "source": [
    "# 绘制数据点，便于查看数据分布\n",
    "def plot_data(data, label_pos, label_neg, axes=None):\n",
    "    # 获取正负样本的index\n",
    "    pos = data[:,2] == 1\n",
    "    neg = data[:,2] == 0\n",
    "\n",
    "    if axes is None:\n",
    "        axes = plt.gca()\n",
    "\n",
    "    axes.scatter(data[pos][:,0], data[pos][:,1], marker='+', c='k', s=60, linewidth=2, label=label_pos)\n",
    "    axes.scatter(data[neg][:,0], data[neg][:,1], c='y', s=60, linewidth=2, label=label_neg)\n",
    "    axes.legend()\n",
    "\n",
    "cwd = '/home/xijian/pycharm_projects/Magic-NLPer/MachineLearning/'\n",
    "data_dir = cwd+'LogisticRegression逻辑斯蒂回归/data/'\n",
    "\n",
    "data = np.loadtxt(data_dir+'data1.txt', delimiter=',')\n",
    "print('data shape:', data.shape) # (100,3)\n",
    "print(data[:5])\n",
    "plot_data(data, 'y=1', 'y=0')"
   ],
   "metadata": {
    "collapsed": false,
    "pycharm": {
     "name": "#%%\n"
    }
   }
  },
  {
   "cell_type": "markdown",
   "source": [
    "查看一下$\\theta$ =[0, 0]时的loss："
   ],
   "metadata": {
    "collapsed": false,
    "pycharm": {
     "name": "#%% md\n"
    }
   }
  },
  {
   "cell_type": "code",
   "execution_count": 3,
   "outputs": [
    {
     "name": "stdout",
     "output_type": "stream",
     "text": [
      "[[ 1.         34.62365962 78.02469282]\n",
      " [ 1.         30.28671077 43.89499752]\n",
      " [ 1.         35.84740877 72.90219803]\n",
      " [ 1.         60.18259939 86.3085521 ]\n",
      " [ 1.         79.03273605 75.34437644]] (100, 3)\n",
      "[[0.]\n",
      " [0.]\n",
      " [0.]\n",
      " [1.]\n",
      " [1.]] (100, 1)\n"
     ]
    },
    {
     "ename": "NameError",
     "evalue": "name 'compute_loss' is not defined",
     "output_type": "error",
     "traceback": [
      "\u001B[0;31m---------------------------------------------------------------------------\u001B[0m",
      "\u001B[0;31mNameError\u001B[0m                                 Traceback (most recent call last)",
      "\u001B[0;32m<ipython-input-3-4a822f83886c>\u001B[0m in \u001B[0;36m<module>\u001B[0;34m\u001B[0m\n\u001B[1;32m      5\u001B[0m \u001B[0mprint\u001B[0m\u001B[0;34m(\u001B[0m\u001B[0my\u001B[0m\u001B[0;34m[\u001B[0m\u001B[0;34m:\u001B[0m\u001B[0;36m5\u001B[0m\u001B[0;34m]\u001B[0m\u001B[0;34m,\u001B[0m \u001B[0my\u001B[0m\u001B[0;34m.\u001B[0m\u001B[0mshape\u001B[0m\u001B[0;34m)\u001B[0m \u001B[0;31m# (100,1)\u001B[0m\u001B[0;34m\u001B[0m\u001B[0;34m\u001B[0m\u001B[0m\n\u001B[1;32m      6\u001B[0m \u001B[0;34m\u001B[0m\u001B[0m\n\u001B[0;32m----> 7\u001B[0;31m \u001B[0mloss\u001B[0m \u001B[0;34m=\u001B[0m \u001B[0mcompute_loss\u001B[0m\u001B[0;34m(\u001B[0m\u001B[0mnp\u001B[0m\u001B[0;34m.\u001B[0m\u001B[0marray\u001B[0m\u001B[0;34m(\u001B[0m\u001B[0;34m[\u001B[0m\u001B[0;34m[\u001B[0m\u001B[0;36m0\u001B[0m\u001B[0;34m]\u001B[0m\u001B[0;34m,\u001B[0m\u001B[0;34m[\u001B[0m\u001B[0;36m0\u001B[0m\u001B[0;34m]\u001B[0m\u001B[0;34m,\u001B[0m\u001B[0;34m[\u001B[0m\u001B[0;36m0\u001B[0m\u001B[0;34m]\u001B[0m\u001B[0;34m]\u001B[0m\u001B[0;34m)\u001B[0m\u001B[0;34m,\u001B[0m \u001B[0mX\u001B[0m\u001B[0;34m,\u001B[0m \u001B[0my\u001B[0m\u001B[0;34m)\u001B[0m\u001B[0;34m\u001B[0m\u001B[0;34m\u001B[0m\u001B[0m\n\u001B[0m\u001B[1;32m      8\u001B[0m \u001B[0mprint\u001B[0m\u001B[0;34m(\u001B[0m\u001B[0;34m'\\nloss:'\u001B[0m\u001B[0;34m,\u001B[0m \u001B[0mloss\u001B[0m\u001B[0;34m)\u001B[0m\u001B[0;34m\u001B[0m\u001B[0;34m\u001B[0m\u001B[0m\n",
      "\u001B[0;31mNameError\u001B[0m: name 'compute_loss' is not defined"
     ]
    }
   ],
   "source": [
    "# 把θ0与x0=[1,1,...,1] 与特征x1,x2,..一起组成一个大X\n",
    "X = np.c_[np.ones(data.shape[0]), data[:,0:2]]\n",
    "print(X[:5], X.shape) # (100, 3)\n",
    "y = np.c_[data[:,2]]\n",
    "print(y[:5], y.shape) # (100,1)\n",
    "\n",
    "loss = compute_loss(np.array([[0],[0],[0]]), X, y)\n",
    "print('\\nloss:', loss)"
   ],
   "metadata": {
    "collapsed": false,
    "pycharm": {
     "name": "#%%\n"
    }
   }
  },
  {
   "cell_type": "markdown",
   "source": [
    "手动实现梯度计算"
   ],
   "metadata": {
    "collapsed": false,
    "pycharm": {
     "name": "#%% md\n"
    }
   }
  },
  {
   "cell_type": "code",
   "execution_count": 7,
   "outputs": [
    {
     "name": "stdout",
     "output_type": "stream",
     "text": [
      "(3, 1)\n",
      "loss: 0.6931471805599453\n",
      "grad: [ -0.1        -12.00921659 -11.26284221]\n"
     ]
    }
   ],
   "source": [
    "# 计算梯度\n",
    "def compute_gradient(theta, X, y):\n",
    "    if np.ndim(theta) == 1:\n",
    "        theta = theta[:, np.newaxis]\n",
    "    # 计算model输出\n",
    "    z_x = X.dot(theta) # θ^T dot X=θ0*x0+θ1*x1\n",
    "    # print(z_x.shape) # (100,3)x(3,1)=>(100,1)\n",
    "    h_x = sigmoid(z_x) # =>(100,1)\n",
    "\n",
    "    m = y.size # 100 对应loss中求平均时的m\n",
    "\n",
    "    # 计算梯度并更新参数 X.T.dot(h_x-y):(3,100)x(100,1)=>(3,1)\n",
    "    grad = 1./m * X.T.dot(h_x-y) # (3,1)\n",
    "    return grad.flatten() # (3,)\n",
    "\n",
    "\n",
    "initial_theta = np.zeros(X.shape[1]) # (3,)\n",
    "initial_theta = initial_theta[:, np.newaxis] # (3,1)\n",
    "print(initial_theta.shape) # (3,1)\n",
    "\n",
    "loss = compute_loss(initial_theta, X, y)\n",
    "grad = compute_gradient(initial_theta, X, y)\n",
    "\n",
    "print('loss:', loss)\n",
    "print('grad:', grad)"
   ],
   "metadata": {
    "collapsed": false,
    "pycharm": {
     "name": "#%%\n"
    }
   }
  },
  {
   "cell_type": "markdown",
   "source": [
    "使用梯度下降求解参数，利用scipy.optimize.minimize()函数，指定最小化的目标即损失函数的计算，\n",
    "然后是梯度的计算，优化参数theta，输入输出(X, y)，即可实现最小化损失函数。"
   ],
   "metadata": {
    "collapsed": false,
    "pycharm": {
     "name": "#%% md\n"
    }
   }
  },
  {
   "cell_type": "code",
   "execution_count": 8,
   "outputs": [
    {
     "name": "stderr",
     "output_type": "stream",
     "text": [
      "/usr/local/lib/python3.6/dist-packages/ipykernel_launcher.py:10: RuntimeWarning: divide by zero encountered in log\n",
      "  # Remove the CWD from sys.path while we load stuff.\n",
      "/usr/local/lib/python3.6/dist-packages/ipykernel_launcher.py:10: RuntimeWarning: divide by zero encountered in log\n",
      "  # Remove the CWD from sys.path while we load stuff.\n"
     ]
    },
    {
     "data": {
      "text/plain": "      fun: 0.2034977015895099\n hess_inv: array([[ 2.85339493e+03, -2.32908823e+01, -2.27416470e+01],\n       [-2.32908823e+01,  2.04489131e-01,  1.72969525e-01],\n       [-2.27416470e+01,  1.72969525e-01,  1.96170322e-01]])\n      jac: array([-2.68557620e-09,  4.36433485e-07, -1.39671757e-06])\n  message: 'Optimization terminated successfully.'\n     nfev: 34\n      nit: 25\n     njev: 30\n   status: 0\n  success: True\n        x: array([-25.16131634,   0.2062316 ,   0.20147143])"
     },
     "execution_count": 8,
     "metadata": {},
     "output_type": "execute_result"
    }
   ],
   "source": [
    "from scipy.optimize import minimize\n",
    "res = minimize(compute_loss, initial_theta, args=(X,y),\n",
    "               jac=compute_gradient, options={'maxiter':400})\n",
    "res"
   ],
   "metadata": {
    "collapsed": false,
    "pycharm": {
     "name": "#%%\n"
    }
   }
  },
  {
   "cell_type": "code",
   "execution_count": 9,
   "outputs": [
    {
     "name": "stdout",
     "output_type": "stream",
     "text": [
      "theta: [-25.16131634   0.2062316    0.20147143] (3,)\n"
     ]
    }
   ],
   "source": [
    "# 查看最后优化得到的参数theta的值\n",
    "final_updated_theta = res.x\n",
    "print('theta:', final_updated_theta, final_updated_theta.shape) # (3,)"
   ],
   "metadata": {
    "collapsed": false,
    "pycharm": {
     "name": "#%%\n"
    }
   }
  },
  {
   "cell_type": "markdown",
   "source": [
    "根据求解出的参数$\\theta$绘制出决策边界："
   ],
   "metadata": {
    "collapsed": false,
    "pycharm": {
     "name": "#%% md\n"
    }
   }
  },
  {
   "cell_type": "code",
   "execution_count": 10,
   "outputs": [
    {
     "data": {
      "text/plain": "<matplotlib.legend.Legend at 0x7f371f824cf8>"
     },
     "execution_count": 10,
     "metadata": {},
     "output_type": "execute_result"
    },
    {
     "data": {
      "text/plain": "<Figure size 432x288 with 1 Axes>",
      "image/png": "[encoded data removed]"
     },
     "metadata": {
      "needs_background": "light"
     },
     "output_type": "display_data"
    }
   ],
   "source": [
    "# 绘制决策边界\n",
    "# 边界：\n",
    "x1_min, x1_max = X[:,1].min(), X[:,1].max() # 注意X[0]是常数列[1,1,...,1]\n",
    "x2_min, x2_max = X[:,2].min(), X[:,2].max()\n",
    "xx1, xx2 = np.meshgrid(np.linspace(x1_min, x1_max), np.linspace(x2_min, x2_max)) # 生成网格坐标\n",
    "# print(xx1.shape, xx2.shape) # (50, 50) (50, 50)\n",
    "XX = np.c_[np.ones(xx1.ravel().shape[0]), xx1.ravel(), xx2.ravel()]\n",
    "# print(XX.shape) # (2500, 3)\n",
    "z_x = XX.dot(final_updated_theta) # (2500, 3)x(3,)=>(2500,)\n",
    "h_x = sigmoid(z_x)\n",
    "h_x = h_x.reshape(xx1.shape) # (50,50)\n",
    "# print(h_x.shape)\n",
    "plt.contour(xx1, xx2, h_x, [0.5], linewidths=1, colors='b') # 决策边界\n",
    "\n",
    "plot_data(data, 'y=1', 'y=0') # # 样本数据点\n",
    "plt.legend(loc=1)"
   ],
   "metadata": {
    "collapsed": false,
    "pycharm": {
     "name": "#%%\n"
    }
   }
  },
  {
   "cell_type": "markdown",
   "source": [
    "# 加正则项的逻辑斯蒂回归\n",
    "\n",
    "加正则项的逻辑斯蒂回归的损失函数手动实现"
   ],
   "metadata": {
    "collapsed": false,
    "pycharm": {
     "name": "#%% md\n"
    }
   }
  },
  {
   "cell_type": "code",
   "execution_count": 11,
   "outputs": [],
   "source": [
    "# 计算损失函数\n",
    "def compute_loss_reg(theta, reg, *args):\n",
    "    if np.ndim(theta) == 1:\n",
    "        theta = theta[:, np.newaxis] # (28,)=>(28,1)\n",
    "    XX, y = args\n",
    "    z_x = XX.dot(theta) # h=θ^T dot X=θ0*x0+θ1*x1\n",
    "    # print(z_x.shape) # (118,28)x(28,1)=>(118,1)\n",
    "    h_x = sigmoid(z_x) # =>(118,1)\n",
    "\n",
    "    m = y.size # 118 用于求平均损失\n",
    "    J_loss = -1./m * (np.log(h_x).T.dot(y) + np.log(1-h_x).T.dot(1-y)) # =>(1,1)\n",
    "    # 注意：正则项的求和中j是从1开始的，而不是0，因为约束的是特征，而\\theta_0对应的是x_0=1常数项\n",
    "    reg_item = reg/(2.*m) * np.sum(np.square(theta[:,0][1:]))\n",
    "    J_loss = J_loss + reg_item\n",
    "    if np.isnan(J_loss):\n",
    "        return np.inf\n",
    "    return J_loss[0][0]"
   ],
   "metadata": {
    "collapsed": false,
    "pycharm": {
     "name": "#%%\n"
    }
   }
  },
  {
   "cell_type": "markdown",
   "source": [
    "加正则项的梯度计算的手动实现"
   ],
   "metadata": {
    "collapsed": false,
    "pycharm": {
     "name": "#%% md\n"
    }
   }
  },
  {
   "cell_type": "code",
   "execution_count": 12,
   "outputs": [],
   "source": [
    "# 计算梯度\n",
    "def compute_gradient_reg(theta, reg, *args):\n",
    "    if np.ndim(theta) == 1:\n",
    "        theta = theta[:, np.newaxis] # (28,)=>(28,1)\n",
    "    XX, y = args\n",
    "    # 计算model输出\n",
    "    z_x = XX.dot(theta) # θ^T dot X=θ0*x0+θ1*x1\n",
    "    # print(z_x.shape) # (118,28)x(28,1)=>(118,1)\n",
    "    h_x = sigmoid(z_x) # =>(118,1)\n",
    "\n",
    "    m = y.size # 118 对应于平均损失中的m\n",
    "\n",
    "    # 计算梯度并更新参数 X.T.dot(h_x-y):(28,118)x(118,1)=>(28,1)\n",
    "    grad = 1./m * XX.T.dot(h_x-y) # (28,1)\n",
    "\n",
    "    reg_item = reg/m * np.r_[ [[0]], theta[1:] ] # (1,1) 行拼接 (27,1)=>(28,1)\n",
    "    grad = grad + reg_item # (28,1)\n",
    "    return grad.flatten() # (28,)"
   ],
   "metadata": {
    "collapsed": false,
    "pycharm": {
     "name": "#%%\n"
    }
   }
  },
  {
   "cell_type": "markdown",
   "source": [
    "加载数据\n",
    "\n",
    "数据集简要说明\n",
    "\n",
    "多元变量（二元），数据共有3列。\n",
    "\n",
    "前2列表示2个Microchip Test的值，由2个测试结果共同决定该芯片是“通过”还是“没通过”测试\n",
    "\n",
    "第3列0表示没通过，1表示通过\n",
    "\n",
    "数据分布是非线性的"
   ],
   "metadata": {
    "collapsed": false,
    "pycharm": {
     "name": "#%% md\n"
    }
   }
  },
  {
   "cell_type": "code",
   "execution_count": 13,
   "outputs": [
    {
     "name": "stdout",
     "output_type": "stream",
     "text": [
      "data shape: (118, 3)\n",
      "[[ 0.051267  0.69956   1.      ]\n",
      " [-0.092742  0.68494   1.      ]\n",
      " [-0.21371   0.69225   1.      ]\n",
      " [-0.375     0.50219   1.      ]\n",
      " [-0.51325   0.46564   1.      ]]\n"
     ]
    },
    {
     "data": {
      "text/plain": "<Figure size 432x288 with 1 Axes>",
      "image/png": "[encoded data removed]"
     },
     "metadata": {
      "needs_background": "light"
     },
     "output_type": "display_data"
    }
   ],
   "source": [
    "data2 = np.loadtxt(data_dir+'data2.txt', delimiter=',')\n",
    "print('data shape:', data2.shape) # (100,3)\n",
    "print(data2[:5])\n",
    "plot_data(data2, 'y=1', 'y=0')"
   ],
   "metadata": {
    "collapsed": false,
    "pycharm": {
     "name": "#%%\n"
    }
   }
  },
  {
   "cell_type": "markdown",
   "source": [
    "可见该数据不是直接线性可分的，不能直接使用逻辑斯蒂回归。考虑在“线性回归原理小结”中提到“多项式回归”，\n",
    "这里使用“多项式特征”（sklearn.preprocessing.PolynomialFeatures）对原始数据X XX进行特征转化，对转化后的数据X ′ X'X\n",
    "′再使用逻辑斯蒂回归。由于数据比之前的复杂，这次便可在学习时加入正则项以避免过拟合。"
   ],
   "metadata": {
    "collapsed": false,
    "pycharm": {
     "name": "#%% md\n"
    }
   }
  },
  {
   "cell_type": "code",
   "execution_count": 14,
   "outputs": [
    {
     "name": "stdout",
     "output_type": "stream",
     "text": [
      "(118, 2) (118, 1)\n",
      "(28, 1)\n",
      "loss: 0.6931471805599454\n",
      "grad: [8.47457627e-03 1.87880932e-02 7.77711864e-05 5.03446395e-02\n",
      " 1.15013308e-02 3.76648474e-02 1.83559872e-02 7.32393391e-03\n",
      " 8.19244468e-03 2.34764889e-02 3.93486234e-02 2.23923907e-03\n",
      " 1.28600503e-02 3.09593720e-03 3.93028171e-02 1.99707467e-02\n",
      " 4.32983232e-03 3.38643902e-03 5.83822078e-03 4.47629067e-03\n",
      " 3.10079849e-02 3.10312442e-02 1.09740238e-03 6.31570797e-03\n",
      " 4.08503006e-04 7.26504316e-03 1.37646175e-03 3.87936363e-02]\n"
     ]
    }
   ],
   "source": [
    "X = data2[:, 0:2]\n",
    "y = np.c_[data2[:,2]]\n",
    "print(X.shape, y.shape) # (118, 2) (118, 1)\n",
    "\n",
    "poly = PolynomialFeatures(6) # 最高次项为6次\n",
    "XX = poly.fit_transform(X) # X是有2个特征，XX有28个特征（含组合特征）\n",
    "XX.shape # (118, 28)\n",
    "# 0次项：1个，1次项：2个，2次项：3个（x1^2,x2^2,x1x2），3次项：4个\n",
    "# 4次项：5个，5次项：6个，6次项：7个，一共28个特征\n",
    "\n",
    "initial_theta = np.zeros(XX.shape[1]) # (28,)\n",
    "initial_theta = initial_theta[:, np.newaxis]\n",
    "print(initial_theta.shape) # (28,1)\n",
    "\n",
    "loss = compute_loss_reg(initial_theta, 1, XX, y)\n",
    "grad = compute_gradient_reg(initial_theta, 1, XX, y)\n",
    "\n",
    "print('loss:', loss)\n",
    "print('grad:', grad)"
   ],
   "metadata": {
    "collapsed": false,
    "pycharm": {
     "name": "#%%\n"
    }
   }
  },
  {
   "cell_type": "markdown",
   "source": [
    "绘制决策边界，并查看不同的正则化项系数，对于决策边界的影响\n",
    "\n",
    "- lambda = 0 : 就是没有正则化，此时会容易过拟合\n",
    "- lambda = 1 : 合适的正则化项系数\n",
    "- lambda = 100 : 正则化项太激进，导致基本没拟合出决策边界"
   ],
   "metadata": {
    "collapsed": false,
    "pycharm": {
     "name": "#%% md\n"
    }
   }
  },
  {
   "cell_type": "code",
   "execution_count": 15,
   "outputs": [
    {
     "name": "stdout",
     "output_type": "stream",
     "text": [
      "(3,)\n"
     ]
    },
    {
     "name": "stderr",
     "output_type": "stream",
     "text": [
      "/usr/local/lib/python3.6/dist-packages/ipykernel_launcher.py:2: RuntimeWarning: overflow encountered in exp\n",
      "  \n"
     ]
    },
    {
     "data": {
      "text/plain": "<Figure size 1224x360 with 3 Axes>",
      "image/png": "[encoded data removed]"
     },
     "metadata": {
      "needs_background": "light"
     },
     "output_type": "display_data"
    }
   ],
   "source": [
    "# 预测\n",
    "def predict(theta, X, threshold=0.5):\n",
    "    z_x = X.dot(theta) # (b,3)x(3,1)=>(b,1)\n",
    "    h_x = sigmoid(z_x) # (b,1)\n",
    "    pred = h_x >= threshold\n",
    "    return pred.astype('int') # (b,1) b个样本的预测结果\n",
    "\n",
    "\n",
    "fig, axes = plt.subplots(1, 3, sharey=True, figsize=(17,5))\n",
    "print(axes.shape) # (3,)\n",
    "\n",
    "lambda_list = [0., 1., 100.]\n",
    "for i,C in enumerate(lambda_list):\n",
    "    # 最小化损失\n",
    "    res2 = minimize(compute_loss_reg, initial_theta, args=(C,XX,y),\n",
    "               jac=compute_gradient_reg, options={'maxiter':3000})\n",
    "    final_updated_theta = res2.x # (28,)\n",
    "    # print('theta:', final_updated_theta.shape) # (28,)\n",
    "\n",
    "    # 计算准确率 XX:(118, 28) y:(118, 1) theta:=>(28,1)\n",
    "    pred = predict(final_updated_theta.reshape(-1,1), XX) # (118,1)\n",
    "    # print(pred.shape) # (118,1)\n",
    "    accuracy = 100. * sum(pred.ravel() == y.ravel()) / y.size\n",
    "\n",
    "    # 绘制原始数据分布\n",
    "    plot_data(data2, 'y=1', 'y=0', axes=axes.flatten()[i])\n",
    "\n",
    "    # 绘制决策边界 X:(118,2) y:(118,1)\n",
    "    # 边界：\n",
    "    x1_min, x1_max = X[:,0].min(), X[:,0].max() # 注意这里的X不含常数列[1,1,...,1]\n",
    "    x2_min, x2_max = X[:,1].min(), X[:,1].max()\n",
    "    xx1, xx2 = np.meshgrid(np.linspace(x1_min, x1_max), np.linspace(x2_min, x2_max)) # 生成网格坐标\n",
    "    # print(xx1.shape, xx2.shape) # (50, 50) (50, 50)\n",
    "    X_ = np.c_[xx1.ravel(), xx2.ravel()]\n",
    "    # print(X_.shape) # (2500,2) # 没算常数列\n",
    "\n",
    "    XX_ = poly.fit_transform(X_) # (2500,28)\n",
    "    # print(XX_.shape) # (2500,28)\n",
    "    z_x = XX_.dot(final_updated_theta) # (2500, 28)x(28,)=>(2500,)\n",
    "    h_x = sigmoid(z_x) # (2500,)\n",
    "    h_x = h_x.reshape(xx1.shape) # (50,50)\n",
    "    #print(h_x.shape) # (50,50)\n",
    "\n",
    "    axes.flatten()[i].contour(xx1, xx2, h_x, [0.5], linewidths=1, colors='g') # 决策边界\n",
    "    # 设置标题\n",
    "    axes.flatten()[i].set_title('Train accuracy {:.2f}% with Lambda = {}'.format(accuracy, C))"
   ],
   "metadata": {
    "collapsed": false,
    "pycharm": {
     "name": "#%%\n"
    }
   }
  }
 ],
 "metadata": {
  "kernelspec": {
   "display_name": "Python 3",
   "language": "python",
   "name": "python3"
  },
  "language_info": {
   "codemirror_mode": {
    "name": "ipython",
    "version": 2
   },
   "file_extension": ".py",
   "mimetype": "text/x-python",
   "name": "python",
   "nbconvert_exporter": "python",
   "pygments_lexer": "ipython2",
   "version": "2.7.6"
  }
 },
 "nbformat": 4,
 "nbformat_minor": 0
}