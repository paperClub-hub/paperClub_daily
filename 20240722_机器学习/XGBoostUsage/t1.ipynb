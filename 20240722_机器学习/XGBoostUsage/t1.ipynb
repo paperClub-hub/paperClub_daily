{
 "cells": [
  {
   "cell_type": "markdown",
   "metadata": {
    "collapsed": true,
    "pycharm": {
     "name": "#%% md\n"
    }
   },
   "source": [
    "目录\n",
    "\n",
    "* [训练XGBoost简单demo](#训练XGBoost简单demo)\n",
    "* [交叉验证](#交叉验证)\n",
    "* [进阶操作-调整样本权重](#进阶操作-调整样本权重)\n",
    "* [进阶操作-自定义目标函数（损失函数）](#进阶操作-自定义目标函数（损失函数）)\n",
    "* [用前n棵树做预测](#用前n棵树做预测)\n",
    "* [绘制特征重要度](#绘制特征重要度)\n",
    "* [与sklearn组合使用](#与sklearn组合使用)\n",
    "* [优化超参数-网格搜索](#优化超参数-网格搜索)\n",
    "\n",
    "【注意】：\n",
    "xgboost有2套python API：1个是原生api，1个是sklearn 风格的api。为了确定估计器的数目，也就是boosting迭代的次数，也可以说是残差树的数目，\n",
    "参数名为n_estimators、num_iterations、num_round、num_boost_round都是等价的，都是num_boost_round的别名\n",
    "\n",
    "**api官方文档：**\n",
    "- [原生Python api文档](https://xgboost.readthedocs.io/en/latest/python/python_api.html#module-xgboost.training)\n",
    "- [sklearn风格api文档](https://xgboost.readthedocs.io/en/latest/python/python_api.html#module-xgboost.sklearn)\n",
    "\n",
    "下面的示例中先介绍原生api的使用，后面再介绍sklearn 风格的api的使用\n",
    "\n",
    "## 训练XGBoost简单demo\n",
    "\n",
    "先指定一组参数param，如何去训练"
   ]
  },
  {
   "cell_type": "code",
   "execution_count": 3,
   "outputs": [],
   "source": [
    "# 数据是libsvm格式，很适合用于**稀疏存储**的数据：\n",
    "# 例如 0 1:1 9:1 19:1 21:1 24:1 ...\n",
    "# 第1列是target 后面是index:数值\n",
    "\n",
    "import numpy as np\n",
    "import scipy.sparse\n",
    "import pickle # python2中叫cPickle python3中改为pickle\n",
    "import xgboost as xgb\n",
    "\n",
    "cwd = '/home/xijian/pycharm_projects/Magic-NLPer/MachineLearning/'\n",
    "data_dir = cwd+'XGBoostUsage/data/'"
   ],
   "metadata": {
    "collapsed": false,
    "pycharm": {
     "name": "#%%\n"
    }
   }
  },
  {
   "cell_type": "code",
   "execution_count": 4,
   "outputs": [],
   "source": [
    "# 读取数据集\n",
    "# xgb.DMatrix()可以直接读取libsvm格式的数据\n",
    "dtrain = xgb.DMatrix(data_dir + 'agaricus.txt.train')\n",
    "dtest = xgb.DMatrix(data_dir + 'agaricus.txt.test')"
   ],
   "metadata": {
    "collapsed": false,
    "pycharm": {
     "name": "#%%\n"
    }
   }
  },
  {
   "cell_type": "code",
   "execution_count": 28,
   "outputs": [
    {
     "name": "stdout",
     "output_type": "stream",
     "text": [
      "[0]\teval-error:0.04283\ttrain-error:0.04652\n",
      "[1]\teval-error:0.02173\ttrain-error:0.02226\n",
      "[2]\teval-error:0.00621\ttrain-error:0.00706\n",
      "[3]\teval-error:0.01800\ttrain-error:0.01520\n",
      "[4]\teval-error:0.00621\ttrain-error:0.00706\n",
      "[5]\teval-error:0.00000\ttrain-error:0.00123\n",
      "[6]\teval-error:0.00000\ttrain-error:0.00123\n",
      "[7]\teval-error:0.00000\ttrain-error:0.00123\n",
      "[8]\teval-error:0.00000\ttrain-error:0.00123\n",
      "[9]\teval-error:0.00000\ttrain-error:0.00000\n"
     ]
    }
   ],
   "source": [
    "# 设定模型参数\n",
    "param = {'max_depth':2,  # 树深\n",
    "         'eta': 1,\n",
    "         'verbosity': 0,\n",
    "         'objective': 'binary:logistic'}\n",
    "watch_list = [(dtest, 'eval'), (dtrain, 'train')]\n",
    "number_round = 10 # 跑10轮（10棵子树） # 通用参数\n",
    "# 训练\n",
    "model = xgb.train(param, dtrain, num_boost_round=number_round, evals=watch_list)"
   ],
   "metadata": {
    "collapsed": false,
    "pycharm": {
     "name": "#%%\n"
    }
   }
  },
  {
   "cell_type": "code",
   "execution_count": 6,
   "outputs": [
    {
     "name": "stdout",
     "output_type": "stream",
     "text": [
      "<class 'numpy.ndarray'> float32 (1611,)\n"
     ]
    }
   ],
   "source": [
    "# 预测\n",
    "pred = model.predict(dtest) # 返回的是numpy.array\n",
    "print(type(pred), pred.dtype, pred.shape) # (1611,)"
   ],
   "metadata": {
    "collapsed": false,
    "pycharm": {
     "name": "#%%\n"
    }
   }
  },
  {
   "cell_type": "code",
   "execution_count": 7,
   "outputs": [
    {
     "name": "stdout",
     "output_type": "stream",
     "text": [
      "<class 'numpy.ndarray'> float32 (1611,)\n",
      "[0. 1. 0. 0. 0. 0. 1. 0. 1. 0.]\n"
     ]
    }
   ],
   "source": [
    "# groundtruth\n",
    "labels = dtest.get_label()\n",
    "print(type(labels), labels.dtype, labels.shape)\n",
    "print(labels[:10])"
   ],
   "metadata": {
    "collapsed": false,
    "pycharm": {
     "name": "#%%\n"
    }
   }
  },
  {
   "cell_type": "code",
   "execution_count": 8,
   "outputs": [
    {
     "name": "stdout",
     "output_type": "stream",
     "text": [
      "0\n"
     ]
    }
   ],
   "source": [
    "error_num = sum([i for i in range(len(pred)) if int(pred[i]>0.5)!=labels[i]])\n",
    "print(error_num)"
   ],
   "metadata": {
    "collapsed": false,
    "pycharm": {
     "name": "#%%\n"
    }
   }
  },
  {
   "cell_type": "markdown",
   "source": [
    "## 交叉验证"
   ],
   "metadata": {
    "collapsed": false,
    "pycharm": {
     "name": "#%% md\n"
    }
   }
  },
  {
   "cell_type": "code",
   "execution_count": 29,
   "outputs": [
    {
     "data": {
      "text/plain": "   train-error-mean  train-error-std  test-error-mean  test-error-std\n0          0.046522         0.001200         0.046523        0.004801\n1          0.022263         0.000867         0.022263        0.003470\n2          0.007063         0.000506         0.007062        0.002023\n3          0.015200         0.001074         0.015199        0.004295\n4          0.007063         0.000506         0.007062        0.002023",
      "text/html": "<div>\n<style scoped>\n    .dataframe tbody tr th:only-of-type {\n        vertical-align: middle;\n    }\n\n    .dataframe tbody tr th {\n        vertical-align: top;\n    }\n\n    .dataframe thead th {\n        text-align: right;\n    }\n</style>\n<table border=\"1\" class=\"dataframe\">\n  <thead>\n    <tr style=\"text-align: right;\">\n      <th></th>\n      <th>train-error-mean</th>\n      <th>train-error-std</th>\n      <th>test-error-mean</th>\n      <th>test-error-std</th>\n    </tr>\n  </thead>\n  <tbody>\n    <tr>\n      <th>0</th>\n      <td>0.046522</td>\n      <td>0.001200</td>\n      <td>0.046523</td>\n      <td>0.004801</td>\n    </tr>\n    <tr>\n      <th>1</th>\n      <td>0.022263</td>\n      <td>0.000867</td>\n      <td>0.022263</td>\n      <td>0.003470</td>\n    </tr>\n    <tr>\n      <th>2</th>\n      <td>0.007063</td>\n      <td>0.000506</td>\n      <td>0.007062</td>\n      <td>0.002023</td>\n    </tr>\n    <tr>\n      <th>3</th>\n      <td>0.015200</td>\n      <td>0.001074</td>\n      <td>0.015199</td>\n      <td>0.004295</td>\n    </tr>\n    <tr>\n      <th>4</th>\n      <td>0.007063</td>\n      <td>0.000506</td>\n      <td>0.007062</td>\n      <td>0.002023</td>\n    </tr>\n  </tbody>\n</table>\n</div>"
     },
     "execution_count": 29,
     "metadata": {},
     "output_type": "execute_result"
    }
   ],
   "source": [
    "number_round = 5 # 通用参数\n",
    "# nfold=5折\n",
    "xgb.cv(param, dtrain, number_round, nfold=5, metrics={'error'}, seed=3)"
   ],
   "metadata": {
    "collapsed": false,
    "pycharm": {
     "name": "#%%\n"
    }
   }
  },
  {
   "cell_type": "markdown",
   "source": [
    "## 调整样本权重"
   ],
   "metadata": {
    "collapsed": false,
    "pycharm": {
     "name": "#%% md\n"
    }
   }
  },
  {
   "cell_type": "code",
   "execution_count": 30,
   "outputs": [
    {
     "data": {
      "text/plain": "   train-auc-mean  train-auc-std  test-auc-mean  test-auc-std\n0        0.958229       0.000999       0.958240      0.004015\n1        0.981414       0.000701       0.981429      0.002824\n2        0.997069       0.000423       0.997046      0.001723\n3        0.998758       0.000123       0.998769      0.000500\n4        0.999332       0.000097       0.999201      0.000382",
      "text/html": "<div>\n<style scoped>\n    .dataframe tbody tr th:only-of-type {\n        vertical-align: middle;\n    }\n\n    .dataframe tbody tr th {\n        vertical-align: top;\n    }\n\n    .dataframe thead th {\n        text-align: right;\n    }\n</style>\n<table border=\"1\" class=\"dataframe\">\n  <thead>\n    <tr style=\"text-align: right;\">\n      <th></th>\n      <th>train-auc-mean</th>\n      <th>train-auc-std</th>\n      <th>test-auc-mean</th>\n      <th>test-auc-std</th>\n    </tr>\n  </thead>\n  <tbody>\n    <tr>\n      <th>0</th>\n      <td>0.958229</td>\n      <td>0.000999</td>\n      <td>0.958240</td>\n      <td>0.004015</td>\n    </tr>\n    <tr>\n      <th>1</th>\n      <td>0.981414</td>\n      <td>0.000701</td>\n      <td>0.981429</td>\n      <td>0.002824</td>\n    </tr>\n    <tr>\n      <th>2</th>\n      <td>0.997069</td>\n      <td>0.000423</td>\n      <td>0.997046</td>\n      <td>0.001723</td>\n    </tr>\n    <tr>\n      <th>3</th>\n      <td>0.998758</td>\n      <td>0.000123</td>\n      <td>0.998769</td>\n      <td>0.000500</td>\n    </tr>\n    <tr>\n      <th>4</th>\n      <td>0.999332</td>\n      <td>0.000097</td>\n      <td>0.999201</td>\n      <td>0.000382</td>\n    </tr>\n  </tbody>\n</table>\n</div>"
     },
     "execution_count": 30,
     "metadata": {},
     "output_type": "execute_result"
    }
   ],
   "source": [
    "# 看一下正负例的比例，然后调整一下权重\n",
    "def preproc(dtrain, dtest, param):\n",
    "    labels = dtrain.get_label()\n",
    "    ratio = float(np.sum(labels==0))/np.sum(labels==1)\n",
    "    param['scale_pos_ratio'] = ratio\n",
    "    return (dtrain, dtest, param)\n",
    "\n",
    "xgb.cv(param, dtrain, number_round, nfold=5, metrics={'auc'}, seed=3, fpreproc=preproc)\n",
    "# auc值越接近1效果越好"
   ],
   "metadata": {
    "collapsed": false,
    "pycharm": {
     "name": "#%%\n"
    }
   }
  },
  {
   "cell_type": "markdown",
   "source": [
    "## 进阶操作-自定义目标函数（损失函数）\n",
    "\n",
    "目标函数：预测与label的接近程度，值越大越好，梯度上升\n",
    "\n",
    "损失函数：预测与label的差距程度，值越小越好，梯度下降\n",
    "\n",
    "xgboost中如果要使用自定义目标函数，就要自己提供一阶导数和二阶导数的实现\n",
    "\n",
    "【注意】：\n",
    "在逻辑回归章节，求导时，梯度=X.T.dot(h_x-y)，为什么上面只写了(h_x-y)？\n",
    "\n",
    "因为：这里的p-y.label，其实只是梯度的“公共部分”，因为不同的样本要乘以各自的样本值，所以是无法提前算出来的，\n",
    "因此往往用p-y.label计算梯度的系数部分，实际拿到样本，再乘以各自的数据。\n"
   ],
   "metadata": {
    "collapsed": false,
    "pycharm": {
     "name": "#%% md\n"
    }
   }
  },
  {
   "cell_type": "code",
   "execution_count": 37,
   "outputs": [
    {
     "name": "stdout",
     "output_type": "stream",
     "text": [
      "[0]\teval-rmse:1.59229\ttrain-rmse:1.59597\teval-error:0.04283\ttrain-error:0.04652\n",
      "[1]\teval-rmse:2.40519\ttrain-rmse:2.40977\teval-error:0.02173\ttrain-error:0.02226\n",
      "[2]\teval-rmse:2.88253\ttrain-rmse:2.87459\teval-error:0.00621\ttrain-error:0.00706\n",
      "[3]\teval-rmse:3.62808\ttrain-rmse:3.63621\teval-error:0.01800\ttrain-error:0.01520\n",
      "[4]\teval-rmse:3.80794\ttrain-rmse:3.83893\teval-error:0.00621\ttrain-error:0.00706\n"
     ]
    }
   ],
   "source": [
    "# 自定义目标函数：log似然，交叉验证\n",
    "# 需要提供一阶导数和二阶导数\n",
    "def logregobj(pred, dtrain):\n",
    "    labels = dtrain.get_label()\n",
    "    pred = 1. / (1+np.exp(-pred)) # sigmoid\n",
    "    grad = pred - labels # 1阶导数\n",
    "    hess = pred*(1-pred) # 2阶导数（海森矩阵），sigmoid的导数：g'(x)=g(x)(1-g(x))\n",
    "    return grad, hess\n",
    "\"\"\"\n",
    "在逻辑回归章节，求导时，梯度=X.T.dot(h_x-y)，为什么上面只写了(h_x-y)\n",
    "这里的p-y.label，其实只是梯度的“公共部分”，因为不同的样本要乘以各自的样本值，\n",
    "所以是无法提前算出来的，因此往往用p-y.label计算梯度的系数部分，实际拿到样本，再乘以各自的数据。\n",
    "\"\"\"\n",
    "\n",
    "def evalerror(pred, dtrain):\n",
    "    labels = dtrain.get_label()\n",
    "    error_num = float(sum(labels!=(pred>0.))) # sigmoid函数g(z)>0.5的话，要z>0.\n",
    "    return 'error', error_num/len(labels)\n",
    "\n",
    "# 模型参数\n",
    "param = {'max_depth':2,  # 树深\n",
    "         'eta': 1,\n",
    "         'verbosity': 0,}\n",
    "watch_list = [(dtest, 'eval'), (dtrain, 'train')]\n",
    "number_round = 5 # 通用参数\n",
    "\n",
    "# 自定义目标函数训练\n",
    "model = xgb.train(param, dtrain,\n",
    "                  num_boost_round=number_round,\n",
    "                  evals=watch_list,\n",
    "                  obj=logregobj, # 目标函数\n",
    "                  feval=evalerror) # 评价函数"
   ],
   "metadata": {
    "collapsed": false,
    "pycharm": {
     "name": "#%%\n"
    }
   }
  },
  {
   "cell_type": "code",
   "execution_count": 35,
   "outputs": [
    {
     "data": {
      "text/plain": "   train-rmse-mean  train-rmse-std  test-rmse-mean  test-rmse-std  \\\n0         1.594727        0.001794        1.594569       0.017434   \n1         2.403623        0.005003        2.403480       0.030395   \n2         2.856625        0.011625        2.855065       0.033168   \n3         3.619403        0.016150        3.617983       0.029252   \n4         3.804502        0.030278        3.810880       0.048983   \n\n   train-error-mean  train-error-std  test-error-mean  test-error-std  \n0          0.046522         0.001200         0.046523        0.004801  \n1          0.022263         0.000867         0.022263        0.003470  \n2          0.007063         0.000506         0.007062        0.002023  \n3          0.015200         0.001074         0.015199        0.004295  \n4          0.005988         0.002618         0.005527        0.001488  ",
      "text/html": "<div>\n<style scoped>\n    .dataframe tbody tr th:only-of-type {\n        vertical-align: middle;\n    }\n\n    .dataframe tbody tr th {\n        vertical-align: top;\n    }\n\n    .dataframe thead th {\n        text-align: right;\n    }\n</style>\n<table border=\"1\" class=\"dataframe\">\n  <thead>\n    <tr style=\"text-align: right;\">\n      <th></th>\n      <th>train-rmse-mean</th>\n      <th>train-rmse-std</th>\n      <th>test-rmse-mean</th>\n      <th>test-rmse-std</th>\n      <th>train-error-mean</th>\n      <th>train-error-std</th>\n      <th>test-error-mean</th>\n      <th>test-error-std</th>\n    </tr>\n  </thead>\n  <tbody>\n    <tr>\n      <th>0</th>\n      <td>1.594727</td>\n      <td>0.001794</td>\n      <td>1.594569</td>\n      <td>0.017434</td>\n      <td>0.046522</td>\n      <td>0.001200</td>\n      <td>0.046523</td>\n      <td>0.004801</td>\n    </tr>\n    <tr>\n      <th>1</th>\n      <td>2.403623</td>\n      <td>0.005003</td>\n      <td>2.403480</td>\n      <td>0.030395</td>\n      <td>0.022263</td>\n      <td>0.000867</td>\n      <td>0.022263</td>\n      <td>0.003470</td>\n    </tr>\n    <tr>\n      <th>2</th>\n      <td>2.856625</td>\n      <td>0.011625</td>\n      <td>2.855065</td>\n      <td>0.033168</td>\n      <td>0.007063</td>\n      <td>0.000506</td>\n      <td>0.007062</td>\n      <td>0.002023</td>\n    </tr>\n    <tr>\n      <th>3</th>\n      <td>3.619403</td>\n      <td>0.016150</td>\n      <td>3.617983</td>\n      <td>0.029252</td>\n      <td>0.015200</td>\n      <td>0.001074</td>\n      <td>0.015199</td>\n      <td>0.004295</td>\n    </tr>\n    <tr>\n      <th>4</th>\n      <td>3.804502</td>\n      <td>0.030278</td>\n      <td>3.810880</td>\n      <td>0.048983</td>\n      <td>0.005988</td>\n      <td>0.002618</td>\n      <td>0.005527</td>\n      <td>0.001488</td>\n    </tr>\n  </tbody>\n</table>\n</div>"
     },
     "execution_count": 35,
     "metadata": {},
     "output_type": "execute_result"
    }
   ],
   "source": [
    "# 5折\n",
    "xgb.cv(param, dtrain, number_round, nfold=5, seed=3, obj=logregobj, feval=evalerror)"
   ],
   "metadata": {
    "collapsed": false,
    "pycharm": {
     "name": "#%%\n"
    }
   }
  },
  {
   "cell_type": "markdown",
   "source": [
    "## 用前n棵树做预测\n",
    "\n",
    "number_round = 5 做了5轮，就会有5棵树产生\n",
    "\n",
    "但是可以仅使用前几棵树做预测"
   ],
   "metadata": {
    "collapsed": false
   }
  },
  {
   "cell_type": "code",
   "execution_count": 13,
   "outputs": [
    {
     "name": "stdout",
     "output_type": "stream",
     "text": [
      "('error', 0.04283054003724395)\n"
     ]
    }
   ],
   "source": [
    "pred1 = model.predict(dtest, ntree_limit=1)\n",
    "print(evalerror(pred1, dtest))"
   ],
   "metadata": {
    "collapsed": false,
    "pycharm": {
     "name": "#%%\n"
    }
   }
  },
  {
   "cell_type": "code",
   "execution_count": 14,
   "outputs": [
    {
     "name": "stdout",
     "output_type": "stream",
     "text": [
      "('error', 0.021725636250775917)\n"
     ]
    }
   ],
   "source": [
    "pred2 = model.predict(dtest, ntree_limit=2)\n",
    "print(evalerror(pred2, dtest))"
   ],
   "metadata": {
    "collapsed": false,
    "pycharm": {
     "name": "#%%\n"
    }
   }
  },
  {
   "cell_type": "code",
   "execution_count": 38,
   "outputs": [
    {
     "name": "stdout",
     "output_type": "stream",
     "text": [
      "('error', 0.006207324643078833)\n"
     ]
    }
   ],
   "source": [
    "pred3 = model.predict(dtest, ntree_limit=3)\n",
    "print(evalerror(pred3, dtest))"
   ],
   "metadata": {
    "collapsed": false,
    "pycharm": {
     "name": "#%%\n"
    }
   }
  },
  {
   "cell_type": "markdown",
   "source": [
    "## 绘制特征重要度"
   ],
   "metadata": {
    "collapsed": false
   }
  },
  {
   "cell_type": "code",
   "execution_count": 39,
   "outputs": [
    {
     "data": {
      "text/plain": "<AxesSubplot:title={'center':'Feature importance'}, xlabel='F score', ylabel='Features'>"
     },
     "execution_count": 39,
     "metadata": {},
     "output_type": "execute_result"
    },
    {
     "data": {
      "text/plain": "<Figure size 432x288 with 1 Axes>",
      "image/png": "[encoded data removed]"
     },
     "metadata": {
      "needs_background": "light"
     },
     "output_type": "display_data"
    }
   ],
   "source": [
    "%matplotlib inline\n",
    "from xgboost import plot_importance\n",
    "from matplotlib import pyplot as plt\n",
    "\n",
    "plot_importance(model, max_num_features=10)"
   ],
   "metadata": {
    "collapsed": false,
    "pycharm": {
     "name": "#%%\n"
    }
   }
  },
  {
   "cell_type": "markdown",
   "source": [
    "## 与sklearn组合使用\n",
    "\n",
    "使用sklearn中自带的数据集，如手写数字（10分类问题）、鸢尾花（3分类问题）\n",
    "\n",
    "sklearn中的KFold、train_test_split等都可以组合使用\n",
    "\n",
    "下面xgboost的使用，也主要使用sklearn风格的API，例如xxClassifier，xxRegressor、fit、predict等"
   ],
   "metadata": {
    "collapsed": false
   }
  },
  {
   "cell_type": "code",
   "execution_count": 17,
   "outputs": [
    {
     "name": "stdout",
     "output_type": "stream",
     "text": [
      "dict_keys(['data', 'target', 'frame', 'feature_names', 'target_names', 'images', 'DESCR'])\n",
      "(1797, 64)\n",
      "(1797,)\n"
     ]
    }
   ],
   "source": [
    "import pickle\n",
    "import xgboost as xgb\n",
    "import numpy as np\n",
    "\n",
    "from sklearn.model_selection import KFold, train_test_split, GridSearchCV\n",
    "from sklearn.metrics import confusion_matrix, mean_squared_error\n",
    "from sklearn.datasets import load_iris, load_digits, load_boston\n",
    "\n",
    "# 10分类问题\n",
    "# 用XGBoost建模，用sklearn做评估，这里使用混淆矩阵进行评估\n",
    "# 加载数据(手写数字)\n",
    "digits = load_digits()\n",
    "print(digits.keys())\n",
    "y = digits['target']\n",
    "X = digits['data']\n",
    "print(X.shape) # (1797, 64)\n",
    "print(y.shape)"
   ],
   "metadata": {
    "collapsed": false,
    "pycharm": {
     "name": "#%%\n"
    }
   }
  },
  {
   "cell_type": "code",
   "execution_count": 19,
   "outputs": [
    {
     "name": "stdout",
     "output_type": "stream",
     "text": [
      "[[ 78   0   0   0   0   0   0   0   1   0]\n",
      " [  0  90   0   0   0   1   0   0   0   2]\n",
      " [  0   1  82   0   0   0   3   0   0   0]\n",
      " [  0   0   1  89   0   0   0   1   0   3]\n",
      " [  2   0   0   0 101   0   1   2   1   0]\n",
      " [  0   0   0   1   0  96   2   0   0   3]\n",
      " [  0   3   0   0   1   0  83   0   1   0]\n",
      " [  0   0   0   0   1   0   0  86   0   1]\n",
      " [  0   6   1   3   0   1   0   0  71   0]\n",
      " [  0   0   0   0   1   1   0   5   2  71]]\n",
      "\n",
      "[[97  0  0  0  0  1  0  1  0  0]\n",
      " [ 0 86  0  1  0  0  1  0  0  1]\n",
      " [ 0  0 90  1  0  0  0  0  0  0]\n",
      " [ 0  1  0 86  0  1  0  0  1  0]\n",
      " [ 0  1  0  0 72  0  0  0  0  1]\n",
      " [ 1  0  0  0  0 72  0  0  2  5]\n",
      " [ 1  0  0  0  0  1 91  0  0  0]\n",
      " [ 0  0  0  0  0  0  0 90  1  0]\n",
      " [ 1  2  0  0  0  1  0  2 85  1]\n",
      " [ 0  6  0  1  0  1  0  0  1 91]]\n",
      "\n"
     ]
    }
   ],
   "source": [
    "# K折切分器\n",
    "kf = KFold(n_splits=2, shuffle=True, random_state=1234) # 2折\n",
    "for train_index, test_index in kf.split(X):\n",
    "    # 这里model没做任何param的设定，全使用默认值\n",
    "    xgb_model = xgb.XGBClassifier().fit(X[train_index], y[train_index])\n",
    "    pred = xgb_model.predict(X[test_index])\n",
    "    ground_truth = y[test_index]\n",
    "    print(confusion_matrix(ground_truth, pred))\n",
    "    print()"
   ],
   "metadata": {
    "collapsed": false,
    "pycharm": {
     "name": "#%%\n"
    }
   }
  },
  {
   "cell_type": "code",
   "execution_count": 20,
   "outputs": [
    {
     "name": "stdout",
     "output_type": "stream",
     "text": [
      "[[25  0  0]\n",
      " [ 0 24  1]\n",
      " [ 0  0 25]]\n",
      "\n",
      "[[25  0  0]\n",
      " [ 0 23  2]\n",
      " [ 0  1 24]]\n",
      "\n"
     ]
    }
   ],
   "source": [
    "# 3分类问题（鸢尾花）\n",
    "iris = load_iris()\n",
    "y_iris = iris['target']\n",
    "X_irsi = iris['data']\n",
    "\n",
    "kf = KFold(n_splits=2, shuffle=True, random_state=1234) # 2折\n",
    "for train_index, test_index in kf.split(X_irsi):\n",
    "    xgb_model = xgb.XGBClassifier().fit(X_irsi[train_index], y_iris[train_index])\n",
    "    pred = xgb_model.predict(X_irsi[test_index])\n",
    "    ground_truth = y_iris[test_index]\n",
    "    print(confusion_matrix(ground_truth, pred))\n",
    "    print()"
   ],
   "metadata": {
    "collapsed": false,
    "pycharm": {
     "name": "#%%\n"
    }
   }
  },
  {
   "cell_type": "code",
   "execution_count": 27,
   "outputs": [
    {
     "name": "stdout",
     "output_type": "stream",
     "text": [
      "mse: 11.431804163616869\n",
      "\n",
      "mse: 15.365480950058584\n",
      "\n"
     ]
    }
   ],
   "source": [
    "# 回归问题（boston房价预测）\n",
    "boston = load_boston()\n",
    "# print(type(boston))\n",
    "X_boston = boston['data']\n",
    "y_boston = boston['target']\n",
    "\n",
    "kf = KFold(n_splits=2, shuffle=True, random_state=1234) # 2折\n",
    "for train_index, test_index in kf.split(X_boston):\n",
    "    # 这里使用回归器：XGBRegressor\n",
    "    xgb_model = xgb.XGBRegressor().fit(X_boston[train_index], y_boston[train_index])\n",
    "    pred = xgb_model.predict(X_boston[test_index])\n",
    "    ground_truth = y_boston[test_index]\n",
    "    # 回归问题，所以评估换成mse\n",
    "    print('mse:', mean_squared_error(ground_truth, pred))\n",
    "    print()"
   ],
   "metadata": {
    "collapsed": false,
    "pycharm": {
     "name": "#%%\n"
    }
   }
  },
  {
   "cell_type": "markdown",
   "source": [
    "## 优化超参数-网格搜索"
   ],
   "metadata": {
    "collapsed": false
   }
  },
  {
   "cell_type": "code",
   "source": [
    "# 回归问题（boston房价预测）\n",
    "boston = load_boston()\n",
    "X_boston = boston['data']\n",
    "y_boston = boston['target']\n",
    "xgb_model = xgb.XGBRegressor()\n",
    "\n",
    "# 参数字典\n",
    "param_dict = {'max_depth': [2,4,6], # 最大树深\n",
    "              'n_estimators': [50, 100, 200]} # 树的棵树\n",
    "\n",
    "rgs = GridSearchCV(xgb_model, param_dict)\n",
    "rgs.fit(X_boston, y_boston)"
   ],
   "metadata": {
    "collapsed": false,
    "pycharm": {
     "name": "#%%\n"
    }
   },
   "execution_count": 40,
   "outputs": [
    {
     "data": {
      "text/plain": "GridSearchCV(estimator=XGBRegressor(base_score=None, booster=None,\n                                    colsample_bylevel=None,\n                                    colsample_bynode=None,\n                                    colsample_bytree=None, gamma=None,\n                                    gpu_id=None, importance_type='gain',\n                                    interaction_constraints=None,\n                                    learning_rate=None, max_delta_step=None,\n                                    max_depth=None, min_child_weight=None,\n                                    missing=nan, monotone_constraints=None,\n                                    n_estimators=100, n_jobs=None,\n                                    num_parallel_tree=None, random_state=None,\n                                    reg_alpha=None, reg_lambda=None,\n                                    scale_pos_weight=None, subsample=None,\n                                    tree_method=None, validate_parameters=None,\n                                    verbosity=None),\n             param_grid={'max_depth': [2, 4, 6],\n                         'n_estimators': [50, 100, 200]})"
     },
     "execution_count": 40,
     "metadata": {},
     "output_type": "execute_result"
    }
   ]
  },
  {
   "cell_type": "code",
   "execution_count": 24,
   "outputs": [
    {
     "name": "stdout",
     "output_type": "stream",
     "text": [
      "{'max_depth': 2, 'n_estimators': 100}\n"
     ]
    }
   ],
   "source": [
    "print(rgs.best_params_)"
   ],
   "metadata": {
    "collapsed": false,
    "pycharm": {
     "name": "#%%\n"
    }
   }
  }
 ],
 "metadata": {
  "kernelspec": {
   "display_name": "Python 3",
   "language": "python",
   "name": "python3"
  },
  "language_info": {
   "codemirror_mode": {
    "name": "ipython",
    "version": 2
   },
   "file_extension": ".py",
   "mimetype": "text/x-python",
   "name": "python",
   "nbconvert_exporter": "python",
   "pygments_lexer": "ipython2",
   "version": "2.7.6"
  }
 },
 "nbformat": 4,
 "nbformat_minor": 0
}