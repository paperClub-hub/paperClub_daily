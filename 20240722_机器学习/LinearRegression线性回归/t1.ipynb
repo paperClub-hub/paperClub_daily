{
 "cells": [
  {
   "cell_type": "code",
   "execution_count": 1,
   "outputs": [],
   "source": [
    "import pandas as pd\n",
    "import numpy as np\n",
    "from matplotlib import pyplot as plt\n",
    "\n",
    "from sklearn.linear_model import LinearRegression"
   ],
   "metadata": {
    "collapsed": false,
    "pycharm": {
     "name": "#%%\n"
    }
   }
  },
  {
   "cell_type": "markdown",
   "source": [
    "损失函数手动实现"
   ],
   "metadata": {
    "collapsed": false,
    "pycharm": {
     "name": "#%% md\n"
    }
   }
  },
  {
   "cell_type": "code",
   "execution_count": 6,
   "metadata": {
    "collapsed": true
   },
   "outputs": [],
   "source": [
    "def compute_loss(X, y, theta):\n",
    "    if np.ndim(theta) == 1:\n",
    "        theta = theta[:, np.newaxis]\n",
    "\n",
    "    h_x = X.dot(theta) # h=θ^T dot X=θ0*x0+θ1*x1\n",
    "    # print(h_x.shape) # (97,2)x(2,1)=>(97,1)\n",
    "\n",
    "    m = y.size # 97\n",
    "    J_loss = 1./(2*m) * np.sum(np.square(h_x-y))\n",
    "    return J_loss"
   ]
  },
  {
   "cell_type": "markdown",
   "source": [
    "加载数据\n",
    "\n",
    "数据集简要数据说明：\n",
    "\n",
    "单元变量：人口 population\n",
    "\n",
    "target：profit"
   ],
   "metadata": {
    "collapsed": false,
    "pycharm": {
     "name": "#%% md\n"
    }
   }
  },
  {
   "cell_type": "code",
   "execution_count": 18,
   "outputs": [
    {
     "name": "stdout",
     "output_type": "stream",
     "text": [
      "(97, 2)\n",
      "[[1.     6.1101]\n",
      " [1.     5.5277]\n",
      " [1.     8.5186]\n",
      " [1.     7.0032]\n",
      " [1.     5.8598]] (97, 2)\n",
      "[[17.592 ]\n",
      " [ 9.1302]\n",
      " [13.662 ]\n",
      " [11.854 ]\n",
      " [ 6.8233]] (97, 1)\n"
     ]
    },
    {
     "data": {
      "text/plain": "Text(0, 0.5, 'Profit in $10,000s')"
     },
     "execution_count": 18,
     "metadata": {},
     "output_type": "execute_result"
    },
    {
     "data": {
      "text/plain": "<Figure size 432x288 with 1 Axes>",
      "image/png": "[encoded data removed]"
     },
     "metadata": {
      "needs_background": "light"
     },
     "output_type": "display_data"
    }
   ],
   "source": [
    "cwd = '/home/xijian/pycharm_projects/Magic-NLPer/MachineLearning/'\n",
    "data_dir = cwd+'LinearRegression线性回归/data/'\n",
    "\n",
    "data = np.loadtxt(data_dir + 'linear_regression_data1.txt', delimiter=',')\n",
    "print(data.shape) # (97, 2)\n",
    "# X0 即theta0 对应的那一列\n",
    "X = np.c_[np.ones(data.shape[0]), data[:,0]]# (97,)=>(97, 2)\n",
    "print(X[:5], X.shape) # (97, 1)\n",
    "\n",
    "y = np.c_[data[:,1]] # (97,)=>(97, 1)\n",
    "print(y[:5], y.shape) # (97, 1)\n",
    "\n",
    "plt.scatter(X[:,1], y, s=30, c='r', marker='x', linewidths=1)\n",
    "plt.xlim(4, 24)\n",
    "plt.xlabel('Population of City in 10,000s')\n",
    "plt.ylabel('Profit in $10,000s')"
   ],
   "metadata": {
    "collapsed": false,
    "pycharm": {
     "name": "#%%\n"
    }
   }
  },
  {
   "cell_type": "markdown",
   "source": [
    "查看一下 $\\theta$ =[0, 0]时的loss："
   ],
   "metadata": {
    "collapsed": false,
    "pycharm": {
     "name": "#%% md\n"
    }
   }
  },
  {
   "cell_type": "code",
   "execution_count": 19,
   "outputs": [
    {
     "name": "stdout",
     "output_type": "stream",
     "text": [
      "32.072733877455676\n"
     ]
    }
   ],
   "source": [
    "loss = compute_loss(X, y, [[0],[0]])\n",
    "print(loss)"
   ],
   "metadata": {
    "collapsed": false,
    "pycharm": {
     "name": "#%%\n"
    }
   }
  },
  {
   "cell_type": "code",
   "execution_count": 20,
   "outputs": [],
   "source": [
    "# 参数theta默认初始化为0\n",
    "def gradient_descent(X, y, theta, alpha=0.01, num_iters=1000):\n",
    "    if np.ndim(theta) == 1:\n",
    "        theta = theta[:, np.newaxis]\n",
    "\n",
    "    m = y.size\n",
    "    J_losses = [] # 存放每个step过程中loss，便于绘图查看loss随着优化更新的变化\n",
    "\n",
    "    for _ in range(num_iters):\n",
    "        # 计算model输出\n",
    "        h_x = X.dot(theta) # (50,1)\n",
    "        # print(h_x.shape)\n",
    "        # 计算梯度并更新参数 X.T.dot(h_x-y):(2,50)x(50,1)=>(2,1)\n",
    "        grad = 1./m * X.T.dot(h_x-y) # (2,1)\n",
    "        theta = theta - alpha*grad # (2,1)\n",
    "        #print(theta)\n",
    "        # 计算损失\n",
    "        loss = compute_loss(X, y, theta)\n",
    "        J_losses.append(loss)\n",
    "\n",
    "    return (theta, J_losses)"
   ],
   "metadata": {
    "collapsed": false,
    "pycharm": {
     "name": "#%%\n"
    }
   }
  },
  {
   "cell_type": "code",
   "execution_count": 21,
   "outputs": [
    {
     "name": "stderr",
     "output_type": "stream",
     "text": [
      "No handles with labels found to put in legend.\n"
     ]
    },
    {
     "name": "stdout",
     "output_type": "stream",
     "text": [
      "theta: [-3.63029144  1.16636235]\n"
     ]
    },
    {
     "data": {
      "text/plain": "<Figure size 432x288 with 1 Axes>",
      "image/png": "[encoded data removed]"
     },
     "metadata": {
      "needs_background": "light"
     },
     "output_type": "display_data"
    }
   ],
   "source": [
    "theta, J_losses = gradient_descent(X, y, [[0],[0]], num_iters=1500) # 参数theta默认初始化为0\n",
    "print('theta:', theta.ravel()) # 拉平 (2,1)=>(2,)\n",
    "\n",
    "plt.plot(J_losses)\n",
    "plt.xlim(0)\n",
    "plt.ylabel('loss_mse(mean_square_error)')\n",
    "plt.xlabel('iter_steps')\n",
    "plt.legend()\n",
    "plt.show()"
   ],
   "metadata": {
    "collapsed": false,
    "pycharm": {
     "name": "#%%\n"
    }
   }
  },
  {
   "cell_type": "markdown",
   "source": [
    "参数theta已经求出，现在画出拟合的直线："
   ],
   "metadata": {
    "collapsed": false,
    "pycharm": {
     "name": "#%% md\n"
    }
   }
  },
  {
   "cell_type": "code",
   "execution_count": 22,
   "outputs": [
    {
     "name": "stdout",
     "output_type": "stream",
     "text": [
      "[[1. 5.]\n",
      " [1. 6.]\n",
      " [1. 7.]\n",
      " [1. 8.]\n",
      " [1. 9.]] (20, 2)\n",
      "[[2.20152031]\n",
      " [3.36788266]\n",
      " [4.53424501]\n",
      " [5.70060736]\n",
      " [6.86696971]] (20, 1)\n"
     ]
    },
    {
     "data": {
      "text/plain": "<Figure size 432x288 with 1 Axes>",
      "image/png": "[encoded data removed]"
     },
     "metadata": {
      "needs_background": "light"
     },
     "output_type": "display_data"
    }
   ],
   "source": [
    "xx = np.arange(5, 25)\n",
    "xx = np.c_[np.ones(len(xx)), xx]\n",
    "print(xx[:5], xx.shape) # (20,2)\n",
    "yy = xx.dot(theta) # (20,2)x(2,1)=>(20,1)\n",
    "print(yy[:5], yy.shape)\n",
    "\n",
    "# 拟合曲线\n",
    "plt.plot(xx[:,1], yy, label='linear regression (gradient descent)')\n",
    "# 原始数据点\n",
    "plt.scatter(X[:,1], y, s=30, c='r', marker='x', linewidths=1)\n",
    "# sklearn 库中的线性回归模型拟合的曲线（与自己实现的对比）\n",
    "regr = LinearRegression()\n",
    "regr.fit(X[:,1].reshape(-1,1), y.ravel()) # X[:,1]的shape为(97,),reshape=>(97,1), y (97,1)=>拉平(97,)\n",
    "yy_regr = regr.intercept_ + regr.coef_*xx[:,1]\n",
    "plt.plot(xx[:,1], yy_regr, label='linear regression (sklearn)')\n",
    "\n",
    "plt.xlim(4,24)\n",
    "plt.legend(loc=4)\n",
    "plt.show()"
   ],
   "metadata": {
    "collapsed": false,
    "pycharm": {
     "name": "#%%\n"
    }
   }
  },
  {
   "cell_type": "code",
   "execution_count": 23,
   "outputs": [
    {
     "name": "stdout",
     "output_type": "stream",
     "text": [
      "(100, 2)\n",
      "(100, 28)\n"
     ]
    }
   ],
   "source": [
    "from sklearn.preprocessing import PolynomialFeatures\n",
    "\n",
    "X = np.random.randn(100,2)\n",
    "print(X.shape)\n",
    "poly = PolynomialFeatures(6) # 最高次项为6次\n",
    "XX = poly.fit_transform(X) # X是有2个特征，XX有28个特征（含组合特征）\n",
    "print(XX.shape) # (118, 28)\n",
    "# 0次项：1个，1次项：2个，2次项：3个（x1^2,x2^2,x1x2），3次项：4个\n",
    "# 4次项：5个，5次项：6个，6次项：7个，一共28个特征\n"
   ],
   "metadata": {
    "collapsed": false,
    "pycharm": {
     "name": "#%%\n"
    }
   }
  }
 ],
 "metadata": {
  "kernelspec": {
   "display_name": "Python 3",
   "language": "python",
   "name": "python3"
  },
  "language_info": {
   "codemirror_mode": {
    "name": "ipython",
    "version": 2
   },
   "file_extension": ".py",
   "mimetype": "text/x-python",
   "name": "python",
   "nbconvert_exporter": "python",
   "pygments_lexer": "ipython2",
   "version": "2.7.6"
  }
 },
 "nbformat": 4,
 "nbformat_minor": 0
}