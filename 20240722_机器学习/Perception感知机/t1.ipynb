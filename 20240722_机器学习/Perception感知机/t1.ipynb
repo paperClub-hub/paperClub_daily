{
 "cells": [
  {
   "cell_type": "markdown",
   "metadata": {
    "collapsed": true,
    "pycharm": {
     "name": "#%% md\n"
    }
   },
   "source": [
    "手动实现感知机学习算法的原始形式，其中将参数 w 和 b 合并为一个参数向量，方便实现：\n",
    "$\\vec{w}=<w^{(1)},w^{(2)},...,w^{(n)},b>$，\n",
    "$\\vec{x_i}=<x_i^{(1)}, x_i^{(2)},...,x_i^{(n)}>$，那么$w\\cdot x+b$\n",
    "就可简写为：$w\\cdot x$，实现时更方便。\n",
    "\n",
    "准备鸢尾花数据集"
   ]
  },
  {
   "cell_type": "code",
   "execution_count": 1,
   "outputs": [],
   "source": [
    "from sklearn import datasets\n",
    "\n",
    "import numpy as np\n",
    "\n",
    "from matplotlib import pyplot as plt\n",
    "from matplotlib.colors import ListedColormap"
   ],
   "metadata": {
    "collapsed": false,
    "pycharm": {
     "name": "#%%\n"
    }
   }
  },
  {
   "cell_type": "code",
   "execution_count": 10,
   "outputs": [
    {
     "name": "stdout",
     "output_type": "stream",
     "text": [
      "(150, 4) (150,)\n",
      "[0 0 0 0 0] [1 1 1 1 1] [2 2 2 2 2]\n",
      "Class labels: [-1  1]\n",
      "(100, 2) (100,)\n"
     ]
    }
   ],
   "source": [
    "iris = datasets.load_iris()\n",
    "print(iris['data'].shape, iris['target'].shape) # (150, 4) (150,) 一共有4个特征\n",
    "print(iris['target'][:5], iris['target'][50:55], iris['target'][100:105])\n",
    "\n",
    "X = iris.data[:100,[0,2]] # 只使用2个特征:sepal length 和 petal length 以及2个类别\n",
    "y = iris.target[:100]\n",
    "y = np.where(y==1, 1, -1) # 1表示setosa杂色鸢尾，-1表示负例\n",
    "print('Class labels:', np.unique(y))\n",
    "print(X.shape, y.shape)"
   ],
   "metadata": {
    "collapsed": false,
    "pycharm": {
     "name": "#%%\n"
    }
   }
  },
  {
   "cell_type": "code",
   "execution_count": 14,
   "outputs": [
    {
     "data": {
      "text/plain": "<Figure size 432x288 with 1 Axes>",
      "image/png": "[encoded data removed]"
     },
     "metadata": {
      "needs_background": "light"
     },
     "output_type": "display_data"
    }
   ],
   "source": [
    "plt.scatter(X[:50, 0], X[:50, 1], color='red', marker='o', label='setosa')\n",
    "plt.scatter(X[50:100, 0], X[50:100, 1], color='blue', marker='x', label='versicolor')\n",
    "plt.xlabel('sepal length [cm]')\n",
    "plt.ylabel('petal length [cm]')\n",
    "plt.legend(loc='upper left')\n",
    "plt.show()"
   ],
   "metadata": {
    "collapsed": false,
    "pycharm": {
     "name": "#%%\n"
    }
   }
  },
  {
   "cell_type": "code",
   "execution_count": 5,
   "outputs": [],
   "source": [
    "class Perceptron(object):\n",
    "     \"\"\"Perceptron classifier.\n",
    "\n",
    "     Parameters\n",
    "     ------------\n",
    "     eta : float 学习率 (between 0.0 and 1.0)\n",
    "     n_iter : int 迭代次数. 整个训练迭代完一次叫一次iter（或epoch）\n",
    "     random_state : int 用于初始化参数的随机数种子\n",
    "\n",
    "     Attributes\n",
    "     -----------\n",
    "     w_ : 1d-array 模型权重参数 需要通过训练求得\n",
    "     errors_ : list 每次迭代中，误分类点个数\n",
    "     \"\"\"\n",
    "     def __init__(self, eta=0.01, n_iter=50, random_state=1):\n",
    "         self.eta = eta\n",
    "         self.n_iter = n_iter\n",
    "         self.random_state = random_state\n",
    "\n",
    "     def fit(self, X, y):\n",
    "         \"\"\"Fit training data.\n",
    "\n",
    "         Parameters\n",
    "        ----------\n",
    "         X : {array-like}, shape = [n_samples, n_features] 训练集样本shape [样本数，样本特征数]\n",
    "         y : array-like, shape = [n_samples], 真实类别标记\n",
    "\n",
    "         Returns\n",
    "         -------\n",
    "         self : object\n",
    "         \"\"\"\n",
    "         rgen = np.random.RandomState(self.random_state) # 用于初始化w\n",
    "         # # 使用正态分布初始化w, 注意w 是考虑了bias的增广向量<w,b>\n",
    "         self.w_ = rgen.normal(loc=0.0, scale=0.01, size=1 + X.shape[1])\n",
    "         self.errors_ = []\n",
    "         for _ in range(self.n_iter):\n",
    "             errors = 0\n",
    "             for xi, target in zip(X, y):\n",
    "                 # uodate用于计算 \\eta*yi\n",
    "                 # 注意，当x_i被正确分类时，target - self.predict(xi)=0，即update=0，不更新\n",
    "                 # 当target - self.predict(xi)不等于0时，update = +2*\\eta 或者 -2*\\eta\n",
    "                 # 这样实现是为了代码更简洁。当然也可以直接先判断target * self.predict(xi)的符号\n",
    "                 # 只有异号时才进行update的计算：update = \\eta* target即+1*\\eta 或者-1*\\eta\n",
    "                 update = self.eta * (target - self.predict(xi))\n",
    "                 self.w_[1:] += update * xi # 更新w\n",
    "                 self.w_[0] += update # 更新b\n",
    "                 errors += int(update != 0.0)\n",
    "             self.errors_.append(errors)\n",
    "         return self\n",
    "\n",
    "     def net_input(self, X):\n",
    "         \"\"\"Calculate net input\"\"\"\n",
    "         return np.dot(X, self.w_[1:]) + self.w_[0]\n",
    "\n",
    "     def predict(self, X):\n",
    "         \"\"\"Return class label after unit step\"\"\"\n",
    "         return np.where(self.net_input(X) >= 0.0, 1, -1)"
   ],
   "metadata": {
    "collapsed": false,
    "pycharm": {
     "name": "#%%\n"
    }
   }
  },
  {
   "cell_type": "code",
   "execution_count": 12,
   "outputs": [
    {
     "data": {
      "text/plain": "<Figure size 432x288 with 1 Axes>",
      "image/png": "[encoded data removed]"
     },
     "metadata": {
      "needs_background": "light"
     },
     "output_type": "display_data"
    }
   ],
   "source": [
    "# 训练\n",
    "ppn = Perceptron(eta=0.1, n_iter=10)\n",
    "ppn.fit(X, y)\n",
    "plt.plot(range(1, len(ppn.errors_) + 1), ppn.errors_, marker='o')\n",
    "plt.xlabel('Epochs')\n",
    "plt.ylabel('Number of updates')\n",
    "plt.xlim(0)\n",
    "plt.show()"
   ],
   "metadata": {
    "collapsed": false,
    "pycharm": {
     "name": "#%%\n"
    }
   }
  },
  {
   "cell_type": "code",
   "execution_count": 8,
   "outputs": [],
   "source": [
    "# 绘制分类决策边界：\n",
    "def plot_decision_regions(X, y, classifier, test_idx=None, resolution=0.02):\n",
    "     # setup marker generator and color map\n",
    "     markers = ('s', 'x', 'o', '^', 'v')\n",
    "     colors = ('red', 'blue', 'lightgreen', 'gray', 'cyan')\n",
    "     cmap = ListedColormap(colors[:len(np.unique(y))])\n",
    "\n",
    "     # plot the decision surface\n",
    "     x1_min, x1_max = X[:, 0].min() - 1, X[:, 0].max() + 1\n",
    "     x2_min, x2_max = X[:, 1].min() - 1, X[:, 1].max() + 1\n",
    "     xx1, xx2 = np.meshgrid(np.arange(x1_min, x1_max, resolution),\n",
    "                            np.arange(x2_min, x2_max, resolution))\n",
    "     Z = classifier.predict(np.array([xx1.ravel(), xx2.ravel()]).T)\n",
    "     Z = Z.reshape(xx1.shape)\n",
    "     plt.contourf(xx1, xx2, Z, alpha=0.3, cmap=cmap)\n",
    "     plt.xlim(xx1.min(), xx1.max())\n",
    "     plt.ylim(xx2.min(), xx2.max())\n",
    "\n",
    "     for idx, cl in enumerate(np.unique(y)):\n",
    "         plt.scatter(x=X[y == cl, 0], y=X[y == cl, 1],\n",
    "         alpha=0.8, c=colors[idx],\n",
    "         marker=markers[idx], label=cl,\n",
    "         edgecolor='black')\n",
    "\n",
    "     # highlight test samples\n",
    "     if test_idx:\n",
    "         # plot all samples\n",
    "         X_test, y_test = X[test_idx, :], y[test_idx]\n",
    "         plt.scatter(X_test[:, 0], X_test[:, 1],\n",
    "                     c='', edgecolor='black', alpha=1.0,\n",
    "                     linewidth=1, marker='o',\n",
    "                     s=100, label='test set')"
   ],
   "metadata": {
    "collapsed": false,
    "pycharm": {
     "name": "#%%\n"
    }
   }
  },
  {
   "cell_type": "code",
   "execution_count": 13,
   "outputs": [
    {
     "data": {
      "text/plain": "<Figure size 432x288 with 1 Axes>",
      "image/png": "[encoded data removed]"
     },
     "metadata": {
      "needs_background": "light"
     },
     "output_type": "display_data"
    }
   ],
   "source": [
    "plot_decision_regions(X, y, classifier=ppn)\n",
    "plt.xlabel('sepal length [cm]')\n",
    "plt.ylabel('petal length [cm]')\n",
    "plt.legend(loc='upper left')\n",
    "plt.show()"
   ],
   "metadata": {
    "collapsed": false,
    "pycharm": {
     "name": "#%%\n"
    }
   }
  }
 ],
 "metadata": {
  "kernelspec": {
   "display_name": "Python 3",
   "language": "python",
   "name": "python3"
  },
  "language_info": {
   "codemirror_mode": {
    "name": "ipython",
    "version": 2
   },
   "file_extension": ".py",
   "mimetype": "text/x-python",
   "name": "python",
   "nbconvert_exporter": "python",
   "pygments_lexer": "ipython2",
   "version": "2.7.6"
  }
 },
 "nbformat": 4,
 "nbformat_minor": 0
}