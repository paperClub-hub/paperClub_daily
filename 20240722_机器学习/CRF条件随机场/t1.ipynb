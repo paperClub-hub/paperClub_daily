{
 "cells": [
  {
   "cell_type": "markdown",
   "metadata": {
    "collapsed": true,
    "pycharm": {
     "name": "#%% md\n"
    }
   },
   "source": [
    "## 使用CRF实现中文命名实体识别（NER）\n",
    "\n",
    "目录\n",
    "\n",
    "* [数据集说明](#数据集说明)\n",
    "* [BiLSTM-CRF实现说明](#BiLSTM-CRF实现说明)\n",
    "* [实验环境说明](#实验环境说明)\n",
    "* [1.配置](#1.配置)\n",
    "* [2.加载数据](#2.加载数据）)\n",
    "* [3.搭建模型](#3.搭建模型)\n",
    "* [4.模型训练&保存模型](#4.模型训练&保存模型)\n",
    "* [5.测试](#5.测试)\n",
    "* [6.预测](#6.预测)\n",
    "\n",
    "## 数据集说明\n",
    "\n",
    "数据集：人民日报 中文 NER数据集\n",
    "\n",
    "数据集说明：实体为人名（PER）、地名（LOC）和组织机构名（ORG）。数据集一行对应一个中文字符以及标注符号，标注系统采用BIO系统。\n",
    "\n",
    "其数据格式如下："
   ]
  },
  {
   "cell_type": "code",
   "execution_count": null,
   "outputs": [],
   "source": [
    "海 O\n",
    "钓 O\n",
    "比 O\n",
    "赛 O\n",
    "地 O\n",
    "点 O\n",
    "在 O\n",
    "厦 B-LOC\n",
    "门 I-LOC\n",
    "与 O\n",
    "金 B-LOC\n",
    "门 I-LOC\n",
    "之 O\n",
    "间 O\n",
    "的 O\n",
    "海 O\n",
    "域 O\n",
    "。 O"
   ],
   "metadata": {
    "collapsed": false,
    "pycharm": {
     "name": "#%%\n"
    }
   }
  },
  {
   "cell_type": "markdown",
   "source": [
    "## BiLSTM-CRF实现说明\n",
    "\n",
    "LSTM 一般已经足以用于词性标注、NER等任务，但是再与CRF结合后，能在CRF融合上下文局部特征的优势加持下，使得序列模型对于NER上的性能能有不错的提升。\n",
    "\n",
    "当已知观测序列$x$和状态序列$y$后，CRF计算条件概率公式为：\n",
    "\n",
    "$$P(y|x)=\\frac{\\exp \\{ score(x,y)\\}}{\\sum\\limits_{y'}\\exp \\{ score(x,y)\\}}$$\n",
    "\n",
    "而$score(x,y)$如何计算呢？即就是序列的状态特征得分与转移特征得分的和：\n",
    "$$\\begin{aligned}score(x, y)&=transition\\_score+emission\\_score\\\\&=\\sum\\limits_{i=1}^{n+1}A_{y_{i-1},y_i}+\\sum\\limits_{i=1}^{n+1}P_{y_i,x_i}\\end{aligned}$$\n",
    "\n",
    "其中$P_{y_i,x_i}$表示标签tag 为$y_i$ 条件下，观测word为$x_i$的emission_score，其来自时间步长$i$处的BiLSTM的隐藏状态。\n",
    "\n",
    "$A_{y_{i-1},y_i}$表示从标签tag $y_{i-1}$转移到标签tag $y_{i}$的transition_score，transition_score存储在维度为tag_num的转移矩阵中，它将作为模型参数的一部分，\n",
    "在训练中学习得到。\n",
    "\n",
    "## 实验环境说明\n",
    "\n",
    "|环境 | 版本/型号|\n",
    "---|---\n",
    "python| 3.6.9\n",
    "pytorch| 1.7.0\n",
    "cuda | 10.2\n",
    "gpu| NVIDIA V100 (32G) x 4张"
   ],
   "metadata": {
    "collapsed": false,
    "pycharm": {
     "name": "#%% md\n"
    }
   }
  },
  {
   "cell_type": "markdown",
   "source": [
    "## 1.配置"
   ],
   "metadata": {
    "collapsed": false,
    "pycharm": {
     "name": "#%% md\n"
    }
   }
  },
  {
   "cell_type": "code",
   "execution_count": 32,
   "outputs": [],
   "source": [
    "import torch\n",
    "import torchkeras\n",
    "from torchcrf import CRF\n",
    "\n",
    "from tqdm import tqdm\n",
    "import datetime\n",
    "import time\n",
    "import copy\n",
    "from matplotlib import pyplot as plt\n",
    "from sklearn.metrics import accuracy_score, precision_score, recall_score, f1_score, \\\n",
    "            confusion_matrix, classification_report\n",
    "\n",
    "import numpy as np\n",
    "import pandas as pd\n",
    "\n",
    "cwd_dir = '/home/xijian/pycharm_projects/Magic-NLPer/MachineLearning/CRF条件随机场/'\n",
    "data_base_dir = cwd_dir + 'data/rmrb/'\n",
    "save_dir = cwd_dir + 'save/'\n",
    "imgs_dir = cwd_dir + 'imgs/'\n",
    "\n",
    "pad_token = '<pad>'\n",
    "pad_id = 0\n",
    "unk_token = '<unk>'\n",
    "unk_id = 1\n",
    "\n",
    "tag_to_id = {'<pad>': 0, 'O': 1, 'B-LOC': 2, 'I-LOC': 3, 'B-PER': 4, 'I-PER': 5, 'B-ORG': 6, 'I-ORG': 7}\n",
    "id_to_tag = {id: tag for tag, id in tag_to_id.items()}\n",
    "word_to_id = {'<pad>': 0, '<unk>': 1}\n",
    "tags_num = len(tag_to_id)\n",
    "\n",
    "LR = 1e-3\n",
    "EPOCHS = 30\n",
    "\n",
    "maxlen = 60\n",
    "# total_words = 4000\n",
    "\n",
    "embedding_dim = 100\n",
    "hidden_size = 128\n",
    "batch_size = 512"
   ],
   "metadata": {
    "collapsed": false,
    "pycharm": {
     "name": "#%%\n"
    }
   }
  },
  {
   "cell_type": "markdown",
   "source": [
    "## 2.加载数据"
   ],
   "metadata": {
    "collapsed": false,
    "pycharm": {
     "name": "#%% md\n"
    }
   }
  },
  {
   "cell_type": "code",
   "execution_count": 2,
   "outputs": [],
   "source": [
    "# 读取数据  数据格式：字 tag\n",
    "def read_data(filepath):\n",
    "    sentences = []\n",
    "    tags = []\n",
    "    with open(filepath, 'r', encoding='utf-8') as f:\n",
    "        tmp_sentence = []\n",
    "        tmp_tags = []\n",
    "        for line in f:\n",
    "            if line == '\\n' and len(tmp_sentence) != 0:\n",
    "                assert len(tmp_sentence) == len(tmp_tags)\n",
    "                sentences.append(tmp_sentence)\n",
    "                tags.append(tmp_tags)\n",
    "                tmp_sentence = []\n",
    "                tmp_tags = []\n",
    "            else:\n",
    "                line = line.strip().split(' ')\n",
    "                tmp_sentence.append(line[0])\n",
    "                tmp_tags.append(line[1])\n",
    "        if len(tmp_sentence) != 0:\n",
    "            assert len(tmp_sentence) == len(tmp_tags)\n",
    "            sentences.append(tmp_sentence)\n",
    "            tags.append(tmp_tags)\n",
    "    return sentences, tags"
   ],
   "metadata": {
    "collapsed": false,
    "pycharm": {
     "name": "#%%\n"
    }
   }
  },
  {
   "cell_type": "markdown",
   "source": [
    "查看和分析一下数据，有助于设置一些超参，例如vocab_size、max_length等等"
   ],
   "metadata": {
    "collapsed": false,
    "pycharm": {
     "name": "#%% md\n"
    }
   }
  },
  {
   "cell_type": "code",
   "execution_count": 3,
   "outputs": [
    {
     "name": "stdout",
     "output_type": "stream",
     "text": [
      "['海', '钓', '比', '赛', '地', '点', '在', '厦', '门', '与', '金', '门', '之', '间', '的', '海', '域', '。'] ['O', 'O', 'O', 'O', 'O', 'O', 'O', 'B-LOC', 'I-LOC', 'O', 'B-LOC', 'I-LOC', 'O', 'O', 'O', 'O', 'O', 'O']\n",
      "最大句子长度：574, 最小句子长度：6, 平均句子长度：46.93, 句子长度中位数：40.00\n",
      "              s_len\n",
      "count  20864.000000\n",
      "mean      46.931557\n",
      "std       30.077038\n",
      "min        6.000000\n",
      "25%       28.000000\n",
      "50%       40.000000\n",
      "75%       58.000000\n",
      "max      574.000000\n"
     ]
    }
   ],
   "source": [
    "sentences, tags = read_data(data_base_dir + 'train.txt')\n",
    "print(sentences[0], tags[0])\n",
    "\n",
    "s_lengths = [len(s) for s in sentences]\n",
    "print('最大句子长度：{}, 最小句子长度：{}, 平均句子长度：{:.2f}, 句子长度中位数：{:.2f}'.format(\n",
    "    max(s_lengths), min(s_lengths), np.mean(s_lengths), np.median(s_lengths)))\n",
    "df_len = pd.DataFrame({'s_len': s_lengths})\n",
    "print(df_len.describe())"
   ],
   "metadata": {
    "collapsed": false,
    "pycharm": {
     "name": "#%%\n"
    }
   }
  },
  {
   "cell_type": "code",
   "execution_count": 4,
   "outputs": [
    {
     "name": "stdout",
     "output_type": "stream",
     "text": [
      "句子长度分布图：\n"
     ]
    },
    {
     "data": {
      "text/plain": "<AxesSubplot:title={'center':'sentence length '}, ylabel='Frequency'>"
     },
     "execution_count": 4,
     "metadata": {},
     "output_type": "execute_result"
    },
    {
     "data": {
      "text/plain": "<Figure size 432x288 with 1 Axes>",
      "image/png": "[encoded data removed]"
     },
     "metadata": {
      "needs_background": "light"
     },
     "output_type": "display_data"
    }
   ],
   "source": [
    "print('句子长度分布图：')\n",
    "# df_len.s_len.hist(bins=50)\n",
    "df_len.plot.hist('s_len',  grid=True, title='sentence length ', bins=50)\n",
    "# plt.show()"
   ],
   "metadata": {
    "collapsed": false,
    "pycharm": {
     "name": "#%%\n"
    }
   }
  },
  {
   "cell_type": "code",
   "execution_count": 5,
   "outputs": [
    {
     "name": "stdout",
     "output_type": "stream",
     "text": [
      "\n",
      "分位点为0.774的句子长度:60\n"
     ]
    },
    {
     "data": {
      "text/plain": "<Figure size 432x288 with 1 Axes>",
      "image/png": "[encoded data removed]"
     },
     "metadata": {
      "needs_background": "light"
     },
     "output_type": "display_data"
    }
   ],
   "source": [
    "from collections import Counter\n",
    "# df_len = df_len.sort_values(by='s_len', axis=0, ascending=True).reset_index(drop=True)\n",
    "c = Counter(s_lengths) # 句子长度： 该长度对应的句子数\n",
    "df_cumsum = pd.DataFrame(c.items(), columns=['s_len', 'cnt'])\n",
    "df_cumsum = df_cumsum.sort_values(by='s_len', axis=0, ascending=True).reset_index(drop=True)\n",
    "# df_cumsum.head()\n",
    "df_cumsum['cumsum'] = df_cumsum['cnt'].cumsum()\n",
    "# df_cumsum.head()\n",
    "df_cumsum['cumsum_percentage'] = df_cumsum['cumsum']/len(sentences)\n",
    "# df_cumsum.head()\n",
    "# df_cumsum.tail()\n",
    "ax = df_cumsum.plot('s_len', 'cumsum_percentage', title='sentence length CDF')\n",
    "# print(ax)\n",
    "# 寻找句子长度为100的分位点（或者直接从分位点如0.90去找句子长度也行）\n",
    "quantile = 0\n",
    "quantile_len = 60\n",
    "for i,row in df_cumsum.iterrows():\n",
    "    if row['s_len'] >= quantile_len:\n",
    "        quantile = round(row['cumsum_percentage'], 3)\n",
    "        break\n",
    "print(\"\\n分位点为%s的句子长度:%d\" % (quantile, quantile_len))\n",
    "ax.hlines(quantile, 0, quantile_len, colors=\"c\", linestyles=\"dashed\")\n",
    "ax.vlines(quantile_len, 0, quantile, colors=\"c\", linestyles=\"dashed\")\n",
    "ax.text(0, quantile, str(quantile))\n",
    "ax.text(quantile_len, 0, str(quantile_len))\n",
    "plt.show()"
   ],
   "metadata": {
    "collapsed": false,
    "pycharm": {
     "name": "#%%\n"
    }
   }
  },
  {
   "cell_type": "markdown",
   "source": [
    "所以可以设置最大句子长度为60，因为已经覆盖了3/4的句子"
   ],
   "metadata": {
    "collapsed": false,
    "pycharm": {
     "name": "#%% md\n"
    }
   }
  },
  {
   "cell_type": "code",
   "execution_count": 41,
   "outputs": [
    {
     "name": "stdout",
     "output_type": "stream",
     "text": [
      "vocab size: 4314\n"
     ]
    }
   ],
   "source": [
    "def build_vocab(sentences):\n",
    "    global word_to_id\n",
    "    for sentence in sentences:  # 建立word到索引的映射\n",
    "        for word in sentence:\n",
    "            if word not in word_to_id:\n",
    "                word_to_id[word] = len(word_to_id)\n",
    "    return word_to_id\n",
    "\n",
    "word_to_id = build_vocab(sentences)\n",
    "print('vocab size:', len(word_to_id))"
   ],
   "metadata": {
    "collapsed": false,
    "pycharm": {
     "name": "#%%\n"
    }
   }
  },
  {
   "cell_type": "code",
   "execution_count": 7,
   "outputs": [],
   "source": [
    "def convert_to_ids_and_padding(seqs, to_ids):\n",
    "    ids = []\n",
    "    for seq in seqs:\n",
    "        if len(seq)>=maxlen: # 截断\n",
    "            ids.append([to_ids[w] if w in to_ids else unk_id for w in seq[:maxlen]])\n",
    "        else: # padding\n",
    "            ids.append([to_ids[w] if w in to_ids else unk_id for w in seq] + [0]*(maxlen-len(seq)))\n",
    "\n",
    "    return torch.tensor(ids, dtype=torch.long)"
   ],
   "metadata": {
    "collapsed": false,
    "pycharm": {
     "name": "#%%\n"
    }
   }
  },
  {
   "cell_type": "code",
   "execution_count": 8,
   "outputs": [],
   "source": [
    "def load_data(filepath, word_to_id, shuffle=False):\n",
    "    sentences, tags = read_data(filepath)\n",
    "\n",
    "    inps = convert_to_ids_and_padding(sentences, word_to_id)\n",
    "    trgs = convert_to_ids_and_padding(tags, tag_to_id)\n",
    "\n",
    "    inp_dset = torch.utils.data.TensorDataset(inps, trgs)\n",
    "    inp_dloader = torch.utils.data.DataLoader(inp_dset,\n",
    "                                              batch_size=batch_size,\n",
    "                                              shuffle=shuffle,\n",
    "                                              num_workers=4)\n",
    "    return inp_dloader"
   ],
   "metadata": {
    "collapsed": false,
    "pycharm": {
     "name": "#%%\n"
    }
   }
  },
  {
   "cell_type": "code",
   "execution_count": 9,
   "outputs": [
    {
     "name": "stdout",
     "output_type": "stream",
     "text": [
      "sample_batch: 2 torch.Size([512, 60]) torch.int64 torch.Size([512, 60]) torch.int64\n"
     ]
    }
   ],
   "source": [
    "# 查看data pipeline是否生效\n",
    "inp_dloader = load_data(data_base_dir + 'train.txt', word_to_id)\n",
    "sample_batch = next(iter(inp_dloader))\n",
    "print('sample_batch:', len(sample_batch), sample_batch[0].size(), sample_batch[0].dtype,\n",
    "      sample_batch[1].size(), sample_batch[1].dtype)  # [b,60] int64"
   ],
   "metadata": {
    "collapsed": false,
    "pycharm": {
     "name": "#%%\n"
    }
   }
  },
  {
   "cell_type": "markdown",
   "source": [
    "## 3.搭建模型"
   ],
   "metadata": {
    "collapsed": false
   }
  },
  {
   "cell_type": "code",
   "execution_count": 16,
   "outputs": [
    {
     "name": "stdout",
     "output_type": "stream",
     "text": [
      "----------------------------------------------------------------\n",
      "        Layer (type)               Output Shape         Param #\n",
      "================================================================\n",
      "         Embedding-1              [-1, 60, 100]         431,400\n",
      "              LSTM-2              [-1, 60, 128]          84,992\n",
      "            Linear-3                [-1, 60, 8]           1,032\n",
      "================================================================\n",
      "Total params: 517,424\n",
      "Trainable params: 517,424\n",
      "Non-trainable params: 0\n",
      "----------------------------------------------------------------\n",
      "Input size (MB): 0.000229\n",
      "Forward/backward pass size (MB): 0.108032\n",
      "Params size (MB): 1.973816\n",
      "Estimated Total Size (MB): 2.082077\n",
      "----------------------------------------------------------------\n"
     ]
    }
   ],
   "source": [
    "ngpu = 1\n",
    "device = 'cpu'\n",
    "\n",
    "class BiLSTM_CRF(torch.nn.Module):\n",
    "    def __init__(self, vocab_size, hidden_size):\n",
    "        super(BiLSTM_CRF, self).__init__()\n",
    "\n",
    "        self.hidden_size = hidden_size\n",
    "\n",
    "        self.embedding = torch.nn.Embedding(num_embeddings=vocab_size, embedding_dim=embedding_dim, padding_idx=pad_id)\n",
    "        self.bi_lstm = torch.nn.LSTM(input_size=embedding_dim, hidden_size=hidden_size // 2, batch_first=True,\n",
    "                                     bidirectional=True)  # , dropout=0.2)\n",
    "        self.hidden2tag = torch.nn.Linear(hidden_size, tags_num)\n",
    "\n",
    "        self.crf = CRF(num_tags=tags_num, batch_first=True)\n",
    "\n",
    "    def init_hidden(self, batch_size):\n",
    "        # device = 'cpu'\n",
    "        _batch_size = batch_size//ngpu\n",
    "        return (torch.randn(2, _batch_size, self.hidden_size // 2, device=device),\n",
    "                torch.randn(2, _batch_size, self.hidden_size // 2, device=device))  # ([b=1,2,hidden_size//2], [b=1,2,hidden_size//2])\n",
    "\n",
    "\n",
    "    def forward(self, inp):  # inp [b, seq_len=60]\n",
    "        self.bi_lstm.flatten_parameters()\n",
    "\n",
    "        embeds = self.embedding(inp)  # [b,seq_len]=>[b, seq_len, embedding_dim]\n",
    "        lstm_out, _ = self.bi_lstm(embeds, None)  # lstm_out: =>[b, seq_len, hidden_size], #####################################################\n",
    "        # lstm_out, self.hidden = self.bi_lstm(embeds, self.hidden)  # lstm_out: =>[b, seq_len, hidden_size], #####################################################\n",
    "        # h_n: ([b,2,hidden_size//2], c_n: [b,2,hidden_size//2])\n",
    "\n",
    "        logits = self.hidden2tag(lstm_out)  # [b, seq_len, hidden_size]=>[b, seq_len, tags_num]\n",
    "        return logits # [b, seq_len=60, tags_num=10]\n",
    "\n",
    "    # 计算CRF 条件对数似然，并返回其负值作为loss\n",
    "    def crf_neg_log_likelihood(self, inp, tags, mask=None, inp_logits=False):  # [b, seq_len, tags_num], [b, seq_len]\n",
    "        if inp_logits:\n",
    "            logits = inp\n",
    "        else:\n",
    "            logits = self.forward(inp)\n",
    "\n",
    "        if mask is None:\n",
    "            mask = torch.logical_not(torch.eq(tags, torch.tensor(0)))  # =>[b, seq_len],每个元素为bool值，如果序列中有pad，则mask相应位置就为False\n",
    "            mask = mask.type(torch.uint8)\n",
    "\n",
    "        crf_llh = self.crf(logits, tags, mask, reduction='mean') # Compute the conditional log likelihood of a sequence of tags given emission scores\n",
    "        # crf_llh = self.crf(logits, tags, mask) # Compute the conditional log likelihood of a sequence of tags given emission scores\n",
    "        return -crf_llh\n",
    "\n",
    "    def crf_decode(self, inp, mask=None, inp_logits=False):\n",
    "        if inp_logits:\n",
    "            logits = inp\n",
    "        else:\n",
    "            logits = self.forward(inp)\n",
    "\n",
    "        if mask is None and inp_logits is False:\n",
    "            mask = torch.logical_not(torch.eq(inp, torch.tensor(0)))  # =>[b, seq_len],每个元素为bool值，如果序列中有pad，则mask相应位置就为False\n",
    "            mask = mask.type(torch.uint8)\n",
    "\n",
    "        return self.crf.decode(emissions=logits, mask=mask)\n",
    "\n",
    "# 查看模型\n",
    "model = BiLSTM_CRF(len(word_to_id), hidden_size)\n",
    "torchkeras.summary(model, input_shape=(60,), input_dtype=torch.int64)"
   ],
   "metadata": {
    "collapsed": false,
    "pycharm": {
     "name": "#%%\n"
    }
   }
  },
  {
   "cell_type": "markdown",
   "source": [
    "## 4.模型训练&保存模型"
   ],
   "metadata": {
    "collapsed": false
   }
  },
  {
   "cell_type": "code",
   "execution_count": 17,
   "outputs": [
    {
     "name": "stdout",
     "output_type": "stream",
     "text": [
      "******** device: cuda:0\n"
     ]
    }
   ],
   "source": [
    "ngpu = 4 # 4张GPU卡\n",
    "use_cuda = torch.cuda.is_available() # 检测是否有可用的gpu\n",
    "device = torch.device(\"cuda:0\" if (use_cuda and ngpu>0) else \"cpu\")\n",
    "print('*'*8, 'device:', device)\n",
    "\n",
    "\n",
    "# 设置评价指标\n",
    "metric_func = lambda y_pred, y_true: accuracy_score(y_true, y_pred)\n",
    "metric_name = 'acc'\n",
    "df_history = pd.DataFrame(columns=[\"epoch\", \"loss\", metric_name, \"val_loss\", \"val_\"+metric_name])"
   ],
   "metadata": {
    "collapsed": false,
    "pycharm": {
     "name": "#%%\n"
    }
   }
  },
  {
   "cell_type": "code",
   "execution_count": 12,
   "outputs": [],
   "source": [
    "def train_step(model, inps, tags, optimizer):\n",
    "    inps = inps.to(device)\n",
    "    tags = tags.to(device)\n",
    "    mask = torch.logical_not(torch.eq(inps, torch.tensor(0)))  # =>[b, seq_len]\n",
    "    # 每个元素为bool值，如果序列中有pad，则mask相应位置就为False\n",
    "    # mask = mask.type(torch.uint8)\n",
    "    # mask = mask.to(device) # 由device上的数据生成的数据，也是在device上\n",
    "\n",
    "    model.train()  # 设置train mode\n",
    "    optimizer.zero_grad()  # 梯度清零\n",
    "\n",
    "\n",
    "    # forward\n",
    "    logits = model(inps)\n",
    "    loss = model.module.crf_neg_log_likelihood(logits, tags, mask=mask, inp_logits=True)\n",
    "\n",
    "    # backward\n",
    "    loss.backward()  # 反向传播计算梯度\n",
    "    optimizer.step()  # 更新参数\n",
    "\n",
    "    preds = model.module.crf_decode(logits, mask=mask, inp_logits=True) # List[List]\n",
    "    pred_without_pad = []\n",
    "    for pred in preds:\n",
    "        pred_without_pad.extend(pred)\n",
    "    tags_without_pad = torch.masked_select(tags, mask).cpu().numpy() # 返回是1维张量\n",
    "    # print('tags_without_pad:', tags_without_pad.shape, type(tags_without_pad)) # [5082] tensor\n",
    "    metric = metric_func(pred_without_pad, tags_without_pad)\n",
    "    # print('*'*8, metric) # 标量\n",
    "\n",
    "    return loss.item(), metric"
   ],
   "metadata": {
    "collapsed": false,
    "pycharm": {
     "name": "#%%\n"
    }
   }
  },
  {
   "cell_type": "code",
   "execution_count": 13,
   "outputs": [],
   "source": [
    "@torch.no_grad()\n",
    "def validate_step(model, inps, tags):\n",
    "    inps = inps.to(device)\n",
    "    tags = tags.to(device)\n",
    "    mask = torch.logical_not(torch.eq(inps, torch.tensor(0)))  # =>[b, seq_len],每个元素为bool值，如果序列中有pad，则mask相应位置就为False\n",
    "    # mask = mask.type(torch.uint8)\n",
    "    # mask = mask.to(device)\n",
    "\n",
    "    model.eval()  # 设置eval mode\n",
    "\n",
    "    # forward\n",
    "    logits = model(inps)\n",
    "    loss = model.module.crf_neg_log_likelihood(logits, tags, mask=mask, inp_logits=True)\n",
    "\n",
    "    preds = model.module.crf_decode(logits, mask=mask, inp_logits=True)  # List[List]\n",
    "    pred_without_pad = []\n",
    "    for pred in preds:\n",
    "        pred_without_pad.extend(pred)\n",
    "    tags_without_pad = torch.masked_select(tags, mask).cpu().numpy()  # 返回是1维张量\n",
    "    metric = metric_func(pred_without_pad, tags_without_pad)\n",
    "    # print('*' * 8, metric) # 标量\n",
    "\n",
    "    return loss.item(), metric"
   ],
   "metadata": {
    "collapsed": false,
    "pycharm": {
     "name": "#%%\n"
    }
   }
  },
  {
   "cell_type": "code",
   "execution_count": 14,
   "outputs": [],
   "source": [
    "# 打印时间\n",
    "def printbar():\n",
    "    nowtime = datetime.datetime.now().strftime('%Y-%m_%d %H:%M:%S')\n",
    "    print('\\n' + \"==========\"*8 + '%s'%nowtime)\n",
    "\n",
    "\n",
    "def train_model(model, train_dloader, val_dloader, optimizer, num_epochs=10, print_every=150):\n",
    "    starttime = time.time()\n",
    "    print('*' * 27, 'start training...')\n",
    "    printbar()\n",
    "\n",
    "    best_metric = 0.\n",
    "    for epoch in range(1, num_epochs+1):\n",
    "        # 训练\n",
    "        loss_sum, metric_sum = 0., 0.\n",
    "        for step, (inps, tags) in enumerate(train_dloader, start=1):\n",
    "            loss, metric = train_step(model, inps, tags, optimizer)\n",
    "            loss_sum += loss\n",
    "            metric_sum += metric\n",
    "\n",
    "            # 打印batch级别日志\n",
    "            if step % print_every == 0:\n",
    "                print('*'*27, f'[step = {step}] loss: {loss_sum/step:.3f}, {metric_name}: {metric_sum/step:.3f}')\n",
    "\n",
    "        # 验证 一个epoch的train结束，做一次验证\n",
    "        val_loss_sum, val_metric_sum = 0., 0.\n",
    "        for val_step, (inps, tags) in enumerate(val_dloader, start=1):\n",
    "            val_loss, val_metric = validate_step(model, inps, tags)\n",
    "            val_loss_sum += val_loss\n",
    "            val_metric_sum += val_metric\n",
    "\n",
    "\n",
    "        # 记录和收集 1个epoch的训练和验证信息\n",
    "        # columns=['epoch', 'loss', metric_name, 'val_loss', 'val_'+metric_name]\n",
    "        record = (epoch, loss_sum/step, metric_sum/step, val_loss_sum/val_step, val_metric_sum/val_step)\n",
    "        df_history.loc[epoch - 1] = record\n",
    "\n",
    "        # 打印epoch级别日志\n",
    "        print('EPOCH = {} loss: {:.3f}, {}: {:.3f}, val_loss: {:.3f}, val_{}: {:.3f}'.format(\n",
    "               record[0], record[1], metric_name, record[2], record[3], metric_name, record[4]))\n",
    "        printbar()\n",
    "\n",
    "        # 保存最佳模型参数\n",
    "        current_metric_avg = val_metric_sum/val_step\n",
    "        if current_metric_avg > best_metric:\n",
    "            best_metric = current_metric_avg\n",
    "            checkpoint = save_dir + f'epoch{epoch:03d}_valacc{current_metric_avg:.3f}_ckpt.tar'\n",
    "            if device.type == 'cuda' and ngpu > 1:\n",
    "                model_sd = copy.deepcopy(model.module.state_dict())\n",
    "            else:\n",
    "                model_sd = copy.deepcopy(model.state_dict())\n",
    "            # 保存\n",
    "            torch.save({\n",
    "                'loss': loss_sum / step,\n",
    "                'epoch': epoch,\n",
    "                'net': model_sd,\n",
    "                'opt': optimizer.state_dict(),\n",
    "            }, checkpoint)\n",
    "\n",
    "\n",
    "    endtime = time.time()\n",
    "    time_elapsed = endtime - starttime\n",
    "    print('*' * 27, 'training finished...')\n",
    "    print('*' * 27, 'and it costs {} h {} min {:.2f} s'.format(int(time_elapsed // 3600),\n",
    "                                                               int((time_elapsed % 3600) // 60),\n",
    "                                                               (time_elapsed % 3600) % 60))\n",
    "\n",
    "    print('Best val Acc: {:4f}'.format(best_metric))\n",
    "    return df_history"
   ],
   "metadata": {
    "collapsed": false,
    "pycharm": {
     "name": "#%%\n"
    }
   }
  },
  {
   "cell_type": "markdown",
   "source": [
    "### 开始训练"
   ],
   "metadata": {
    "collapsed": false
   }
  },
  {
   "cell_type": "code",
   "execution_count": 18,
   "outputs": [
    {
     "name": "stdout",
     "output_type": "stream",
     "text": [
      "*************************** start training...\n",
      "\n",
      "================================================================================2021-02_10 15:40:52\n",
      "EPOCH = 1 loss: 45.688, acc: 0.801, val_loss: 20.320, val_acc: 0.886\n",
      "\n",
      "================================================================================2021-02_10 15:41:16\n",
      "EPOCH = 2 loss: 19.270, acc: 0.883, val_loss: 17.360, val_acc: 0.886\n",
      "\n",
      "================================================================================2021-02_10 15:41:43\n",
      "EPOCH = 3 loss: 16.447, acc: 0.884, val_loss: 14.993, val_acc: 0.890\n",
      "\n",
      "================================================================================2021-02_10 15:42:07\n",
      "EPOCH = 4 loss: 14.100, acc: 0.893, val_loss: 12.828, val_acc: 0.902\n",
      "\n",
      "================================================================================2021-02_10 15:42:36\n",
      "EPOCH = 5 loss: 11.959, acc: 0.907, val_loss: 10.922, val_acc: 0.915\n",
      "\n",
      "================================================================================2021-02_10 15:43:04\n",
      "EPOCH = 6 loss: 10.118, acc: 0.919, val_loss: 9.352, val_acc: 0.926\n",
      "\n",
      "================================================================================2021-02_10 15:43:30\n",
      "EPOCH = 7 loss: 8.649, acc: 0.931, val_loss: 8.150, val_acc: 0.935\n",
      "\n",
      "================================================================================2021-02_10 15:43:55\n",
      "EPOCH = 8 loss: 7.531, acc: 0.939, val_loss: 7.258, val_acc: 0.941\n",
      "\n",
      "================================================================================2021-02_10 15:44:22\n",
      "EPOCH = 9 loss: 6.677, acc: 0.946, val_loss: 6.583, val_acc: 0.946\n",
      "\n",
      "================================================================================2021-02_10 15:44:49\n",
      "EPOCH = 10 loss: 6.008, acc: 0.951, val_loss: 6.056, val_acc: 0.951\n",
      "\n",
      "================================================================================2021-02_10 15:45:18\n",
      "EPOCH = 11 loss: 5.464, acc: 0.955, val_loss: 5.633, val_acc: 0.953\n",
      "\n",
      "================================================================================2021-02_10 15:45:47\n",
      "EPOCH = 12 loss: 5.010, acc: 0.958, val_loss: 5.284, val_acc: 0.956\n",
      "\n",
      "================================================================================2021-02_10 15:46:15\n",
      "EPOCH = 13 loss: 4.623, acc: 0.961, val_loss: 4.990, val_acc: 0.958\n",
      "\n",
      "================================================================================2021-02_10 15:46:41\n",
      "EPOCH = 14 loss: 4.285, acc: 0.963, val_loss: 4.740, val_acc: 0.959\n",
      "\n",
      "================================================================================2021-02_10 15:47:07\n",
      "EPOCH = 15 loss: 3.990, acc: 0.966, val_loss: 4.525, val_acc: 0.960\n",
      "\n",
      "================================================================================2021-02_10 15:47:32\n",
      "EPOCH = 16 loss: 3.728, acc: 0.968, val_loss: 4.339, val_acc: 0.962\n",
      "\n",
      "================================================================================2021-02_10 15:47:55\n",
      "EPOCH = 17 loss: 3.493, acc: 0.970, val_loss: 4.176, val_acc: 0.963\n",
      "\n",
      "================================================================================2021-02_10 15:48:20\n",
      "EPOCH = 18 loss: 3.281, acc: 0.972, val_loss: 4.032, val_acc: 0.964\n",
      "\n",
      "================================================================================2021-02_10 15:48:44\n",
      "EPOCH = 19 loss: 3.087, acc: 0.973, val_loss: 3.905, val_acc: 0.965\n",
      "\n",
      "================================================================================2021-02_10 15:49:10\n",
      "EPOCH = 20 loss: 2.909, acc: 0.975, val_loss: 3.795, val_acc: 0.966\n",
      "\n",
      "================================================================================2021-02_10 15:49:37\n",
      "EPOCH = 21 loss: 2.744, acc: 0.976, val_loss: 3.691, val_acc: 0.967\n",
      "\n",
      "================================================================================2021-02_10 15:50:01\n",
      "EPOCH = 22 loss: 2.592, acc: 0.978, val_loss: 3.606, val_acc: 0.967\n",
      "\n",
      "================================================================================2021-02_10 15:50:27\n",
      "EPOCH = 23 loss: 2.448, acc: 0.979, val_loss: 3.524, val_acc: 0.968\n",
      "\n",
      "================================================================================2021-02_10 15:50:54\n",
      "EPOCH = 24 loss: 2.317, acc: 0.980, val_loss: 3.456, val_acc: 0.968\n",
      "\n",
      "================================================================================2021-02_10 15:51:19\n",
      "EPOCH = 25 loss: 2.192, acc: 0.981, val_loss: 3.381, val_acc: 0.969\n",
      "\n",
      "================================================================================2021-02_10 15:51:47\n",
      "EPOCH = 26 loss: 2.076, acc: 0.982, val_loss: 3.329, val_acc: 0.969\n",
      "\n",
      "================================================================================2021-02_10 15:52:13\n",
      "EPOCH = 27 loss: 1.965, acc: 0.983, val_loss: 3.278, val_acc: 0.970\n",
      "\n",
      "================================================================================2021-02_10 15:52:40\n",
      "EPOCH = 28 loss: 1.862, acc: 0.984, val_loss: 3.236, val_acc: 0.970\n",
      "\n",
      "================================================================================2021-02_10 15:53:05\n",
      "EPOCH = 29 loss: 1.764, acc: 0.985, val_loss: 3.195, val_acc: 0.971\n",
      "\n",
      "================================================================================2021-02_10 15:53:32\n",
      "EPOCH = 30 loss: 1.671, acc: 0.986, val_loss: 3.159, val_acc: 0.971\n",
      "\n",
      "================================================================================2021-02_10 15:53:59\n",
      "*************************** training finished...\n",
      "*************************** and it costs 0 h 13 min 6.35 s\n",
      "Best val Acc: 0.970863\n"
     ]
    },
    {
     "data": {
      "text/plain": "    epoch       loss       acc   val_loss   val_acc\n0     1.0  45.687649  0.801478  20.319972  0.885931\n1     2.0  19.270487  0.882515  17.359610  0.886046\n2     3.0  16.446749  0.884191  14.992622  0.890471\n3     4.0  14.099821  0.893419  12.827554  0.902364\n4     5.0  11.959304  0.906506  10.921850  0.915174\n5     6.0  10.118494  0.919399   9.352380  0.926360\n6     7.0   8.649001  0.930854   8.150103  0.934836\n7     8.0   7.530997  0.939349   7.258168  0.941337\n8     9.0   6.677365  0.945722   6.582935  0.946342\n9    10.0   6.007839  0.950506   6.055818  0.950501\n10   11.0   5.464437  0.954606   5.632995  0.953218\n11   12.0   5.010489  0.957950   5.284153  0.955965\n12   13.0   4.622941  0.960834   4.990327  0.957904\n13   14.0   4.285432  0.963429   4.739633  0.959177\n14   15.0   3.990457  0.965596   4.524728  0.960348\n15   16.0   3.728434  0.967803   4.338606  0.961539\n16   17.0   3.493265  0.969835   4.175720  0.962785\n17   18.0   3.281112  0.971526   4.032297  0.963835\n18   19.0   3.087202  0.973075   3.904875  0.964902\n19   20.0   2.908959  0.974604   3.794503  0.965694\n20   21.0   2.743989  0.976074   3.690805  0.966660\n21   22.0   2.591643  0.977504   3.606392  0.967307\n22   23.0   2.448340  0.978775   3.523581  0.967721\n23   24.0   2.317027  0.979927   3.455711  0.968222\n24   25.0   2.191622  0.981041   3.381256  0.968691\n25   26.0   2.075960  0.982126   3.329331  0.969128\n26   27.0   1.964940  0.983188   3.278260  0.969544\n27   28.0   1.861808  0.984200   3.236310  0.969904\n28   29.0   1.763881  0.985222   3.194886  0.970553\n29   30.0   1.671001  0.986171   3.159388  0.970863",
      "text/html": "<div>\n<style scoped>\n    .dataframe tbody tr th:only-of-type {\n        vertical-align: middle;\n    }\n\n    .dataframe tbody tr th {\n        vertical-align: top;\n    }\n\n    .dataframe thead th {\n        text-align: right;\n    }\n</style>\n<table border=\"1\" class=\"dataframe\">\n  <thead>\n    <tr style=\"text-align: right;\">\n      <th></th>\n      <th>epoch</th>\n      <th>loss</th>\n      <th>acc</th>\n      <th>val_loss</th>\n      <th>val_acc</th>\n    </tr>\n  </thead>\n  <tbody>\n    <tr>\n      <th>0</th>\n      <td>1.0</td>\n      <td>45.687649</td>\n      <td>0.801478</td>\n      <td>20.319972</td>\n      <td>0.885931</td>\n    </tr>\n    <tr>\n      <th>1</th>\n      <td>2.0</td>\n      <td>19.270487</td>\n      <td>0.882515</td>\n      <td>17.359610</td>\n      <td>0.886046</td>\n    </tr>\n    <tr>\n      <th>2</th>\n      <td>3.0</td>\n      <td>16.446749</td>\n      <td>0.884191</td>\n      <td>14.992622</td>\n      <td>0.890471</td>\n    </tr>\n    <tr>\n      <th>3</th>\n      <td>4.0</td>\n      <td>14.099821</td>\n      <td>0.893419</td>\n      <td>12.827554</td>\n      <td>0.902364</td>\n    </tr>\n    <tr>\n      <th>4</th>\n      <td>5.0</td>\n      <td>11.959304</td>\n      <td>0.906506</td>\n      <td>10.921850</td>\n      <td>0.915174</td>\n    </tr>\n    <tr>\n      <th>5</th>\n      <td>6.0</td>\n      <td>10.118494</td>\n      <td>0.919399</td>\n      <td>9.352380</td>\n      <td>0.926360</td>\n    </tr>\n    <tr>\n      <th>6</th>\n      <td>7.0</td>\n      <td>8.649001</td>\n      <td>0.930854</td>\n      <td>8.150103</td>\n      <td>0.934836</td>\n    </tr>\n    <tr>\n      <th>7</th>\n      <td>8.0</td>\n      <td>7.530997</td>\n      <td>0.939349</td>\n      <td>7.258168</td>\n      <td>0.941337</td>\n    </tr>\n    <tr>\n      <th>8</th>\n      <td>9.0</td>\n      <td>6.677365</td>\n      <td>0.945722</td>\n      <td>6.582935</td>\n      <td>0.946342</td>\n    </tr>\n    <tr>\n      <th>9</th>\n      <td>10.0</td>\n      <td>6.007839</td>\n      <td>0.950506</td>\n      <td>6.055818</td>\n      <td>0.950501</td>\n    </tr>\n    <tr>\n      <th>10</th>\n      <td>11.0</td>\n      <td>5.464437</td>\n      <td>0.954606</td>\n      <td>5.632995</td>\n      <td>0.953218</td>\n    </tr>\n    <tr>\n      <th>11</th>\n      <td>12.0</td>\n      <td>5.010489</td>\n      <td>0.957950</td>\n      <td>5.284153</td>\n      <td>0.955965</td>\n    </tr>\n    <tr>\n      <th>12</th>\n      <td>13.0</td>\n      <td>4.622941</td>\n      <td>0.960834</td>\n      <td>4.990327</td>\n      <td>0.957904</td>\n    </tr>\n    <tr>\n      <th>13</th>\n      <td>14.0</td>\n      <td>4.285432</td>\n      <td>0.963429</td>\n      <td>4.739633</td>\n      <td>0.959177</td>\n    </tr>\n    <tr>\n      <th>14</th>\n      <td>15.0</td>\n      <td>3.990457</td>\n      <td>0.965596</td>\n      <td>4.524728</td>\n      <td>0.960348</td>\n    </tr>\n    <tr>\n      <th>15</th>\n      <td>16.0</td>\n      <td>3.728434</td>\n      <td>0.967803</td>\n      <td>4.338606</td>\n      <td>0.961539</td>\n    </tr>\n    <tr>\n      <th>16</th>\n      <td>17.0</td>\n      <td>3.493265</td>\n      <td>0.969835</td>\n      <td>4.175720</td>\n      <td>0.962785</td>\n    </tr>\n    <tr>\n      <th>17</th>\n      <td>18.0</td>\n      <td>3.281112</td>\n      <td>0.971526</td>\n      <td>4.032297</td>\n      <td>0.963835</td>\n    </tr>\n    <tr>\n      <th>18</th>\n      <td>19.0</td>\n      <td>3.087202</td>\n      <td>0.973075</td>\n      <td>3.904875</td>\n      <td>0.964902</td>\n    </tr>\n    <tr>\n      <th>19</th>\n      <td>20.0</td>\n      <td>2.908959</td>\n      <td>0.974604</td>\n      <td>3.794503</td>\n      <td>0.965694</td>\n    </tr>\n    <tr>\n      <th>20</th>\n      <td>21.0</td>\n      <td>2.743989</td>\n      <td>0.976074</td>\n      <td>3.690805</td>\n      <td>0.966660</td>\n    </tr>\n    <tr>\n      <th>21</th>\n      <td>22.0</td>\n      <td>2.591643</td>\n      <td>0.977504</td>\n      <td>3.606392</td>\n      <td>0.967307</td>\n    </tr>\n    <tr>\n      <th>22</th>\n      <td>23.0</td>\n      <td>2.448340</td>\n      <td>0.978775</td>\n      <td>3.523581</td>\n      <td>0.967721</td>\n    </tr>\n    <tr>\n      <th>23</th>\n      <td>24.0</td>\n      <td>2.317027</td>\n      <td>0.979927</td>\n      <td>3.455711</td>\n      <td>0.968222</td>\n    </tr>\n    <tr>\n      <th>24</th>\n      <td>25.0</td>\n      <td>2.191622</td>\n      <td>0.981041</td>\n      <td>3.381256</td>\n      <td>0.968691</td>\n    </tr>\n    <tr>\n      <th>25</th>\n      <td>26.0</td>\n      <td>2.075960</td>\n      <td>0.982126</td>\n      <td>3.329331</td>\n      <td>0.969128</td>\n    </tr>\n    <tr>\n      <th>26</th>\n      <td>27.0</td>\n      <td>1.964940</td>\n      <td>0.983188</td>\n      <td>3.278260</td>\n      <td>0.969544</td>\n    </tr>\n    <tr>\n      <th>27</th>\n      <td>28.0</td>\n      <td>1.861808</td>\n      <td>0.984200</td>\n      <td>3.236310</td>\n      <td>0.969904</td>\n    </tr>\n    <tr>\n      <th>28</th>\n      <td>29.0</td>\n      <td>1.763881</td>\n      <td>0.985222</td>\n      <td>3.194886</td>\n      <td>0.970553</td>\n    </tr>\n    <tr>\n      <th>29</th>\n      <td>30.0</td>\n      <td>1.671001</td>\n      <td>0.986171</td>\n      <td>3.159388</td>\n      <td>0.970863</td>\n    </tr>\n  </tbody>\n</table>\n</div>"
     },
     "execution_count": 18,
     "metadata": {},
     "output_type": "execute_result"
    }
   ],
   "source": [
    "train_dloader = load_data(data_base_dir + 'train.txt', word_to_id)\n",
    "val_dloader = load_data(data_base_dir + 'val.txt', word_to_id)\n",
    "\n",
    "model = BiLSTM_CRF(len(word_to_id), hidden_size)\n",
    "model = model.to(device)\n",
    "if ngpu > 1:\n",
    "    model = torch.nn.DataParallel(model, device_ids=list(range(ngpu)))  # 设置并行执行  device_ids=[0,1,2,3]\n",
    "\n",
    "optimizer = torch.optim.Adam(model.parameters(), lr=LR)\n",
    "train_model(model, train_dloader, val_dloader, optimizer, num_epochs=EPOCHS, print_every=50)"
   ],
   "metadata": {
    "collapsed": false,
    "pycharm": {
     "name": "#%%\n"
    }
   }
  },
  {
   "cell_type": "code",
   "execution_count": 20,
   "outputs": [
    {
     "data": {
      "text/plain": "<Figure size 432x288 with 1 Axes>",
      "image/png": "[encoded data removed]"
     },
     "metadata": {
      "needs_background": "light"
     },
     "output_type": "display_data"
    },
    {
     "data": {
      "text/plain": "<Figure size 432x288 with 1 Axes>",
      "image/png": "[encoded data removed]"
     },
     "metadata": {
      "needs_background": "light"
     },
     "output_type": "display_data"
    }
   ],
   "source": [
    "# 绘制训练曲线\n",
    "def plot_metric(df_history, metric):\n",
    "    plt.figure()\n",
    "\n",
    "    train_metrics = df_history[metric]\n",
    "    val_metrics = df_history['val_' + metric]  #\n",
    "\n",
    "    epochs = range(1, len(train_metrics) + 1)\n",
    "\n",
    "    plt.plot(epochs, train_metrics, 'bo--')\n",
    "    plt.plot(epochs, val_metrics, 'ro-')  #\n",
    "\n",
    "    plt.title('Training and validation ' + metric)\n",
    "    plt.xlabel(\"Epochs\")\n",
    "    plt.ylabel(metric)\n",
    "    plt.legend([\"train_\" + metric, 'val_' + metric])\n",
    "\n",
    "    plt.savefig(imgs_dir + metric + '.png')  # 保存图片\n",
    "    plt.show()\n",
    "\n",
    "plot_metric(df_history, 'loss')\n",
    "plot_metric(df_history, metric_name)"
   ],
   "metadata": {
    "collapsed": false,
    "pycharm": {
     "name": "#%%\n"
    }
   }
  },
  {
   "cell_type": "markdown",
   "source": [
    "### 5.测试"
   ],
   "metadata": {
    "collapsed": false,
    "pycharm": {
     "name": "#%% md\n"
    }
   }
  },
  {
   "cell_type": "code",
   "execution_count": 21,
   "outputs": [],
   "source": [
    "@torch.no_grad()\n",
    "def eval_step(model, inps, tags):\n",
    "    inps = inps.to(device)\n",
    "    tags = tags.to(device)\n",
    "    mask = torch.logical_not(torch.eq(inps, torch.tensor(0)))  # =>[b, seq_len],每个元素为bool值，如果序列中有pad，则mask相应位置就为False\n",
    "    # mask = mask.type(torch.uint8)\n",
    "    # mask = mask.to(device)\n",
    "\n",
    "    # forward\n",
    "    logits = model(inps)\n",
    "    preds = model.module.crf_decode(logits, mask=mask, inp_logits=True)  # List[List]\n",
    "    pred_without_pad = []\n",
    "    for pred in preds:\n",
    "        pred_without_pad.extend(pred)\n",
    "    tags_without_pad = torch.masked_select(tags, mask).cpu()  # 返回是1维张量\n",
    "\n",
    "    return torch.tensor(pred_without_pad), tags_without_pad"
   ],
   "metadata": {
    "collapsed": false,
    "pycharm": {
     "name": "#%%\n"
    }
   }
  },
  {
   "cell_type": "code",
   "execution_count": 22,
   "outputs": [],
   "source": [
    "def evaluate(model, test_dloader):\n",
    "    model.eval()  # 设置eval mode\n",
    "    starttime = time.time()\n",
    "    print('*' * 27, 'start evaluating...')\n",
    "    printbar()\n",
    "    preds, labels = [], []\n",
    "    for step, (inps, tags) in enumerate(tqdm(test_dloader), start=1):\n",
    "        pred, tags = eval_step(model, inps, tags)\n",
    "        preds.append(pred)\n",
    "        labels.append(tags)\n",
    "\n",
    "    y_true = torch.cat(labels, dim=0)\n",
    "    y_pred = torch.cat(preds, dim=0)\n",
    "    endtime = time.time()\n",
    "    print('evaluating costs: {:.2f}s'.format(endtime - starttime))\n",
    "    return y_true.cpu(), y_pred.cpu()"
   ],
   "metadata": {
    "collapsed": false,
    "pycharm": {
     "name": "#%%\n"
    }
   }
  },
  {
   "cell_type": "code",
   "execution_count": 24,
   "outputs": [],
   "source": [
    "def get_metrics(y_true, y_pred):\n",
    "    average = 'weighted'\n",
    "    print('*'*27, average+'_precision_score:{:.3f}'.format(precision_score(y_true, y_pred, average=average)))\n",
    "    print('*'*27, average+'_recall_score:{:.3}'.format(recall_score(y_true, y_pred, average=average)))\n",
    "    print('*'*27, average+'_f1_score:{:.3f}'.format(f1_score(y_true, y_pred, average=average)))\n",
    "\n",
    "    print('*'*27, 'accuracy:{:.3f}'.format(accuracy_score(y_true, y_pred)))\n",
    "    print('*'*27, 'confusion_matrix:\\n', confusion_matrix(y_true, y_pred))\n",
    "    print('*'*27, 'classification_report:\\n', classification_report(y_true, y_pred))"
   ],
   "metadata": {
    "collapsed": false,
    "pycharm": {
     "name": "#%%\n"
    }
   }
  },
  {
   "cell_type": "markdown",
   "source": [
    "### 开始测试"
   ],
   "metadata": {
    "collapsed": false
   }
  },
  {
   "cell_type": "code",
   "execution_count": 35,
   "outputs": [
    {
     "name": "stdout",
     "output_type": "stream",
     "text": [
      "vocab size: 4314\n",
      "*************************** Loading model weights...\n",
      "*************************** Model loaded success!\n",
      "*************************** start evaluating...\n",
      "\n",
      "================================================================================2021-02_10 16:03:36\n",
      "evaluating costs: 5.12s\n",
      "*************************** weighted_precision_score:0.969\n",
      "*************************** weighted_recall_score:0.97\n",
      "*************************** weighted_f1_score:0.969\n",
      "*************************** accuracy:0.970\n",
      "*************************** confusion_matrix:\n",
      " [[166169    168    277     53    158    138    797]\n",
      " [   353   2533    110     39      3    124     18]\n",
      " [   540     50   3481      4     66      1    211]\n",
      " [   193     40      5   1414     16      6      5]\n",
      " [   328     12     61     12   2799      0     13]\n",
      " [   318    129      8     16      1   1464     83]\n",
      " [  1091     11    234      4     36     50   6540]]\n",
      "*************************** classification_report:\n",
      "               precision    recall  f1-score   support\n",
      "\n",
      "           1       0.98      0.99      0.99    167760\n",
      "           2       0.86      0.80      0.83      3180\n",
      "           3       0.83      0.80      0.82      4353\n",
      "           4       0.92      0.84      0.88      1679\n",
      "           5       0.91      0.87      0.89      3225\n",
      "           6       0.82      0.73      0.77      2019\n",
      "           7       0.85      0.82      0.84      7966\n",
      "\n",
      "    accuracy                           0.97    190182\n",
      "   macro avg       0.88      0.83      0.86    190182\n",
      "weighted avg       0.97      0.97      0.97    190182\n",
      "\n"
     ]
    },
    {
     "name": "stderr",
     "output_type": "stream",
     "text": [
      "100%|██████████| 10/10 [00:05<00:00,  1.96it/s]\n"
     ]
    }
   ],
   "source": [
    "print('vocab size:', len(word_to_id))\n",
    "\n",
    "checkpoint = save_dir + 'epoch030_valacc0.971_ckpt.tar'\n",
    "\n",
    "# 加载测试数据\n",
    "test_dloader = load_data(data_base_dir + 'test.txt', word_to_id)\n",
    "\n",
    "# 加载模型\n",
    "reloaded_model = BiLSTM_CRF(len(word_to_id), hidden_size)\n",
    "reloaded_model = reloaded_model.to(device)\n",
    "if ngpu > 1:\n",
    "    reloaded_model = torch.nn.DataParallel(reloaded_model, device_ids=list(range(ngpu)))  # 设置并行执行\n",
    "\n",
    "print('*' * 27, 'Loading model weights...')\n",
    "# ckpt = torch.load(checkpoint, map_location=device)  # dict  save在CPU 加载到GPU\n",
    "ckpt = torch.load(checkpoint)  # dict  save在GPU 加载到 GPU\n",
    "model_sd = ckpt['net']\n",
    "if device.type == 'cuda' and ngpu > 1:\n",
    "    reloaded_model.module.load_state_dict(model_sd)\n",
    "else:\n",
    "    reloaded_model.load_state_dict(model_sd)\n",
    "print('*' * 27, 'Model loaded success!')\n",
    "\n",
    "y_true, y_pred = evaluate(reloaded_model, test_dloader)\n",
    "get_metrics(y_true, y_pred)"
   ],
   "metadata": {
    "collapsed": false,
    "pycharm": {
     "name": "#%%\n"
    }
   }
  },
  {
   "cell_type": "markdown",
   "source": [
    "## 6.预测"
   ],
   "metadata": {
    "collapsed": false,
    "pycharm": {
     "name": "#%% md\n"
    }
   }
  },
  {
   "cell_type": "code",
   "source": [
    "def predict(model, sentence, word_to_id):\n",
    "    inp_ids = [word_to_id[w] if w in word_to_id else unk_id for w in sentence]\n",
    "    inp_ids = torch.tensor(inp_ids, dtype=torch.long).unsqueeze(dim=0)\n",
    "    # print(inp_ids.shape)  # [56, 60]\n",
    "    # forward\n",
    "    logits = model(inp_ids)\n",
    "    preds = model.crf_decode(logits, inp_logits=True)  # List[List]\n",
    "    pred_ids = preds[0]\n",
    "    pred_tags = [id_to_tag[tag_id] for tag_id in pred_ids]\n",
    "\n",
    "    return pred_ids, pred_tags"
   ],
   "metadata": {
    "collapsed": false,
    "pycharm": {
     "name": "#%%"
    }
   },
   "execution_count": 36,
   "outputs": []
  },
  {
   "cell_type": "code",
   "execution_count": 37,
   "outputs": [],
   "source": [
    "def get_entity(pred_tags, pred_ids, sentence):\n",
    "    ner = {'per':[], 'loc':[], 'org':[]}\n",
    "    i = 0\n",
    "    while i<len(pred_tags):\n",
    "        if pred_tags[i]=='O' or pred_ids[i]==0:\n",
    "            i += 1\n",
    "        elif pred_tags[i]=='B-PER':\n",
    "            j = i\n",
    "            while j+1<len(pred_tags) and pred_tags[j+1]=='I-PER':\n",
    "                j += 1\n",
    "            #print('**********************', i, j)\n",
    "            per = [w for w in sentence[i:j+1]]\n",
    "            ner['per'].append(''.join(per))\n",
    "            i = j+1\n",
    "        elif pred_tags[i]=='B-LOC':\n",
    "            j = i\n",
    "            while j+1<len(pred_tags) and pred_tags[j+1]=='I-LOC':\n",
    "                j += 1\n",
    "            #print('**********************', i, j)\n",
    "            loc = [w for w in sentence[i:j+1]]\n",
    "            ner['loc'].append(''.join(loc))\n",
    "            i = j+1\n",
    "        elif pred_tags[i]=='B-ORG':\n",
    "            j = i\n",
    "            while j+1<len(pred_tags) and pred_tags[j+1]=='I-ORG':\n",
    "                j += 1\n",
    "            #print('**********************', i, j)\n",
    "            org = [w for w in sentence[i:j+1]]\n",
    "            ner['org'].append(''.join(org))\n",
    "            i = j+1\n",
    "        else:\n",
    "            i += 1\n",
    "    return ner"
   ],
   "metadata": {
    "collapsed": false,
    "pycharm": {
     "name": "#%%\n"
    }
   }
  },
  {
   "cell_type": "markdown",
   "source": [
    "### 开始预测"
   ],
   "metadata": {
    "collapsed": false,
    "pycharm": {
     "name": "#%% md\n"
    }
   }
  },
  {
   "cell_type": "code",
   "execution_count": 40,
   "outputs": [
    {
     "name": "stdout",
     "output_type": "stream",
     "text": [
      "*************************** Loading model weights...\n",
      "*************************** Model loaded success!\n",
      "********** sentence: 日本知名学者石川一成先生曾撰文说：面对宝顶大佛湾造像，看中华民族囊括外来文化的能力和创造能力，不禁使我目瞪口呆。\n",
      "********** pred_ner: {'per': ['石川一成'], 'loc': ['日本', '中华'], 'org': []} \n",
      "\n",
      "********** sentence: 5月12日，北京市怀柔县民政局、畜牧局领导来到驻守在偏远山区的武警北京一总队十支队十四中队。\n",
      "********** pred_ner: {'per': [], 'loc': [], 'org': ['北京市怀柔县民政局', '畜牧局', '武警北京一总队十支队十四中队']} \n",
      "\n",
      "********** sentence: 粉碎“四人帮”后，我家中的长辈们开始和溥杰先生恢复了联系。\n",
      "********** pred_ner: {'per': ['溥杰'], 'loc': [], 'org': []} \n",
      "\n",
      "********** sentence: 到了宋代，河西走廊为西夏所有，敦煌废弃，随着海上通商的兴旺，丝绸之路也就日渐衰落。\n",
      "********** pred_ner: {'per': [], 'loc': ['河西走廊', '西夏', '敦煌'], 'org': []} \n",
      "\n",
      "********** sentence: 丁丑盛夏之日，我冒着关内难挨的酷暑来到狼牙山下。\n",
      "********** pred_ner: {'per': ['丁丑盛夏'], 'loc': ['狼牙山'], 'org': []} \n",
      "\n",
      "********** sentence: 金田集团向县政府递交了请求兼并蔡塘村的“工程建议书”报告，很快，报告就得到批准。\n",
      "********** pred_ner: {'per': [], 'loc': ['蔡塘村'], 'org': ['金田集团']} \n",
      "\n"
     ]
    }
   ],
   "source": [
    "# 加载模型\n",
    "reloaded_model = BiLSTM_CRF(len(word_to_id), hidden_size)\n",
    "print('*' * 27, 'Loading model weights...')\n",
    "# ckpt = torch.load(checkpoint, map_location=device)  # dict  save在CPU 加载到GPU\n",
    "ckpt = torch.load(checkpoint)  # dict  save在GPU 加载到 GPU\n",
    "model_sd = ckpt['net']\n",
    "reloaded_model.load_state_dict(model_sd)\n",
    "print('*' * 27, 'Model loaded success!')\n",
    "\n",
    "reloaded_model.eval()  # 设置eval mode\n",
    "\n",
    "sentences = [\n",
    "        '日本知名学者石川一成先生曾撰文说：面对宝顶大佛湾造像，看中华民族囊括外来文化的能力和创造能力，不禁使我目瞪口呆。',\n",
    "        '5月12日，北京市怀柔县民政局、畜牧局领导来到驻守在偏远山区的武警北京一总队十支队十四中队。',\n",
    "        '粉碎“四人帮”后，我家中的长辈们开始和溥杰先生恢复了联系。',\n",
    "        '到了宋代，河西走廊为西夏所有，敦煌废弃，随着海上通商的兴旺，丝绸之路也就日渐衰落。',\n",
    "        '丁丑盛夏之日，我冒着关内难挨的酷暑来到狼牙山下。',\n",
    "        '金田集团向县政府递交了请求兼并蔡塘村的“工程建议书”报告，很快，报告就得到批准。'\n",
    "]\n",
    "\n",
    "for sentence in sentences:\n",
    "    pred_ids, pred_tags = predict(reloaded_model, sentence, word_to_id)\n",
    "    pred_ner = get_entity(pred_tags, pred_ids, sentence)  # 抽取实体\n",
    "    print('*' * 10, 'sentence:', sentence)\n",
    "    print('*' * 10, 'pred_ner:', pred_ner, '\\n')\n"
   ],
   "metadata": {
    "collapsed": false,
    "pycharm": {
     "name": "#%%\n"
    }
   }
  }
 ],
 "metadata": {
  "kernelspec": {
   "display_name": "Python 3",
   "language": "python",
   "name": "python3"
  },
  "language_info": {
   "codemirror_mode": {
    "name": "ipython",
    "version": 2
   },
   "file_extension": ".py",
   "mimetype": "text/x-python",
   "name": "python",
   "nbconvert_exporter": "python",
   "pygments_lexer": "ipython2",
   "version": "2.7.6"
  }
 },
 "nbformat": 4,
 "nbformat_minor": 0
}