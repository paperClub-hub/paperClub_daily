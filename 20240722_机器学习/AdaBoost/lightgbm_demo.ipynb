{
 "cells": [
  {
   "cell_type": "markdown",
   "metadata": {
    "collapsed": true,
    "pycharm": {
     "name": "#%% md\n"
    }
   },
   "source": [
    "数据说明：某城市各企业用电数据，从2015-1-1至2016-8-31，任务是预测未来一个月（即2016-9月）的用电情况\n",
    "\n",
    "方法：特征工程+lightGBM\n",
    "\n",
    "lightGBM 安装：pip3 install lightgbm\n",
    "\n",
    "lightGBM官方文档：https://lightgbm.readthedocs.io/en/latest/Python-Intro.html\n",
    "\n",
    "lightGBM有2种Python API：1种是 sklearn 风格的Python API，还有一套自己原生的Python API\n",
    "\n",
    "下面是使用 sklearn 风格 Python API的示例"
   ]
  },
  {
   "cell_type": "code",
   "execution_count": 1,
   "outputs": [
    {
     "name": "stdout",
     "output_type": "stream",
     "text": [
      "/home/xijian\n"
     ]
    }
   ],
   "source": [
    "import pandas as pd\n",
    "from matplotlib import pyplot as plt\n",
    "import os\n",
    "print(os.getcwd())\n",
    "cwd = '/home/xijian/pycharm_projects/Magic-NLPer/MachineLearning/AdaBoost/'\n",
    "data_dir = cwd + 'data/'"
   ],
   "metadata": {
    "collapsed": false,
    "pycharm": {
     "name": "#%%\n"
    }
   }
  },
  {
   "cell_type": "code",
   "execution_count": 4,
   "outputs": [
    {
     "data": {
      "text/plain": "   user_id record_date  power_consumption\n0        1  2015-01-01             1135.0\n1        1  2015-01-02              570.0\n2        1  2015-01-03             3418.0\n3        1  2015-01-04             3968.0\n4        1  2015-01-05             3986.0",
      "text/html": "<div>\n<style scoped>\n    .dataframe tbody tr th:only-of-type {\n        vertical-align: middle;\n    }\n\n    .dataframe tbody tr th {\n        vertical-align: top;\n    }\n\n    .dataframe thead th {\n        text-align: right;\n    }\n</style>\n<table border=\"1\" class=\"dataframe\">\n  <thead>\n    <tr style=\"text-align: right;\">\n      <th></th>\n      <th>user_id</th>\n      <th>record_date</th>\n      <th>power_consumption</th>\n    </tr>\n  </thead>\n  <tbody>\n    <tr>\n      <th>0</th>\n      <td>1</td>\n      <td>2015-01-01</td>\n      <td>1135.0</td>\n    </tr>\n    <tr>\n      <th>1</th>\n      <td>1</td>\n      <td>2015-01-02</td>\n      <td>570.0</td>\n    </tr>\n    <tr>\n      <th>2</th>\n      <td>1</td>\n      <td>2015-01-03</td>\n      <td>3418.0</td>\n    </tr>\n    <tr>\n      <th>3</th>\n      <td>1</td>\n      <td>2015-01-04</td>\n      <td>3968.0</td>\n    </tr>\n    <tr>\n      <th>4</th>\n      <td>1</td>\n      <td>2015-01-05</td>\n      <td>3986.0</td>\n    </tr>\n  </tbody>\n</table>\n</div>"
     },
     "execution_count": 4,
     "metadata": {},
     "output_type": "execute_result"
    }
   ],
   "source": [
    "# 加载数据\n",
    "df = pd.read_csv(data_dir + 'tianchi_power_AI.csv')\n",
    "# 格式转换  将时间字符串转换为pandas认识的时间字段/列\n",
    "df['record_date'] = pd.to_datetime(df['record_date'])\n",
    "df.head()"
   ],
   "metadata": {
    "collapsed": false,
    "pycharm": {
     "name": "#%%\n"
    }
   }
  },
  {
   "cell_type": "code",
   "execution_count": 6,
   "outputs": [
    {
     "name": "stdout",
     "output_type": "stream",
     "text": [
      "2015-01-01 00:00:00\n",
      "2016-08-31 00:00:00\n"
     ]
    },
    {
     "data": {
      "text/plain": "  record_date  power_consumption\n0  2015-01-01          2900575.0\n1  2015-01-02          3158211.0\n2  2015-01-03          3596487.0\n3  2015-01-04          3939672.0\n4  2015-01-05          4101790.0",
      "text/html": "<div>\n<style scoped>\n    .dataframe tbody tr th:only-of-type {\n        vertical-align: middle;\n    }\n\n    .dataframe tbody tr th {\n        vertical-align: top;\n    }\n\n    .dataframe thead th {\n        text-align: right;\n    }\n</style>\n<table border=\"1\" class=\"dataframe\">\n  <thead>\n    <tr style=\"text-align: right;\">\n      <th></th>\n      <th>record_date</th>\n      <th>power_consumption</th>\n    </tr>\n  </thead>\n  <tbody>\n    <tr>\n      <th>0</th>\n      <td>2015-01-01</td>\n      <td>2900575.0</td>\n    </tr>\n    <tr>\n      <th>1</th>\n      <td>2015-01-02</td>\n      <td>3158211.0</td>\n    </tr>\n    <tr>\n      <th>2</th>\n      <td>2015-01-03</td>\n      <td>3596487.0</td>\n    </tr>\n    <tr>\n      <th>3</th>\n      <td>2015-01-04</td>\n      <td>3939672.0</td>\n    </tr>\n    <tr>\n      <th>4</th>\n      <td>2015-01-05</td>\n      <td>4101790.0</td>\n    </tr>\n  </tbody>\n</table>\n</div>"
     },
     "execution_count": 6,
     "metadata": {},
     "output_type": "execute_result"
    }
   ],
   "source": [
    "# 按每年每个月分组求和\n",
    "base_df = df[['record_date', 'power_consumption']].groupby(by='record_date').agg('sum')\n",
    "base_df = base_df.reset_index()\n",
    "print(base_df['record_date'].min())\n",
    "print(base_df['record_date'].max())\n",
    "base_df.head()"
   ],
   "metadata": {
    "collapsed": false,
    "pycharm": {
     "name": "#%%\n"
    }
   }
  },
  {
   "cell_type": "markdown",
   "source": [
    "### 特征工程\n",
    "\n",
    "直接对每天的总量进行回归拟合，先提取用以回归的特征"
   ],
   "metadata": {
    "collapsed": false,
    "pycharm": {
     "name": "#%% md\n"
    }
   }
  },
  {
   "cell_type": "code",
   "execution_count": 7,
   "outputs": [
    {
     "name": "stderr",
     "output_type": "stream",
     "text": [
      "/usr/local/lib/python3.6/dist-packages/ipykernel_launcher.py:4: SettingWithCopyWarning: \n",
      "A value is trying to be set on a copy of a slice from a DataFrame.\n",
      "Try using .loc[row_indexer,col_indexer] = value instead\n",
      "\n",
      "See the caveats in the documentation: https://pandas.pydata.org/pandas-docs/stable/user_guide/indexing.html#returning-a-view-versus-a-copy\n",
      "  after removing the cwd from sys.path.\n"
     ]
    },
    {
     "data": {
      "text/plain": "    record_date  power_consumption\n578  2016-09-01          4627029.0\n579  2016-09-02          4618467.0\n580  2016-09-03          4490739.0\n581  2016-09-04          4367727.0\n582  2016-09-05          4253298.0",
      "text/html": "<div>\n<style scoped>\n    .dataframe tbody tr th:only-of-type {\n        vertical-align: middle;\n    }\n\n    .dataframe tbody tr th {\n        vertical-align: top;\n    }\n\n    .dataframe thead th {\n        text-align: right;\n    }\n</style>\n<table border=\"1\" class=\"dataframe\">\n  <thead>\n    <tr style=\"text-align: right;\">\n      <th></th>\n      <th>record_date</th>\n      <th>power_consumption</th>\n    </tr>\n  </thead>\n  <tbody>\n    <tr>\n      <th>578</th>\n      <td>2016-09-01</td>\n      <td>4627029.0</td>\n    </tr>\n    <tr>\n      <th>579</th>\n      <td>2016-09-02</td>\n      <td>4618467.0</td>\n    </tr>\n    <tr>\n      <th>580</th>\n      <td>2016-09-03</td>\n      <td>4490739.0</td>\n    </tr>\n    <tr>\n      <th>581</th>\n      <td>2016-09-04</td>\n      <td>4367727.0</td>\n    </tr>\n    <tr>\n      <th>582</th>\n      <td>2016-09-05</td>\n      <td>4253298.0</td>\n    </tr>\n  </tbody>\n</table>\n</div>"
     },
     "execution_count": 7,
     "metadata": {},
     "output_type": "execute_result"
    }
   ],
   "source": [
    "df_test = base_df[ (base_df['record_date']>='2016-08-01') &\n",
    "                   (base_df['record_date']<='2016-08-30')]\n",
    "# Timedelta： 时间差类型\n",
    "df_test['record_date'] = df_test['record_date']+pd.Timedelta('31 days') # 8月日期转9月日期\n",
    "df_test.head()"
   ],
   "metadata": {
    "collapsed": false,
    "pycharm": {
     "name": "#%%\n"
    }
   }
  },
  {
   "cell_type": "code",
   "execution_count": 8,
   "outputs": [
    {
     "data": {
      "text/plain": "  record_date  power_consumption\n0  2015-01-01          2900575.0\n1  2015-01-02          3158211.0\n2  2015-01-03          3596487.0\n3  2015-01-04          3939672.0\n4  2015-01-05          4101790.0",
      "text/html": "<div>\n<style scoped>\n    .dataframe tbody tr th:only-of-type {\n        vertical-align: middle;\n    }\n\n    .dataframe tbody tr th {\n        vertical-align: top;\n    }\n\n    .dataframe thead th {\n        text-align: right;\n    }\n</style>\n<table border=\"1\" class=\"dataframe\">\n  <thead>\n    <tr style=\"text-align: right;\">\n      <th></th>\n      <th>record_date</th>\n      <th>power_consumption</th>\n    </tr>\n  </thead>\n  <tbody>\n    <tr>\n      <th>0</th>\n      <td>2015-01-01</td>\n      <td>2900575.0</td>\n    </tr>\n    <tr>\n      <th>1</th>\n      <td>2015-01-02</td>\n      <td>3158211.0</td>\n    </tr>\n    <tr>\n      <th>2</th>\n      <td>2015-01-03</td>\n      <td>3596487.0</td>\n    </tr>\n    <tr>\n      <th>3</th>\n      <td>2015-01-04</td>\n      <td>3939672.0</td>\n    </tr>\n    <tr>\n      <th>4</th>\n      <td>2015-01-05</td>\n      <td>4101790.0</td>\n    </tr>\n  </tbody>\n</table>\n</div>"
     },
     "execution_count": 8,
     "metadata": {},
     "output_type": "execute_result"
    }
   ],
   "source": [
    "base_df = pd.concat([base_df, df_test]).sort_values(['record_date']) # 包含了2016-9月预测月\n",
    "base_df.head()"
   ],
   "metadata": {
    "collapsed": false,
    "pycharm": {
     "name": "#%%\n"
    }
   }
  },
  {
   "cell_type": "code",
   "execution_count": 9,
   "outputs": [
    {
     "data": {
      "text/plain": "  record_date  power_consumption  dayofweek  dayofyear  day  month  year\n0  2015-01-01          2900575.0          3          1    1      1  2015\n1  2015-01-02          3158211.0          4          2    2      1  2015\n2  2015-01-03          3596487.0          5          3    3      1  2015\n3  2015-01-04          3939672.0          6          4    4      1  2015\n4  2015-01-05          4101790.0          0          5    5      1  2015",
      "text/html": "<div>\n<style scoped>\n    .dataframe tbody tr th:only-of-type {\n        vertical-align: middle;\n    }\n\n    .dataframe tbody tr th {\n        vertical-align: top;\n    }\n\n    .dataframe thead th {\n        text-align: right;\n    }\n</style>\n<table border=\"1\" class=\"dataframe\">\n  <thead>\n    <tr style=\"text-align: right;\">\n      <th></th>\n      <th>record_date</th>\n      <th>power_consumption</th>\n      <th>dayofweek</th>\n      <th>dayofyear</th>\n      <th>day</th>\n      <th>month</th>\n      <th>year</th>\n    </tr>\n  </thead>\n  <tbody>\n    <tr>\n      <th>0</th>\n      <td>2015-01-01</td>\n      <td>2900575.0</td>\n      <td>3</td>\n      <td>1</td>\n      <td>1</td>\n      <td>1</td>\n      <td>2015</td>\n    </tr>\n    <tr>\n      <th>1</th>\n      <td>2015-01-02</td>\n      <td>3158211.0</td>\n      <td>4</td>\n      <td>2</td>\n      <td>2</td>\n      <td>1</td>\n      <td>2015</td>\n    </tr>\n    <tr>\n      <th>2</th>\n      <td>2015-01-03</td>\n      <td>3596487.0</td>\n      <td>5</td>\n      <td>3</td>\n      <td>3</td>\n      <td>1</td>\n      <td>2015</td>\n    </tr>\n    <tr>\n      <th>3</th>\n      <td>2015-01-04</td>\n      <td>3939672.0</td>\n      <td>6</td>\n      <td>4</td>\n      <td>4</td>\n      <td>1</td>\n      <td>2015</td>\n    </tr>\n    <tr>\n      <th>4</th>\n      <td>2015-01-05</td>\n      <td>4101790.0</td>\n      <td>0</td>\n      <td>5</td>\n      <td>5</td>\n      <td>1</td>\n      <td>2015</td>\n    </tr>\n  </tbody>\n</table>\n</div>"
     },
     "execution_count": 9,
     "metadata": {},
     "output_type": "execute_result"
    }
   ],
   "source": [
    "# 提取年、月、日、星期几、一月中的第几天、第几季度等特征\n",
    "base_df['dayofweek'] = base_df['record_date'].apply(lambda x: x.dayofweek)\n",
    "base_df['dayofyear'] = base_df['record_date'].apply(lambda x: x.dayofyear)\n",
    "base_df['day'] = base_df['record_date'].apply(lambda x: x.day)\n",
    "base_df['month'] = base_df['record_date'].apply(lambda x: x.month)\n",
    "base_df['year'] = base_df['record_date'].apply(lambda x: x.year)\n",
    "base_df.head()"
   ],
   "metadata": {
    "collapsed": false,
    "pycharm": {
     "name": "#%%\n"
    }
   }
  },
  {
   "cell_type": "code",
   "execution_count": 10,
   "outputs": [
    {
     "data": {
      "text/plain": "  record_date  power_consumption  dayofweek  dayofyear  day  month  year  \\\n0  2015-01-01          2900575.0          3          1    1      1  2015   \n1  2015-01-02          3158211.0          4          2    2      1  2015   \n2  2015-01-03          3596487.0          5          3    3      1  2015   \n3  2015-01-04          3939672.0          6          4    4      1  2015   \n4  2015-01-05          4101790.0          0          5    5      1  2015   \n\n   season  \n0       1  \n1       1  \n2       1  \n3       1  \n4       1  ",
      "text/html": "<div>\n<style scoped>\n    .dataframe tbody tr th:only-of-type {\n        vertical-align: middle;\n    }\n\n    .dataframe tbody tr th {\n        vertical-align: top;\n    }\n\n    .dataframe thead th {\n        text-align: right;\n    }\n</style>\n<table border=\"1\" class=\"dataframe\">\n  <thead>\n    <tr style=\"text-align: right;\">\n      <th></th>\n      <th>record_date</th>\n      <th>power_consumption</th>\n      <th>dayofweek</th>\n      <th>dayofyear</th>\n      <th>day</th>\n      <th>month</th>\n      <th>year</th>\n      <th>season</th>\n    </tr>\n  </thead>\n  <tbody>\n    <tr>\n      <th>0</th>\n      <td>2015-01-01</td>\n      <td>2900575.0</td>\n      <td>3</td>\n      <td>1</td>\n      <td>1</td>\n      <td>1</td>\n      <td>2015</td>\n      <td>1</td>\n    </tr>\n    <tr>\n      <th>1</th>\n      <td>2015-01-02</td>\n      <td>3158211.0</td>\n      <td>4</td>\n      <td>2</td>\n      <td>2</td>\n      <td>1</td>\n      <td>2015</td>\n      <td>1</td>\n    </tr>\n    <tr>\n      <th>2</th>\n      <td>2015-01-03</td>\n      <td>3596487.0</td>\n      <td>5</td>\n      <td>3</td>\n      <td>3</td>\n      <td>1</td>\n      <td>2015</td>\n      <td>1</td>\n    </tr>\n    <tr>\n      <th>3</th>\n      <td>2015-01-04</td>\n      <td>3939672.0</td>\n      <td>6</td>\n      <td>4</td>\n      <td>4</td>\n      <td>1</td>\n      <td>2015</td>\n      <td>1</td>\n    </tr>\n    <tr>\n      <th>4</th>\n      <td>2015-01-05</td>\n      <td>4101790.0</td>\n      <td>0</td>\n      <td>5</td>\n      <td>5</td>\n      <td>1</td>\n      <td>2015</td>\n      <td>1</td>\n    </tr>\n  </tbody>\n</table>\n</div>"
     },
     "execution_count": 10,
     "metadata": {},
     "output_type": "execute_result"
    }
   ],
   "source": [
    "# 映射到第几季度\n",
    "def map_season(month):\n",
    "    month_dict = {1:1, 2:1, 3:1, 4:2, 5:2, 6:2, 7:3, 8:3, 9:3, 10:4, 11:4, 12:4}\n",
    "    return month_dict[month]\n",
    "\n",
    "base_df['season'] = base_df['month'].apply(lambda x: map_season(x))\n",
    "base_df.head()"
   ],
   "metadata": {
    "collapsed": false,
    "pycharm": {
     "name": "#%%\n"
    }
   }
  },
  {
   "cell_type": "code",
   "execution_count": 11,
   "outputs": [
    {
     "name": "stdout",
     "output_type": "stream",
     "text": [
      "                    mean            std\n",
      "year month                             \n",
      "2015 1      3.961383e+06  303629.486622\n",
      "     2      2.795163e+06  769697.864999\n",
      "     3      3.478852e+06  564753.747993\n",
      "     4      3.768333e+06  190787.832757\n",
      "     5      3.755262e+06  269088.249265\n"
     ]
    },
    {
     "data": {
      "text/plain": "   year  month          mean            std\n0  2015      1  3.961383e+06  303629.486622\n1  2015      2  2.795163e+06  769697.864999\n2  2015      3  3.478852e+06  564753.747993\n3  2015      4  3.768333e+06  190787.832757\n4  2015      5  3.755262e+06  269088.249265",
      "text/html": "<div>\n<style scoped>\n    .dataframe tbody tr th:only-of-type {\n        vertical-align: middle;\n    }\n\n    .dataframe tbody tr th {\n        vertical-align: top;\n    }\n\n    .dataframe thead th {\n        text-align: right;\n    }\n</style>\n<table border=\"1\" class=\"dataframe\">\n  <thead>\n    <tr style=\"text-align: right;\">\n      <th></th>\n      <th>year</th>\n      <th>month</th>\n      <th>mean</th>\n      <th>std</th>\n    </tr>\n  </thead>\n  <tbody>\n    <tr>\n      <th>0</th>\n      <td>2015</td>\n      <td>1</td>\n      <td>3.961383e+06</td>\n      <td>303629.486622</td>\n    </tr>\n    <tr>\n      <th>1</th>\n      <td>2015</td>\n      <td>2</td>\n      <td>2.795163e+06</td>\n      <td>769697.864999</td>\n    </tr>\n    <tr>\n      <th>2</th>\n      <td>2015</td>\n      <td>3</td>\n      <td>3.478852e+06</td>\n      <td>564753.747993</td>\n    </tr>\n    <tr>\n      <th>3</th>\n      <td>2015</td>\n      <td>4</td>\n      <td>3.768333e+06</td>\n      <td>190787.832757</td>\n    </tr>\n    <tr>\n      <th>4</th>\n      <td>2015</td>\n      <td>5</td>\n      <td>3.755262e+06</td>\n      <td>269088.249265</td>\n    </tr>\n  </tbody>\n</table>\n</div>"
     },
     "execution_count": 11,
     "metadata": {},
     "output_type": "execute_result"
    }
   ],
   "source": [
    "# 按每年每月分组 计算统计信息：均值、标准差\n",
    "base_df_stats = base_df[ ['power_consumption', 'year', 'month'] ].groupby(by=['year', 'month']).agg(['mean', 'std'])\n",
    "base_df_stats.columns = base_df_stats.columns.droplevel(0)\n",
    "print(base_df_stats.head())\n",
    "base_df_stats = base_df_stats.reset_index()\n",
    "base_df_stats.head()"
   ],
   "metadata": {
    "collapsed": false,
    "pycharm": {
     "name": "#%%\n"
    }
   }
  },
  {
   "cell_type": "code",
   "execution_count": 16,
   "outputs": [
    {
     "data": {
      "text/plain": "   year  month          mean            std      1_m_mean      2_m_mean  \\\n0  2015      1  3.961383e+06  303629.486622           NaN           NaN   \n1  2015      2  2.795163e+06  769697.864999  3.961383e+06           NaN   \n2  2015      3  3.478852e+06  564753.747993  2.795163e+06  3.961383e+06   \n3  2015      4  3.768333e+06  190787.832757  3.478852e+06  2.795163e+06   \n4  2015      5  3.755262e+06  269088.249265  3.768333e+06  3.478852e+06   \n\n         1_m_std        2_m_std  \n0            NaN            NaN  \n1  303629.486622            NaN  \n2  769697.864999  303629.486622  \n3  564753.747993  769697.864999  \n4  190787.832757  564753.747993  ",
      "text/html": "<div>\n<style scoped>\n    .dataframe tbody tr th:only-of-type {\n        vertical-align: middle;\n    }\n\n    .dataframe tbody tr th {\n        vertical-align: top;\n    }\n\n    .dataframe thead th {\n        text-align: right;\n    }\n</style>\n<table border=\"1\" class=\"dataframe\">\n  <thead>\n    <tr style=\"text-align: right;\">\n      <th></th>\n      <th>year</th>\n      <th>month</th>\n      <th>mean</th>\n      <th>std</th>\n      <th>1_m_mean</th>\n      <th>2_m_mean</th>\n      <th>1_m_std</th>\n      <th>2_m_std</th>\n    </tr>\n  </thead>\n  <tbody>\n    <tr>\n      <th>0</th>\n      <td>2015</td>\n      <td>1</td>\n      <td>3.961383e+06</td>\n      <td>303629.486622</td>\n      <td>NaN</td>\n      <td>NaN</td>\n      <td>NaN</td>\n      <td>NaN</td>\n    </tr>\n    <tr>\n      <th>1</th>\n      <td>2015</td>\n      <td>2</td>\n      <td>2.795163e+06</td>\n      <td>769697.864999</td>\n      <td>3.961383e+06</td>\n      <td>NaN</td>\n      <td>303629.486622</td>\n      <td>NaN</td>\n    </tr>\n    <tr>\n      <th>2</th>\n      <td>2015</td>\n      <td>3</td>\n      <td>3.478852e+06</td>\n      <td>564753.747993</td>\n      <td>2.795163e+06</td>\n      <td>3.961383e+06</td>\n      <td>769697.864999</td>\n      <td>303629.486622</td>\n    </tr>\n    <tr>\n      <th>3</th>\n      <td>2015</td>\n      <td>4</td>\n      <td>3.768333e+06</td>\n      <td>190787.832757</td>\n      <td>3.478852e+06</td>\n      <td>2.795163e+06</td>\n      <td>564753.747993</td>\n      <td>769697.864999</td>\n    </tr>\n    <tr>\n      <th>4</th>\n      <td>2015</td>\n      <td>5</td>\n      <td>3.755262e+06</td>\n      <td>269088.249265</td>\n      <td>3.768333e+06</td>\n      <td>3.478852e+06</td>\n      <td>190787.832757</td>\n      <td>564753.747993</td>\n    </tr>\n  </tbody>\n</table>\n</div>"
     },
     "execution_count": 16,
     "metadata": {},
     "output_type": "execute_result"
    }
   ],
   "source": [
    "base_df_stats['1_m_mean'] = base_df_stats['mean'].shift(1) # 向下移动1\n",
    "base_df_stats['2_m_mean'] = base_df_stats['mean'].shift(2) # 向下移动2\n",
    "base_df_stats['1_m_std'] = base_df_stats['std'].shift(1) # 向下移动1\n",
    "base_df_stats['2_m_std'] = base_df_stats['std'].shift(2) # 向下移动2\n",
    "base_df_stats.head()"
   ],
   "metadata": {
    "collapsed": false,
    "pycharm": {
     "name": "#%%\n"
    }
   }
  },
  {
   "cell_type": "code",
   "execution_count": 17,
   "outputs": [
    {
     "name": "stdout",
     "output_type": "stream",
     "text": [
      "  record_date  power_consumption  dayofweek  dayofyear  day  month  year  \\\n",
      "0  2015-01-01          2900575.0          3          1    1      1  2015   \n",
      "1  2015-01-02          3158211.0          4          2    2      1  2015   \n",
      "2  2015-01-03          3596487.0          5          3    3      1  2015   \n",
      "3  2015-01-04          3939672.0          6          4    4      1  2015   \n",
      "4  2015-01-05          4101790.0          0          5    5      1  2015   \n",
      "\n",
      "   season  1_m_mean  2_m_mean  1_m_std  2_m_std  \n",
      "0       1       NaN       NaN      NaN      NaN  \n",
      "1       1       NaN       NaN      NaN      NaN  \n",
      "2       1       NaN       NaN      NaN      NaN  \n",
      "3       1       NaN       NaN      NaN      NaN  \n",
      "4       1       NaN       NaN      NaN      NaN  \n"
     ]
    },
    {
     "data": {
      "text/plain": "   record_date  power_consumption  dayofweek  dayofyear  day  month  year  \\\n59  2015-03-01          2900464.0          6         60    1      3  2015   \n60  2015-03-02          3334082.0          0         61    2      3  2015   \n61  2015-03-03          3492606.0          1         62    3      3  2015   \n62  2015-03-04          3597890.0          2         63    4      3  2015   \n63  2015-03-05          1798044.0          3         64    5      3  2015   \n\n    season      1_m_mean      2_m_mean        1_m_std        2_m_std  \n59       1  2.795163e+06  3.961383e+06  769697.864999  303629.486622  \n60       1  2.795163e+06  3.961383e+06  769697.864999  303629.486622  \n61       1  2.795163e+06  3.961383e+06  769697.864999  303629.486622  \n62       1  2.795163e+06  3.961383e+06  769697.864999  303629.486622  \n63       1  2.795163e+06  3.961383e+06  769697.864999  303629.486622  ",
      "text/html": "<div>\n<style scoped>\n    .dataframe tbody tr th:only-of-type {\n        vertical-align: middle;\n    }\n\n    .dataframe tbody tr th {\n        vertical-align: top;\n    }\n\n    .dataframe thead th {\n        text-align: right;\n    }\n</style>\n<table border=\"1\" class=\"dataframe\">\n  <thead>\n    <tr style=\"text-align: right;\">\n      <th></th>\n      <th>record_date</th>\n      <th>power_consumption</th>\n      <th>dayofweek</th>\n      <th>dayofyear</th>\n      <th>day</th>\n      <th>month</th>\n      <th>year</th>\n      <th>season</th>\n      <th>1_m_mean</th>\n      <th>2_m_mean</th>\n      <th>1_m_std</th>\n      <th>2_m_std</th>\n    </tr>\n  </thead>\n  <tbody>\n    <tr>\n      <th>59</th>\n      <td>2015-03-01</td>\n      <td>2900464.0</td>\n      <td>6</td>\n      <td>60</td>\n      <td>1</td>\n      <td>3</td>\n      <td>2015</td>\n      <td>1</td>\n      <td>2.795163e+06</td>\n      <td>3.961383e+06</td>\n      <td>769697.864999</td>\n      <td>303629.486622</td>\n    </tr>\n    <tr>\n      <th>60</th>\n      <td>2015-03-02</td>\n      <td>3334082.0</td>\n      <td>0</td>\n      <td>61</td>\n      <td>2</td>\n      <td>3</td>\n      <td>2015</td>\n      <td>1</td>\n      <td>2.795163e+06</td>\n      <td>3.961383e+06</td>\n      <td>769697.864999</td>\n      <td>303629.486622</td>\n    </tr>\n    <tr>\n      <th>61</th>\n      <td>2015-03-03</td>\n      <td>3492606.0</td>\n      <td>1</td>\n      <td>62</td>\n      <td>3</td>\n      <td>3</td>\n      <td>2015</td>\n      <td>1</td>\n      <td>2.795163e+06</td>\n      <td>3.961383e+06</td>\n      <td>769697.864999</td>\n      <td>303629.486622</td>\n    </tr>\n    <tr>\n      <th>62</th>\n      <td>2015-03-04</td>\n      <td>3597890.0</td>\n      <td>2</td>\n      <td>63</td>\n      <td>4</td>\n      <td>3</td>\n      <td>2015</td>\n      <td>1</td>\n      <td>2.795163e+06</td>\n      <td>3.961383e+06</td>\n      <td>769697.864999</td>\n      <td>303629.486622</td>\n    </tr>\n    <tr>\n      <th>63</th>\n      <td>2015-03-05</td>\n      <td>1798044.0</td>\n      <td>3</td>\n      <td>64</td>\n      <td>5</td>\n      <td>3</td>\n      <td>2015</td>\n      <td>1</td>\n      <td>2.795163e+06</td>\n      <td>3.961383e+06</td>\n      <td>769697.864999</td>\n      <td>303629.486622</td>\n    </tr>\n  </tbody>\n</table>\n</div>"
     },
     "execution_count": 17,
     "metadata": {},
     "output_type": "execute_result"
    }
   ],
   "source": [
    "data_df = pd.merge(base_df, base_df_stats[ ['year', 'month', '1_m_mean', '2_m_mean', '1_m_std', '2_m_std'] ],\n",
    "                   how='inner', on=['year', 'month'])\n",
    "print(data_df.head())\n",
    "data_df = data_df[~pd.isnull(data_df['2_m_mean'])] # 去掉Nan数据\n",
    "data_df.head()"
   ],
   "metadata": {
    "collapsed": false,
    "pycharm": {
     "name": "#%%\n"
    }
   }
  },
  {
   "cell_type": "code",
   "execution_count": 18,
   "outputs": [
    {
     "data": {
      "text/plain": "    record_date  power_consumption  dayofweek  dayofyear  day  month  year  \\\n634  2016-09-26          4018774.0          0        270   26      9  2016   \n635  2016-09-27          3610828.0          1        271   27      9  2016   \n636  2016-09-28          3446470.0          2        272   28      9  2016   \n637  2016-09-29          3681879.0          3        273   29      9  2016   \n638  2016-09-30          3607667.0          4        274   30      9  2016   \n\n     season      1_m_mean      2_m_mean        1_m_std        2_m_std  \n634       3  4.072800e+06  4.458408e+06  337880.572544  276925.542329  \n635       3  4.072800e+06  4.458408e+06  337880.572544  276925.542329  \n636       3  4.072800e+06  4.458408e+06  337880.572544  276925.542329  \n637       3  4.072800e+06  4.458408e+06  337880.572544  276925.542329  \n638       3  4.072800e+06  4.458408e+06  337880.572544  276925.542329  ",
      "text/html": "<div>\n<style scoped>\n    .dataframe tbody tr th:only-of-type {\n        vertical-align: middle;\n    }\n\n    .dataframe tbody tr th {\n        vertical-align: top;\n    }\n\n    .dataframe thead th {\n        text-align: right;\n    }\n</style>\n<table border=\"1\" class=\"dataframe\">\n  <thead>\n    <tr style=\"text-align: right;\">\n      <th></th>\n      <th>record_date</th>\n      <th>power_consumption</th>\n      <th>dayofweek</th>\n      <th>dayofyear</th>\n      <th>day</th>\n      <th>month</th>\n      <th>year</th>\n      <th>season</th>\n      <th>1_m_mean</th>\n      <th>2_m_mean</th>\n      <th>1_m_std</th>\n      <th>2_m_std</th>\n    </tr>\n  </thead>\n  <tbody>\n    <tr>\n      <th>634</th>\n      <td>2016-09-26</td>\n      <td>4018774.0</td>\n      <td>0</td>\n      <td>270</td>\n      <td>26</td>\n      <td>9</td>\n      <td>2016</td>\n      <td>3</td>\n      <td>4.072800e+06</td>\n      <td>4.458408e+06</td>\n      <td>337880.572544</td>\n      <td>276925.542329</td>\n    </tr>\n    <tr>\n      <th>635</th>\n      <td>2016-09-27</td>\n      <td>3610828.0</td>\n      <td>1</td>\n      <td>271</td>\n      <td>27</td>\n      <td>9</td>\n      <td>2016</td>\n      <td>3</td>\n      <td>4.072800e+06</td>\n      <td>4.458408e+06</td>\n      <td>337880.572544</td>\n      <td>276925.542329</td>\n    </tr>\n    <tr>\n      <th>636</th>\n      <td>2016-09-28</td>\n      <td>3446470.0</td>\n      <td>2</td>\n      <td>272</td>\n      <td>28</td>\n      <td>9</td>\n      <td>2016</td>\n      <td>3</td>\n      <td>4.072800e+06</td>\n      <td>4.458408e+06</td>\n      <td>337880.572544</td>\n      <td>276925.542329</td>\n    </tr>\n    <tr>\n      <th>637</th>\n      <td>2016-09-29</td>\n      <td>3681879.0</td>\n      <td>3</td>\n      <td>273</td>\n      <td>29</td>\n      <td>9</td>\n      <td>2016</td>\n      <td>3</td>\n      <td>4.072800e+06</td>\n      <td>4.458408e+06</td>\n      <td>337880.572544</td>\n      <td>276925.542329</td>\n    </tr>\n    <tr>\n      <th>638</th>\n      <td>2016-09-30</td>\n      <td>3607667.0</td>\n      <td>4</td>\n      <td>274</td>\n      <td>30</td>\n      <td>9</td>\n      <td>2016</td>\n      <td>3</td>\n      <td>4.072800e+06</td>\n      <td>4.458408e+06</td>\n      <td>337880.572544</td>\n      <td>276925.542329</td>\n    </tr>\n  </tbody>\n</table>\n</div>"
     },
     "execution_count": 18,
     "metadata": {},
     "output_type": "execute_result"
    }
   ],
   "source": [
    "data_df.tail()"
   ],
   "metadata": {
    "collapsed": false,
    "pycharm": {
     "name": "#%%\n"
    }
   }
  },
  {
   "cell_type": "markdown",
   "source": [
    "### lightGBM"
   ],
   "metadata": {
    "collapsed": false,
    "pycharm": {
     "name": "#%% md\n"
    }
   }
  },
  {
   "cell_type": "code",
   "execution_count": 19,
   "outputs": [],
   "source": [
    "import lightgbm as lgb\n",
    "from sklearn.model_selection import GridSearchCV\n",
    "\n",
    "train_data = data_df[data_df['record_date']<'2016-09-01']\\\n",
    "    [['dayofweek','dayofyear','day','month','year','season','1_m_mean','2_m_mean','1_m_std','2_m_std']]\n",
    "test_data = data_df[data_df['record_date']>='2016-09-01']\\\n",
    "    [['dayofweek','dayofyear','day','month','year','season','1_m_mean','2_m_mean','1_m_std','2_m_std']]\n",
    "train_target = data_df[data_df['record_date']<'2016-09-01'][ ['power_consumption'] ]"
   ],
   "metadata": {
    "collapsed": false,
    "pycharm": {
     "name": "#%%\n"
    }
   }
  },
  {
   "cell_type": "code",
   "execution_count": 20,
   "outputs": [],
   "source": [
    "\n",
    "train_lgb = train_data.copy()\n",
    "# 日期/时间格式转换为str类型\n",
    "train_lgb[ ['dayofweek','dayofyear','day','month','year','season'] ] = \\\n",
    "    train_lgb[ ['dayofweek','dayofyear','day','month','year','season'] ].astype(str)\n",
    "test_lgb = test_data.copy()\n",
    "test_lgb[ ['dayofweek','dayofyear','day','month','year','season'] ] = \\\n",
    "    test_lgb[ ['dayofweek','dayofyear','day','month','year','season'] ].astype(str)"
   ],
   "metadata": {
    "collapsed": false,
    "pycharm": {
     "name": "#%%\n"
    }
   }
  },
  {
   "cell_type": "code",
   "execution_count": 21,
   "outputs": [
    {
     "name": "stdout",
     "output_type": "stream",
     "text": [
      "(550, 10) (550,) <class 'numpy.ndarray'>\n",
      "['6' '60' '1' '3' '2015' '1' 2795163.0535714286 3961383.0967741935\n",
      " 769697.8649992085 303629.48662213905]\n"
     ]
    }
   ],
   "source": [
    "X_lgb = train_lgb.values\n",
    "y_lgb = train_target.values.reshape(X_lgb.shape[0],)\n",
    "print(X_lgb.shape, y_lgb.shape, type(X_lgb))\n",
    "print(X_lgb[0, :])"
   ],
   "metadata": {
    "collapsed": false,
    "pycharm": {
     "name": "#%%\n"
    }
   }
  },
  {
   "cell_type": "code",
   "execution_count": 22,
   "outputs": [],
   "source": [
    "\n",
    "# 模型参数\n",
    "estimator = lgb.LGBMRegressor(colsample_bytree=0.8, # 建每棵树时使用的属性列的比例（属性采样比例）\n",
    "                             subsample=0.9, # 使用训练样本的比例（样本采样比例）\n",
    "                             subsample_freq=5) # 采样频率\n",
    "param_grid = {\n",
    "    'learning_rate': [0.01, 0.02, 0.05, 0.1],\n",
    "    'n_estimators': [100, 200, 400, 800, 1000, 1200, 1500, 2000], # 要学习的boosted trees 个数\n",
    "    'num_leaves': [128, 1024, 4096], # base learner的最大叶子节点数\n",
    "}\n",
    "\n",
    "# 训练参数\n",
    "fit_params = {'categorical_feature': [0,1,2,3,4,5]} # 哪些列是类别型特征，list of int则表示索引"
   ],
   "metadata": {
    "collapsed": false,
    "pycharm": {
     "name": "#%%\n"
    }
   }
  },
  {
   "cell_type": "code",
   "execution_count": 23,
   "outputs": [
    {
     "name": "stdout",
     "output_type": "stream",
     "text": [
      "Best parameters found by grid search are: {'learning_rate': 0.02, 'n_estimators': 1200, 'num_leaves': 128}\n"
     ]
    }
   ],
   "source": [
    "\n",
    "import warnings\n",
    "warnings.filterwarnings(\"ignore\") # 不打印warning信息\n",
    "\n",
    "gbm = GridSearchCV(estimator, param_grid)\n",
    "\n",
    "gbm.fit(X_lgb, y_lgb, **fit_params)\n",
    "\n",
    "print('Best parameters found by grid search are:', gbm.best_params_)"
   ],
   "metadata": {
    "collapsed": false,
    "pycharm": {
     "name": "#%%\n"
    }
   }
  },
  {
   "cell_type": "code",
   "execution_count": 24,
   "outputs": [
    {
     "data": {
      "text/plain": "LGBMRegressor(colsample_bytree=0.8, learning_rate=0.02, n_estimators=1200,\n              num_leaves=128, objective='regression_l1', subsample=0.9,\n              subsample_freq=5)"
     },
     "execution_count": 24,
     "metadata": {},
     "output_type": "execute_result"
    }
   ],
   "source": [
    "# 使用最佳参数，重新训练模型\n",
    "lgbm = lgb.LGBMRegressor(colsample_bytree=0.8, # 建每棵树时使用的属性列的比例（属性采样比例）\n",
    "                         subsample=0.9, # 使用训练样本的比例（样本采样比例）\n",
    "                         subsample_freq=5, # 采样频率\n",
    "                         learning_rate=0.02,\n",
    "                         n_estimators=1200,\n",
    "                         num_leaves=128,\n",
    "                         objective='regression_l1'\n",
    "                         )\n",
    "lgbm.fit(X_lgb, y_lgb)"
   ],
   "metadata": {
    "collapsed": false,
    "pycharm": {
     "name": "#%%\n"
    }
   }
  },
  {
   "cell_type": "code",
   "execution_count": 29,
   "outputs": [
    {
     "name": "stdout",
     "output_type": "stream",
     "text": [
      "(30, 10)\n",
      "(30,)\n"
     ]
    }
   ],
   "source": [
    "X_pred = test_lgb.values\n",
    "print(X_pred.shape)\n",
    "y_pred = lgbm.predict(X_pred)\n",
    "print(y_pred.shape)"
   ],
   "metadata": {
    "collapsed": false,
    "pycharm": {
     "name": "#%%\n"
    }
   }
  },
  {
   "cell_type": "code",
   "execution_count": 32,
   "outputs": [
    {
     "name": "stdout",
     "output_type": "stream",
     "text": [
      "Plot feature importances...\n"
     ]
    },
    {
     "data": {
      "text/plain": "<Figure size 432x288 with 1 Axes>",
      "image/png": "[encoded data removed]"
     },
     "metadata": {
      "needs_background": "light"
     },
     "output_type": "display_data"
    }
   ],
   "source": [
    "print('Plot feature importances...')\n",
    "ax = lgb.plot_importance(lgbm, max_num_features=5) # max_num_features 显示最重要的5个特征\n",
    "plt.show()"
   ],
   "metadata": {
    "collapsed": false,
    "pycharm": {
     "name": "#%%\n"
    }
   }
  }
 ],
 "metadata": {
  "kernelspec": {
   "display_name": "Python 3",
   "language": "python",
   "name": "python3"
  },
  "language_info": {
   "codemirror_mode": {
    "name": "ipython",
    "version": 2
   },
   "file_extension": ".py",
   "mimetype": "text/x-python",
   "name": "python",
   "nbconvert_exporter": "python",
   "pygments_lexer": "ipython2",
   "version": "2.7.6"
  }
 },
 "nbformat": 4,
 "nbformat_minor": 0
}