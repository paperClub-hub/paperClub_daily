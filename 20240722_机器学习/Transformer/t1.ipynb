{
 "cells": [
  {
   "cell_type": "markdown",
   "source": [
    "使用transformer解决法语=>英语的翻译任务\n",
    "\n",
    "transformer的核心：self-attentions\n",
    "\n",
    "transformer **优点**：\n",
    "- 无需对跨数据的时间/空间域的关系作出假设\n",
    "- 并行计算\n",
    "- distant item 互相影响彼此的输出\n",
    "- 可以学习到长距离依赖关系\n",
    "\n",
    "transformer **缺点**：\n",
    "- 对于每一个step的xt的输出，是由整个历史信息计算得出，而不再是当前输入和hidden，这可能效率较低\n",
    "- 如果输入具有时间/空间域的关系，则需要加入位置编码，否则整个model也只能看作是一个词袋模型\n",
    "\n",
    "目录\n",
    "* [1.加载数据 建立input pipeline](#)\n",
    "* [2.位置编码 positional encoding](#)\n",
    "* [3.掩码 masking](#3)\n",
    "* [4.scaled dot product attention](#)\n",
    "* [5.multi-head attention](#)\n",
    "* [6.point wise feed forward network](#)\n",
    "* [7.encoder layer](#)\n",
    "* [8.decoder layer](#)\n",
    "* [9.encoder](#)\n",
    "* [10.decoder](#)\n",
    "* [11.搭建transformer](#)\n",
    "* [12.设置超参](#)\n",
    "* [13.优化器](#)\n",
    "* [14.损失和评价准则](#)\n",
    "* [15.生成mask](#)\n",
    "* [16.训练和保存](#)\n",
    "* [17.评估](#)\n",
    "* [18.attention的可视化](#)\n",
    "* [19.总结](#)\n",
    "\n",
    "\n",
    "## 1.加载数据 建立input pipeline"
   ],
   "metadata": {
    "collapsed": true,
    "pycharm": {
     "name": "#%% md\n"
    }
   }
  },
  {
   "cell_type": "code",
   "execution_count": 1,
   "source": [
    "import torch\r\n",
    "import torchtext\r\n",
    "\r\n",
    "from sklearn.model_selection import train_test_split\r\n",
    "\r\n",
    "import random\r\n",
    "import re\r\n",
    "from tqdm import tqdm  # 进度条\r\n",
    "import pandas as pd\r\n",
    "import numpy as np\r\n",
    "from matplotlib import pyplot as plt\r\n",
    "import unicodedata\r\n",
    "import datetime\r\n",
    "import time\r\n",
    "import copy\r\n",
    "\r\n",
    "import os\r\n",
    "print(os.getcwd()) # /home/xijian\r\n",
    "\r\n",
    "ngpu = 4\r\n",
    "\r\n",
    "use_cuda = torch.cuda.is_available()  ##检测是否有可用的gpu\r\n",
    "device = torch.device(\"cuda:0\" if (use_cuda and ngpu > 0) else \"cpu\")\r\n",
    "print('device=', device)\r\n",
    "\r\n",
    "project_dir = 'E:/HongsenQu/2_project/2_projects/NLP/2_nlp/1_keywords_mapping/Magic-NLPer-main/'\r\n",
    "# 当前目录cwd\r\n",
    "cwd = project_dir + 'NLP/MachineTranslation/transformer/pytorch/'\r\n",
    "data_dir = cwd + './data/' # 数据所在目录"
   ],
   "outputs": [
    {
     "output_type": "stream",
     "name": "stdout",
     "text": [
      "e:\\HongsenQu\\2_project\\2_projects\\NLP\\2_nlp\\1_keywords_mapping\\Magic-NLPer-main\\DeepLearning\\Transformer\\MachinTranslation\\pytorch\n",
      "device= cpu\n"
     ]
    }
   ],
   "metadata": {
    "collapsed": false,
    "pycharm": {
     "name": "#%%\n"
    }
   }
  },
  {
   "cell_type": "code",
   "execution_count": 3,
   "source": [
    "data_df = pd.read_csv(data_dir + 'eng-fra.txt',  # 数据格式：英语\\t法语，注意我们的任务源语言是法语，目标语言是英语\r\n",
    "                      encoding='UTF-8', sep='\\t', header=None,\r\n",
    "                      names=['eng', 'fra'], index_col=False)\r\n",
    "\r\n",
    "print(data_df.shape)\r\n",
    "print(data_df.values.shape)\r\n",
    "print(data_df.values[0])\r\n",
    "print(data_df.values[0].shape)\r\n",
    "data_df.head()"
   ],
   "outputs": [
    {
     "output_type": "stream",
     "name": "stdout",
     "text": [
      "(135842, 2)\n",
      "(135842, 2)\n",
      "['Go.' 'Va !']\n",
      "(2,)\n"
     ]
    },
    {
     "output_type": "execute_result",
     "data": {
      "text/html": [
       "<div>\n",
       "<style scoped>\n",
       "    .dataframe tbody tr th:only-of-type {\n",
       "        vertical-align: middle;\n",
       "    }\n",
       "\n",
       "    .dataframe tbody tr th {\n",
       "        vertical-align: top;\n",
       "    }\n",
       "\n",
       "    .dataframe thead th {\n",
       "        text-align: right;\n",
       "    }\n",
       "</style>\n",
       "<table border=\"1\" class=\"dataframe\">\n",
       "  <thead>\n",
       "    <tr style=\"text-align: right;\">\n",
       "      <th></th>\n",
       "      <th>eng</th>\n",
       "      <th>fra</th>\n",
       "    </tr>\n",
       "  </thead>\n",
       "  <tbody>\n",
       "    <tr>\n",
       "      <th>0</th>\n",
       "      <td>Go.</td>\n",
       "      <td>Va !</td>\n",
       "    </tr>\n",
       "    <tr>\n",
       "      <th>1</th>\n",
       "      <td>Run!</td>\n",
       "      <td>Cours !</td>\n",
       "    </tr>\n",
       "    <tr>\n",
       "      <th>2</th>\n",
       "      <td>Run!</td>\n",
       "      <td>Courez !</td>\n",
       "    </tr>\n",
       "    <tr>\n",
       "      <th>3</th>\n",
       "      <td>Wow!</td>\n",
       "      <td>Ça alors !</td>\n",
       "    </tr>\n",
       "    <tr>\n",
       "      <th>4</th>\n",
       "      <td>Fire!</td>\n",
       "      <td>Au feu !</td>\n",
       "    </tr>\n",
       "  </tbody>\n",
       "</table>\n",
       "</div>"
      ],
      "text/plain": [
       "     eng         fra\n",
       "0    Go.        Va !\n",
       "1   Run!     Cours !\n",
       "2   Run!    Courez !\n",
       "3   Wow!  Ça alors !\n",
       "4  Fire!    Au feu !"
      ]
     },
     "metadata": {},
     "execution_count": 3
    }
   ],
   "metadata": {
    "collapsed": false,
    "pycharm": {
     "name": "#%%\n"
    }
   }
  },
  {
   "cell_type": "code",
   "execution_count": 4,
   "source": [
    "# 数据预处理\r\n",
    "\r\n",
    "# 将unicode字符串转化为ASCII码：\r\n",
    "def unicodeToAscii(s):\r\n",
    "    return ''.join(c for c in unicodedata.normalize('NFD', s) if unicodedata.category(c) != 'Mn')\r\n",
    "\r\n",
    "\r\n",
    "# 规范化字符串\r\n",
    "def normalizeString(s):\r\n",
    "    # print(s) # list  ['Go.']\r\n",
    "    # s = s[0]\r\n",
    "    s = s.lower().strip()\r\n",
    "    s = unicodeToAscii(s)\r\n",
    "    s = re.sub(r\"([.!?])\", r\" \\1\", s)  # \\1表示group(1)即第一个匹配到的 即匹配到'.'或者'!'或者'?'后，一律替换成'空格.'或者'空格!'或者'空格？'\r\n",
    "    s = re.sub(r\"[^a-zA-Z.!?]+\", r\" \", s)  # 非字母以及非.!?的其他任何字符 一律被替换成空格\r\n",
    "    s = re.sub(r'[\\s]+', \" \", s)  # 将出现的多个空格，都使用一个空格代替。例如：w='abc  1   23  1' 处理后：w='abc 1 23 1'\r\n",
    "    return s\r\n",
    "\r\n",
    "\r\n",
    "print(normalizeString('Va !'))\r\n",
    "print(normalizeString('Go.'))"
   ],
   "outputs": [
    {
     "output_type": "stream",
     "name": "stdout",
     "text": [
      "va !\n",
      "go .\n"
     ]
    }
   ],
   "metadata": {
    "collapsed": false,
    "pycharm": {
     "name": "#%%\n"
    }
   }
  },
  {
   "cell_type": "code",
   "execution_count": 5,
   "source": [
    "MAX_LENGTH = 10\r\n",
    "\r\n",
    "eng_prefixes = (  # 之前normalizeString()已经对撇号等进行了过滤，以及清洗，小写化等\r\n",
    "    \"i am \", \"i m \",\r\n",
    "    \"he is\", \"he s \",\r\n",
    "    \"she is\", \"she s \",\r\n",
    "    \"you are\", \"you re \",\r\n",
    "    \"we are\", \"we re \",\r\n",
    "    \"they are\", \"they re \"\r\n",
    ")\r\n",
    "\r\n",
    "# print(eng_prefixes)\r\n",
    "pairs = [[normalizeString(s) for s in line] for line in data_df.values]\r\n",
    "\r\n",
    "print('pairs num=', len(pairs))\r\n",
    "print(pairs[0])\r\n",
    "print(pairs[1])"
   ],
   "outputs": [
    {
     "output_type": "stream",
     "name": "stdout",
     "text": [
      "pairs num= 135842\n",
      "['go .', 'va !']\n",
      "['run !', 'cours !']\n"
     ]
    }
   ],
   "metadata": {
    "collapsed": false,
    "pycharm": {
     "name": "#%%\n"
    }
   }
  },
  {
   "cell_type": "code",
   "execution_count": 6,
   "source": [
    "# 文件是英译法，我们实现的是法译英，所以进行了reverse，所以pair[1]是英语\r\n",
    "# 为了快速训练，仅保留“我是”“你是”“他是”等简单句子，并且删除原始文本长度大于10个标记的样本\r\n",
    "def filterPair(p):\r\n",
    "    return len(p[0].split(' ')) < MAX_LENGTH and len(p[1].split(' ')) < MAX_LENGTH and \\\r\n",
    "           p[0].startswith(eng_prefixes)  # startswith first arg must be str or a tuple of str\r\n",
    "\r\n",
    "\r\n",
    "def filterPairs(pairs):\r\n",
    "    # 过滤，并交换句子顺序，得到法英句子对（之前是英法句子对）\r\n",
    "    return [[pair[1], pair[0]] for pair in pairs if filterPair(pair)]\r\n",
    "\r\n",
    "\r\n",
    "pairs = filterPairs(pairs)\r\n",
    "\r\n",
    "print('after trimming, pairs num=', len(pairs))\r\n",
    "print(pairs[0])\r\n",
    "print(pairs[1])\r\n",
    "print(random.choice(pairs))\r\n"
   ],
   "outputs": [
    {
     "output_type": "stream",
     "name": "stdout",
     "text": [
      "after trimming, pairs num= 10599\n",
      "['j ai ans .', 'i m .']\n",
      "['je vais bien .', 'i m ok .']\n",
      "['je suis a court d expedients .', 'i m all out of tricks .']\n"
     ]
    }
   ],
   "metadata": {
    "collapsed": false,
    "pycharm": {
     "name": "#%%\n"
    }
   }
  },
  {
   "cell_type": "code",
   "execution_count": 7,
   "source": [
    "# 划分数据集：训练集和验证集\r\n",
    "train_pairs, val_pairs = train_test_split(pairs, test_size=0.2, random_state=1234)\r\n",
    "\r\n",
    "print(len(train_pairs))\r\n",
    "print(len(val_pairs))"
   ],
   "outputs": [
    {
     "output_type": "stream",
     "name": "stdout",
     "text": [
      "8479\n",
      "2120\n"
     ]
    }
   ],
   "metadata": {
    "collapsed": false,
    "pycharm": {
     "name": "#%%\n"
    }
   }
  },
  {
   "cell_type": "code",
   "execution_count": 8,
   "source": [
    "tokenizer = lambda x: x.split() # 分词器\r\n",
    "\r\n",
    "SRC_TEXT = torchtext.legacy.data.Field(sequential=True,\r\n",
    "                                tokenize=tokenizer,\r\n",
    "                                # lower=True,\r\n",
    "                                fix_length=MAX_LENGTH + 2,\r\n",
    "                                preprocessing=lambda x: ['<start>'] + x + ['<end>'],\r\n",
    "                                # after tokenizing but before numericalizing\r\n",
    "                                # postprocessing # after numericalizing but before the numbers are turned into a Tensor\r\n",
    "                                )\r\n",
    "TARG_TEXT = torchtext.legacy.data.Field(sequential=True,\r\n",
    "                                 tokenize=tokenizer,\r\n",
    "                                 # lower=True,\r\n",
    "                                 fix_length=MAX_LENGTH + 2,\r\n",
    "                                 preprocessing=lambda x: ['<start>'] + x + ['<end>'],\r\n",
    "                                 )\r\n",
    "\r\n",
    "\r\n",
    "def get_dataset(pairs, src, targ):\r\n",
    "    fields = [('src', src), ('targ', targ)]  # filed信息 fields dict[str, Field])\r\n",
    "    examples = []  # list(Example)\r\n",
    "    for fra, eng in tqdm(pairs): # 进度条\r\n",
    "        # 创建Example时会调用field.preprocess方法\r\n",
    "        examples.append(torchtext.legacy.data.Example.fromlist([fra, eng], fields))\r\n",
    "    return examples, fields\r\n",
    "\r\n",
    "\r\n",
    "# examples, fields = get_dataset(pairs, SRC_TEXT, TARG_TEXT)\r\n",
    "\r\n",
    "ds_train = torchtext.legacy.data.Dataset(*get_dataset(train_pairs, SRC_TEXT, TARG_TEXT))\r\n",
    "ds_val = torchtext.legacy.data.Dataset(*get_dataset(val_pairs, SRC_TEXT, TARG_TEXT))"
   ],
   "outputs": [
    {
     "output_type": "stream",
     "name": "stderr",
     "text": [
      "100%|██████████| 8479/8479 [00:00<00:00, 213770.51it/s]\n",
      "100%|██████████| 2120/2120 [00:00<00:00, 212588.15it/s]\n"
     ]
    }
   ],
   "metadata": {
    "collapsed": false,
    "pycharm": {
     "name": "#%%\n"
    }
   }
  },
  {
   "cell_type": "code",
   "execution_count": 9,
   "source": [
    "# 查看1个样本的信息\r\n",
    "print(len(ds_train[0].src), ds_train[0].src)\r\n",
    "print(len(ds_train[0].targ), ds_train[0].targ)\r\n",
    "\r\n",
    "print(len(ds_val[100].src), ds_val[100].src)\r\n",
    "print(len(ds_val[100].targ), ds_val[100].targ)"
   ],
   "outputs": [
    {
     "output_type": "stream",
     "name": "stdout",
     "text": [
      "9 ['<start>', 'tu', 'n', 'es', 'qu', 'un', 'lache', '.', '<end>']\n",
      "8 ['<start>', 'you', 're', 'just', 'a', 'coward', '.', '<end>']\n",
      "8 ['<start>', 'je', 'suis', 'prete', 'pour', 'demain', '.', '<end>']\n",
      "8 ['<start>', 'i', 'm', 'ready', 'for', 'tomorrow', '.', '<end>']\n"
     ]
    }
   ],
   "metadata": {
    "collapsed": false,
    "pycharm": {
     "name": "#%%\n"
    }
   }
  },
  {
   "cell_type": "code",
   "execution_count": 11,
   "source": [
    "# 构建词典\r\n",
    "SRC_TEXT.build_vocab(ds_train)  # 建立词表 并建立token和ID的映射关系\r\n",
    "print(len(SRC_TEXT.vocab))\r\n",
    "print(SRC_TEXT.vocab.itos[0])\r\n",
    "print(SRC_TEXT.vocab.itos[1])\r\n",
    "print(SRC_TEXT.vocab.itos[2])\r\n",
    "print(SRC_TEXT.vocab.itos[3])\r\n",
    "print(SRC_TEXT.vocab.stoi['<start>'])\r\n",
    "print(SRC_TEXT.vocab.stoi['<end>'])\r\n",
    "\r\n",
    "# 模拟decode\r\n",
    "res = []\r\n",
    "for id in [  3,   5,   6,  71,  48,   5,   8,  32, 743,   4,   2,   1]:\r\n",
    "    res.append(SRC_TEXT.vocab.itos[id])\r\n",
    "print(' '.join(res)+'\\n')\r\n",
    "\r\n",
    "TARG_TEXT.build_vocab(ds_train)\r\n",
    "print(len(TARG_TEXT.vocab))\r\n",
    "print(TARG_TEXT.vocab.itos[0])\r\n",
    "print(TARG_TEXT.vocab.itos[1])\r\n",
    "print(TARG_TEXT.vocab.itos[2])\r\n",
    "print(TARG_TEXT.vocab.itos[3])\r\n",
    "print(TARG_TEXT.vocab.stoi['<start>'])\r\n",
    "print(TARG_TEXT.vocab.stoi['<end>'])"
   ],
   "outputs": [
    {
     "output_type": "stream",
     "name": "stdout",
     "text": [
      "3901\n",
      "<unk>\n",
      "<pad>\n",
      "<end>\n",
      "<start>\n",
      "3\n",
      "2\n",
      "<start> je suis fais si je vous l examen . <end> <pad>\n",
      "\n",
      "2591\n",
      "<unk>\n",
      "<pad>\n",
      "<end>\n",
      "<start>\n",
      "3\n",
      "2\n"
     ]
    }
   ],
   "metadata": {
    "collapsed": false,
    "pycharm": {
     "name": "#%%\n"
    }
   }
  },
  {
   "cell_type": "code",
   "execution_count": 12,
   "source": [
    "BATCH_SIZE = 64 * ngpu\r\n",
    "\r\n",
    "# 构建数据管道迭代器\r\n",
    "train_iter, val_iter = torchtext.legacy.data.Iterator.splits(\r\n",
    "    (ds_train, ds_val),\r\n",
    "    sort_within_batch=True,\r\n",
    "    sort_key=lambda x: len(x.src),\r\n",
    "    batch_sizes=(BATCH_SIZE, BATCH_SIZE)\r\n",
    ")\r\n",
    "\r\n",
    "# 查看数据管道信息，此时会触发postprocessing，如果有的话\r\n",
    "for batch in train_iter:\r\n",
    "    # 注意，这里text第0维不是batch，而是seq_len\r\n",
    "    print(batch.src[:,0])\r\n",
    "    print(batch.src.shape, batch.targ.shape)  # [12,64], [12,64]\r\n",
    "    break"
   ],
   "outputs": [
    {
     "output_type": "stream",
     "name": "stdout",
     "text": [
      "tensor([  3,  25,   7,  20, 110,  31, 219,  18, 291,   4,   2,   1])\n",
      "torch.Size([12, 256]) torch.Size([12, 256])\n"
     ]
    }
   ],
   "metadata": {
    "collapsed": false,
    "pycharm": {
     "name": "#%%\n"
    }
   }
  },
  {
   "cell_type": "code",
   "execution_count": 13,
   "source": [
    "# 将数据管道组织成与torch.utils.data.DataLoader相似的inputs, targets的输出形式\r\n",
    "class DataLoader:\r\n",
    "    def __init__(self, data_iter):\r\n",
    "        self.data_iter = data_iter\r\n",
    "        self.length = len(data_iter)  # 一共有多少个batch？\r\n",
    "\r\n",
    "    def __len__(self):\r\n",
    "        return self.length\r\n",
    "\r\n",
    "    def __iter__(self):\r\n",
    "        # 注意，在此处调整text的shape为batch first\r\n",
    "        for batch in self.data_iter:\r\n",
    "            yield (torch.transpose(batch.src, 0, 1), torch.transpose(batch.targ, 0, 1))\r\n",
    "\r\n",
    "\r\n",
    "train_dataloader = DataLoader(train_iter)\r\n",
    "val_dataloader = DataLoader(val_iter)"
   ],
   "outputs": [],
   "metadata": {
    "collapsed": false,
    "pycharm": {
     "name": "#%%\n"
    }
   }
  },
  {
   "cell_type": "code",
   "execution_count": 14,
   "source": [
    "# 查看数据管道\r\n",
    "print('len(train_dataloader):', len(train_dataloader))  # 34 个step/batch\r\n",
    "for batch_src, batch_targ in train_dataloader:\r\n",
    "    print(batch_src.shape, batch_targ.shape)  # [256,12], [256,12]\r\n",
    "    print(batch_src[0], batch_src.dtype)\r\n",
    "    print(batch_targ[0], batch_targ.dtype)\r\n",
    "    break\r\n"
   ],
   "outputs": [
    {
     "output_type": "stream",
     "name": "stdout",
     "text": [
      "len(train_dataloader): 34\n",
      "torch.Size([256, 12]) torch.Size([256, 12])\n",
      "tensor([  3,   5,   6,  69, 166,   5,  15, 714,   9,   4,   2,   1]) torch.int64\n",
      "tensor([  3,   5,   7,  36, 128,   5, 263,  34, 519,   4,   2,   1]) torch.int64\n"
     ]
    }
   ],
   "metadata": {
    "collapsed": false,
    "pycharm": {
     "name": "#%%\n"
    }
   }
  },
  {
   "cell_type": "markdown",
   "source": [
    "## 2.位置编码 positional encoding\n",
    "绝对位置编码\n",
    "\n",
    "由于model中不含有任何recurrence or convolution，所以句子中token的相对位置关系无法体现，\n",
    "所以就需要在embedding vector中加入position encoding vector（维度相同）。这样每个词的词向量\n",
    "在 $d_{model}$ 维的空间中，就可以基于meaning和position来计算相似度或相关性\n",
    "\n",
    "$$\\begin{array}{ll} & PE_{(pos,2i)}=sin(pos/10000^{2i/d_{model}}) \\\\ & PE_{(pos,2i+1)}=cos(pos/10000^{2i/d_{model}})\\end{array}$$\n",
    "\n",
    "**特点：**\n",
    "- （1）后面位置是前面位置的线性组合，保证了即使位置不是相邻的，也可能有关系（[参考这里](#https://blog.csdn.net/zhulinniao/article/details/104462228/)）\n",
    "- （2）每个位置的编码又是独特的\n",
    "- （3）每两个位置的encoding互相做点积，位置越远，点积的值越小，自己和自己点积，值最大\n",
    "\n",
    "![jupyter-img1](./imgs/im1.jpg)"
   ],
   "metadata": {
    "collapsed": false,
    "pycharm": {
     "name": "#%% md\n"
    }
   }
  },
  {
   "cell_type": "code",
   "execution_count": 15,
   "source": [
    "# 计算角度：pos * 1/(10000^(2i/d))\r\n",
    "def get_angles(pos, i, d_model):\r\n",
    "    # 2*(i//2)保证了2i，这部分计算的是1/10000^(2i/d)\r\n",
    "    angle_rates = 1 / np.power(10000, 2 * (i // 2) / np.float32(d_model))  # => [1, 512]\r\n",
    "    return pos * angle_rates  # [50,1]*[1,512]=>[50, 512]\r\n",
    "\r\n",
    "\r\n",
    "# np.arange()函数返回一个有终点和起点的固定步长的排列，如[1,2,3,4,5]，起点是1，终点是5，步长为1\r\n",
    "# 注意：起点终点是左开右闭区间，即start=1,end=6，才会产生[1,2,3,4,5]\r\n",
    "# 只有一个参数时，参数值为终点，起点取默认值0，步长取默认值1。\r\n",
    "def positional_encoding(position, d_model):  # d_model是位置编码的长度，相当于position encoding的embedding_dim？\r\n",
    "    angle_rads = get_angles(np.arange(position)[:, np.newaxis],  # [50, 1]\r\n",
    "                            np.arange(d_model)[np.newaxis, :],  # [1, d_model=512]\r\n",
    "                            d_model)\r\n",
    "    angle_rads[:, 0::2] = np.sin(angle_rads[:, 0::2])  # 2i\r\n",
    "    angle_rads[:, 1::2] = np.cos(angle_rads[:, 1::2])  # 2i+2\r\n",
    "\r\n",
    "    pos_encoding = angle_rads[np.newaxis, ...]  # [50,512]=>[1,50,512]\r\n",
    "    return torch.tensor(pos_encoding, dtype=torch.float32)\r\n",
    "\r\n",
    "pos_encoding = positional_encoding(50, 512)\r\n",
    "print(pos_encoding.shape) # [1,50,512]"
   ],
   "outputs": [
    {
     "output_type": "stream",
     "name": "stdout",
     "text": [
      "torch.Size([1, 50, 512])\n"
     ]
    }
   ],
   "metadata": {
    "collapsed": false,
    "pycharm": {
     "name": "#%%\n"
    }
   }
  },
  {
   "cell_type": "code",
   "execution_count": 16,
   "source": [
    "from matplotlib import pyplot as plt\r\n",
    "\r\n",
    "def draw_pos_encoding(pos_encoding):\r\n",
    "    plt.figure()\r\n",
    "    plt.pcolormesh(pos_encoding[0], cmap='RdBu') # 绘制分类图\r\n",
    "    plt.xlabel('Depth')\r\n",
    "    plt.xlim((0, 512))\r\n",
    "    plt.ylabel('Position')\r\n",
    "    plt.colorbar() # 条形bar颜色图例\r\n",
    "    plt.savefig(cwd+'imgs/pos_encoding.png')\r\n",
    "    plt.show()\r\n",
    "\r\n",
    "draw_pos_encoding(pos_encoding)"
   ],
   "outputs": [
    {
     "output_type": "display_data",
     "data": {
      "image/png": "[encoded data removed]",
      "text/plain": [
       "<Figure size 432x288 with 2 Axes>"
      ]
     },
     "metadata": {}
    }
   ],
   "metadata": {
    "collapsed": false,
    "pycharm": {
     "name": "#%%\n"
    }
   }
  },
  {
   "cell_type": "markdown",
   "source": [
    "## 3.掩码 masking\n",
    "这里用到的mask有2种：\n",
    "- padding mask：mask pad，即句子中为pad(value=0)的位置处其mask值为1\n",
    "- look-ahead mask：mask future token，将当前token后面的词mask掉，只让看到前面的词，即future token位置的mask值为1\n",
    "\n",
    "**【注意】：** 因为我这里使用的是torchtext里的tokenizer,从前面可以看出它的词表里pad的index=1，而不是常规的0。\n",
    "这里要特别注意，不然容易出错！"
   ],
   "metadata": {
    "collapsed": false,
    "pycharm": {
     "name": "#%% md\n"
    }
   }
  },
  {
   "cell_type": "code",
   "execution_count": 17,
   "source": [
    "pad = 1 # 重要！\r\n",
    "def create_padding_mask(seq):  # seq [b, seq_len]\r\n",
    "    # seq = torch.eq(seq, torch.tensor(0)).float() # pad=0的情况\r\n",
    "    seq = torch.eq(seq, torch.tensor(pad)).float()  # pad!=0\r\n",
    "    return seq[:, np.newaxis, np.newaxis, :]  # =>[b, 1, 1, seq_len]\r\n",
    "\r\n",
    "x = torch.tensor([[7, 6, 0, 0, 1],\r\n",
    "                  [1, 2, 3, 0, 0],\r\n",
    "                  [0, 0, 0, 4, 5]])\r\n",
    "print(x.shape) # [3,5]\r\n",
    "print(x)\r\n",
    "mask = create_padding_mask(x)\r\n",
    "print(mask.shape, mask.dtype) # [3,1,1,5]\r\n",
    "print(mask)"
   ],
   "outputs": [
    {
     "output_type": "stream",
     "name": "stdout",
     "text": [
      "torch.Size([3, 5])\n",
      "tensor([[7, 6, 0, 0, 1],\n",
      "        [1, 2, 3, 0, 0],\n",
      "        [0, 0, 0, 4, 5]])\n",
      "torch.Size([3, 1, 1, 5]) torch.float32\n",
      "tensor([[[[0., 0., 0., 0., 1.]]],\n",
      "\n",
      "\n",
      "        [[[1., 0., 0., 0., 0.]]],\n",
      "\n",
      "\n",
      "        [[[0., 0., 0., 0., 0.]]]])\n"
     ]
    }
   ],
   "metadata": {
    "collapsed": false,
    "pycharm": {
     "name": "#%%\n"
    }
   }
  },
  {
   "cell_type": "code",
   "execution_count": 18,
   "source": [
    "# torch.triu(tensor, diagonal=0) 求上三角矩阵，diagonal默认为0表示主对角线的上三角矩阵\r\n",
    "# diagonal>0，则主对角上面的第|diagonal|条次对角线的上三角矩阵\r\n",
    "# diagonal<0，则主对角下面的第|diagonal|条次对角线的上三角矩阵\r\n",
    "def create_look_ahead_mask(size):  # seq_len\r\n",
    "    mask = torch.triu(torch.ones((size, size)), diagonal=1)\r\n",
    "    # mask = mask.device() #\r\n",
    "    return mask  # [seq_len, seq_len]\r\n",
    "\r\n",
    "x = torch.rand(1,3)\r\n",
    "print(x.shape)\r\n",
    "print(x)\r\n",
    "mask = create_look_ahead_mask(x.shape[1])\r\n",
    "print(mask.shape, mask.dtype)\r\n",
    "print(mask)"
   ],
   "outputs": [
    {
     "output_type": "stream",
     "name": "stdout",
     "text": [
      "torch.Size([1, 3])\n",
      "tensor([[0.8920, 0.5153, 0.2607]])\n",
      "torch.Size([3, 3]) torch.float32\n",
      "tensor([[0., 1., 1.],\n",
      "        [0., 0., 1.],\n",
      "        [0., 0., 0.]])\n"
     ]
    }
   ],
   "metadata": {
    "collapsed": false,
    "pycharm": {
     "name": "#%%\n"
    }
   }
  },
  {
   "cell_type": "markdown",
   "source": [
    "## 4.scaled dot product attention\n",
    "![jupyter-img2](./imgs/im2.jpg)\n",
    "\n",
    "$$Attention(Q,K,V)=softmax_{(k)}(\\frac{QK^T}{\\sqrt{d_k}})V$$\n",
    "\n",
    "注意：实现时对mask的处理\n",
    "\n",
    "mask=1的位置是pad或者future token，乘以-1e9（-1*10^9）成为负无穷，经过softmax后会趋于0"
   ],
   "metadata": {
    "collapsed": false,
    "pycharm": {
     "name": "#%% md\n"
    }
   }
  },
  {
   "cell_type": "code",
   "execution_count": 19,
   "source": [
    "def scaled_dot_product_attention(q, k, v, mask=None):\r\n",
    "    \"\"\"\r\n",
    "    #计算注意力权重。\r\n",
    "    q, k, v 必须具有匹配的前置维度。 且dq=dk\r\n",
    "    k, v 必须有匹配的倒数第二个维度，例如：seq_len_k = seq_len_v。\r\n",
    "    #虽然 mask 根据其类型（填充或前瞻）有不同的形状，\r\n",
    "    #但是 mask 必须能进行广播转换以便求和。\r\n",
    "\r\n",
    "    #参数:\r\n",
    "        q: 请求的形状 == (..., seq_len_q, depth)\r\n",
    "        k: 主键的形状 == (..., seq_len_k, depth)\r\n",
    "        v: 数值的形状 == (..., seq_len_v, depth_v)  seq_len_k = seq_len_v\r\n",
    "        mask: Float 张量，其形状能转换成\r\n",
    "              (..., seq_len_q, seq_len_k)。默认为None。\r\n",
    "\r\n",
    "    #返回值:\r\n",
    "        #输出，注意力权重\r\n",
    "    \"\"\"\r\n",
    "    # matmul(a,b)矩阵乘:a b的最后2个维度要能做乘法，即a的最后一个维度值==b的倒数第2个纬度值，\r\n",
    "    # 除此之外，其他维度值必须相等或为1（为1时会广播）\r\n",
    "    matmul_qk = torch.matmul(q, k.transpose(-1, -2))  # 矩阵乘 =>[..., seq_len_q, seq_len_k]\r\n",
    "\r\n",
    "    # 缩放matmul_qk\r\n",
    "    dk = torch.tensor(k.shape[-1], dtype=torch.float32)  # k的深度dk，或叫做depth_k\r\n",
    "    scaled_attention_logits = matmul_qk / torch.sqrt(dk)  # [..., seq_len_q, seq_len_k]\r\n",
    "\r\n",
    "    # 将 mask 加入到缩放的张量上(重要！)\r\n",
    "    if mask is not None:  # mask: [b, 1, 1, seq_len]\r\n",
    "        # mask=1的位置是pad，乘以-1e9（-1*10^9）成为负无穷，经过softmax后会趋于0\r\n",
    "        scaled_attention_logits += (mask * -1e9)\r\n",
    "\r\n",
    "    # softmax 在最后一个轴（seq_len_k）上归一化\r\n",
    "    attention_weights = torch.nn.functional.softmax(scaled_attention_logits, dim=-1)  # [..., seq_len_q, seq_len_k]\r\n",
    "\r\n",
    "    output = torch.matmul(attention_weights, v)  # =>[..., seq_len_q, depth_v]\r\n",
    "    return output, attention_weights  # [..., seq_len_q, depth_v], [..., seq_len_q, seq_len_k]"
   ],
   "outputs": [],
   "metadata": {
    "collapsed": false,
    "pycharm": {
     "name": "#%%\n"
    }
   }
  },
  {
   "cell_type": "code",
   "execution_count": 20,
   "source": [
    "def print_out(q, k, v):\r\n",
    "    temp_out, temp_attn = scaled_dot_product_attention(q, k, v, None)\r\n",
    "    print('Attention weights are:')\r\n",
    "    print(temp_attn)\r\n",
    "    print('Output is:')\r\n",
    "    print(temp_out)\r\n",
    "\r\n",
    "np.set_printoptions(suppress=True) # 设置不以科学计数法的形式显示数据\r\n",
    "\r\n",
    "temp_k = torch.tensor([[10,0,0],\r\n",
    "                       [0,10,0],\r\n",
    "                       [0,0,10],\r\n",
    "                       [0,0,10]], dtype=torch.float32) # [4,3]\r\n",
    "temp_v = torch.tensor([[1,0],\r\n",
    "                       [10,0],\r\n",
    "                       [100,5],\r\n",
    "                       [1000,6]], dtype=torch.float32) #[4,2]"
   ],
   "outputs": [],
   "metadata": {
    "collapsed": false,
    "pycharm": {
     "name": "#%%\n"
    }
   }
  },
  {
   "cell_type": "code",
   "execution_count": 21,
   "source": [
    "# query aligns with第2个key (key的第2列)，得到attention weights：[0. 1. 0. 0.]\r\n",
    "# 所以第2行 的value值被返回\r\n",
    "temp_q = torch.tensor([[0,10,0]], dtype=torch.float32) # [1,3]\r\n",
    "print_out(temp_q, temp_k, temp_v)\r\n",
    "# Attention weights：[0. 1. 0. 0.]， Output：[[10.  0.]]"
   ],
   "outputs": [
    {
     "output_type": "stream",
     "name": "stdout",
     "text": [
      "Attention weights are:\n",
      "tensor([[8.4333e-26, 1.0000e+00, 8.4333e-26, 8.4333e-26]])\n",
      "Output is:\n",
      "tensor([[1.0000e+01, 9.2766e-25]])\n"
     ]
    }
   ],
   "metadata": {
    "collapsed": false,
    "pycharm": {
     "name": "#%%\n"
    }
   }
  },
  {
   "cell_type": "code",
   "execution_count": 22,
   "source": [
    "# query aligns with 重复的key (key的第3列和第4列)，得到attention weights：[0. 0. 0.5 0.5]\r\n",
    "# 所以第3行的value值与第4行的value值平均化后，被返回 【(100+1000)/2=550, (5+6)/2=5.5】\r\n",
    "temp_q = torch.tensor([[0,0,10]], dtype=torch.float32) # [1,3]\r\n",
    "print_out(temp_q, temp_k, temp_v)\r\n",
    "# Attention weights：[0. 0. 0.5 0.5]， Output：[[550.  5.5]]"
   ],
   "outputs": [
    {
     "output_type": "stream",
     "name": "stdout",
     "text": [
      "Attention weights are:\n",
      "tensor([[4.2166e-26, 4.2166e-26, 5.0000e-01, 5.0000e-01]])\n",
      "Output is:\n",
      "tensor([[550.0000,   5.5000]])\n"
     ]
    }
   ],
   "metadata": {
    "collapsed": false,
    "pycharm": {
     "name": "#%%\n"
    }
   }
  },
  {
   "cell_type": "code",
   "execution_count": 23,
   "source": [
    "# query aligns with 第1个key (key的第1列)和第2个key (key的第2列)，得到attention weights：[0.5 0.5 0. 0.]\r\n",
    "# 所以第1行的value值与第2行的value值平均化后，被返回 【(1+10)/2=5.5, (0.+0.)/2=0.】\r\n",
    "temp_q = torch.tensor([[10,10,0]], dtype=torch.float32) # [1,3]\r\n",
    "print_out(temp_q, temp_k, temp_v)\r\n",
    "# Attention weights：[0.5 0.5 0. 0.]， Output：[[5.5.  0.]]"
   ],
   "outputs": [
    {
     "output_type": "stream",
     "name": "stdout",
     "text": [
      "Attention weights are:\n",
      "tensor([[5.0000e-01, 5.0000e-01, 4.2166e-26, 4.2166e-26]])\n",
      "Output is:\n",
      "tensor([[5.5000e+00, 4.6383e-25]])\n"
     ]
    }
   ],
   "metadata": {
    "collapsed": false,
    "pycharm": {
     "name": "#%%\n"
    }
   }
  },
  {
   "cell_type": "code",
   "execution_count": 24,
   "source": [
    "# 传入所有的query\r\n",
    "temp_q = torch.tensor([[0, 0, 10], [0, 10, 0], [10, 10, 0]], dtype=torch.float32)  # (3, 3)\r\n",
    "print_out(temp_q, temp_k, temp_v)\r\n",
    "\"\"\"\r\n",
    "# Attention weights：tensor(\r\n",
    "[[0.  0.  0.5 0.5]\r\n",
    " [0.  1.  0.  0. ]\r\n",
    " [0.5 0.5 0.  0. ]], shape=(3, 4), dtype=float32)，\r\n",
    "# Output：tensor(\r\n",
    "[[550.    5.5]\r\n",
    " [ 10.    0. ]\r\n",
    " [  5.5   0. ]], shape=(3, 2), dtype=float32)\r\n",
    "\"\"\""
   ],
   "outputs": [
    {
     "output_type": "stream",
     "name": "stdout",
     "text": [
      "Attention weights are:\n",
      "tensor([[4.2166e-26, 4.2166e-26, 5.0000e-01, 5.0000e-01],\n",
      "        [8.4333e-26, 1.0000e+00, 8.4333e-26, 8.4333e-26],\n",
      "        [5.0000e-01, 5.0000e-01, 4.2166e-26, 4.2166e-26]])\n",
      "Output is:\n",
      "tensor([[5.5000e+02, 5.5000e+00],\n",
      "        [1.0000e+01, 9.2766e-25],\n",
      "        [5.5000e+00, 4.6383e-25]])\n"
     ]
    },
    {
     "output_type": "execute_result",
     "data": {
      "text/plain": [
       "'\\n# Attention weights：tensor(\\n[[0.  0.  0.5 0.5]\\n [0.  1.  0.  0. ]\\n [0.5 0.5 0.  0. ]], shape=(3, 4), dtype=float32)，\\n# Output：tensor(\\n[[550.    5.5]\\n [ 10.    0. ]\\n [  5.5   0. ]], shape=(3, 2), dtype=float32)\\n'"
      ]
     },
     "metadata": {},
     "execution_count": 24
    }
   ],
   "metadata": {
    "collapsed": false,
    "pycharm": {
     "name": "#%%\n"
    }
   }
  },
  {
   "cell_type": "markdown",
   "source": [
    "## 5.multi-head attention\n",
    "![jupyter-img3](./imgs/im3.jpg)\n",
    "\n",
    "多头注意允许模型在不同的位置联合处理来自不同表示子空间的信息。\n",
    "（Multi-head attention allows the model to jointly attend to information\n",
    "from different representation subspaces at different positions.）\n",
    "\n",
    "$$\\begin{array}{ll}  & MultiHead(Q,K,V)=Concat(head_1,...,head_h)W^O \\\\ & where\\; head_i=Attention(QW_i^Q,KW_i^K,VW_i^V)\\end{array}$$\n",
    "\n",
    "其中投影维参数矩阵$W_i^Q\\in R^{d_{model}\\text{x}\\,d_k}$，$W_i^K\\in R^{d_{model}\\text{x}\\,d_k}$， $W_i^V\\in R^{d_{model}\\text{x}\\,d_v}$，$W^O\\in R^{hd_v\\text{x}\\,d_{model}}$。\n",
    "\n",
    "$h=8,\\;d_k = d_v = d_{model}/h = 64$\n",
    "\n",
    "multi-head attention有4部分组成：\n",
    "- linear layer 将 linear layer的结果 split到不同的head\n",
    "- scaled dot-product attention\n",
    "- 将所有的head 进行拼接 concat\n",
    "- final linear layer"
   ],
   "metadata": {
    "collapsed": false,
    "pycharm": {
     "name": "#%% md\n"
    }
   }
  },
  {
   "cell_type": "code",
   "execution_count": 25,
   "source": [
    "class MultiHeadAttention(torch.nn.Module):\r\n",
    "    def __init__(self, d_model, num_heads):\r\n",
    "        super(MultiHeadAttention, self).__init__()\r\n",
    "        self.num_heads = num_heads\r\n",
    "        self.d_model = d_model\r\n",
    "\r\n",
    "        assert d_model % self.num_heads == 0  # 因为输入要被（平均？）split到不同的head\r\n",
    "\r\n",
    "        self.depth = d_model // self.num_heads  # 512/8=64，所以在scaled dot-product atten中dq=dk=64,dv也是64\r\n",
    "\r\n",
    "        self.wq = torch.nn.Linear(d_model, d_model)\r\n",
    "        self.wk = torch.nn.Linear(d_model, d_model)\r\n",
    "        self.wv = torch.nn.Linear(d_model, d_model)\r\n",
    "\r\n",
    "        self.final_linear = torch.nn.Linear(d_model, d_model)\r\n",
    "\r\n",
    "    def split_heads(self, x, batch_size):  # x [b, seq_len, d_model]\r\n",
    "        x = x.view(batch_size, -1, self.num_heads,\r\n",
    "                   self.depth)  # [b, seq_len, d_model=512]=>[b, seq_len, num_head=8, depth=64]\r\n",
    "        return x.transpose(1, 2)  # [b, seq_len, num_head=8, depth=64]=>[b, num_head=8, seq_len, depth=64]\r\n",
    "\r\n",
    "    def forward(self, q, k, v, mask):  # q=k=v=x [b, seq_len, embedding_dim] embedding_dim其实也=d_model\r\n",
    "        batch_size = q.shape[0]\r\n",
    "\r\n",
    "        q = self.wq(q)  # =>[b, seq_len, d_model]\r\n",
    "        k = self.wk(k)  # =>[b, seq_len, d_model]\r\n",
    "        v = self.wv(v)  # =>[b, seq_len, d_model]\r\n",
    "\r\n",
    "        q = self.split_heads(q, batch_size)  # =>[b, num_head=8, seq_len, depth=64]\r\n",
    "        k = self.split_heads(k, batch_size)  # =>[b, num_head=8, seq_len, depth=64]\r\n",
    "        v = self.split_heads(v, batch_size)  # =>[b, num_head=8, seq_len, depth=64]\r\n",
    "\r\n",
    "        scaled_attention, attention_weights = scaled_dot_product_attention(q, k, v, mask)\r\n",
    "        # => [b, num_head=8, seq_len_q, depth=64], [b, num_head=8, seq_len_q, seq_len_k]\r\n",
    "\r\n",
    "        scaled_attention = scaled_attention.transpose(1, 2)  # =>[b, seq_len_q, num_head=8, depth=64]\r\n",
    "        # 转置操作让张量存储结构扭曲，直接使用view方法会失败，可以使用reshape方法\r\n",
    "        concat_attention = scaled_attention.reshape(batch_size, -1, self.d_model)  # =>[b, seq_len_q, d_model=512]\r\n",
    "\r\n",
    "        output = self.final_linear(concat_attention)  # =>[b, seq_len_q, d_model=512]\r\n",
    "        return output, attention_weights  # [b, seq_len_q, d_model=512], [b, num_head=8, seq_len_q, seq_len_k]\r\n",
    "\r\n",
    "\r\n",
    "temp_mha = MultiHeadAttention(d_model=512, num_heads=8)\r\n",
    "x = torch.rand(1, 60, 512) # [b,seq_len,d_model,embedding_dim]\r\n",
    "print(x.shape)\r\n",
    "out, attn_weights = temp_mha(x, x, x, mask=None)\r\n",
    "print(out.shape, attn_weights.shape) # [1, 60, 512], [1, 8, 60, 60]"
   ],
   "outputs": [
    {
     "output_type": "stream",
     "name": "stdout",
     "text": [
      "torch.Size([1, 60, 512])\n",
      "torch.Size([1, 60, 512]) torch.Size([1, 8, 60, 60])\n"
     ]
    }
   ],
   "metadata": {
    "collapsed": false,
    "pycharm": {
     "name": "#%%\n"
    }
   }
  },
  {
   "cell_type": "markdown",
   "source": [
    "## 6.point wise feed forward network\n",
    "2层线性变换和一个ReLU激活：\n",
    "$$FFN(x) = max(0, xW1 + b1)W2 + b2$$\n",
    "\n",
    "这一层的input和output的维度都是$d_{model}$，而内层的维度的是$d_{ff}=2048$\n",
    "\n",
    "其实就是(nn.relu(x w1+b1))w2+b2"
   ],
   "metadata": {
    "collapsed": false,
    "pycharm": {
     "name": "#%% md\n"
    }
   }
  },
  {
   "cell_type": "code",
   "execution_count": 26,
   "source": [
    "# 点式前馈网络\r\n",
    "def point_wise_feed_forward_network(d_model, dff):\r\n",
    "    feed_forward_net = torch.nn.Sequential(\r\n",
    "        torch.nn.Linear(d_model, dff),  # [b, seq_len, d_model]=>[b, seq_len, dff=2048]\r\n",
    "        torch.nn.ReLU(),\r\n",
    "        torch.nn.Linear(dff, d_model),  # [b, seq_len, dff=2048]=>[b, seq_len, d_model=512]\r\n",
    "    )\r\n",
    "    return feed_forward_net\r\n",
    "\r\n",
    "sample_ffn = point_wise_feed_forward_network(512, 2048)\r\n",
    "input = torch.rand(64, 50, 512) # [b, seq_len, d_model]\r\n",
    "print(sample_ffn(input).shape) # [b=64, seq_len=50, d_model=512]\r\n"
   ],
   "outputs": [
    {
     "output_type": "stream",
     "name": "stdout",
     "text": [
      "torch.Size([64, 50, 512])\n"
     ]
    }
   ],
   "metadata": {
    "collapsed": false,
    "pycharm": {
     "name": "#%%\n"
    }
   }
  },
  {
   "cell_type": "markdown",
   "source": [
    "transformer model:\n",
    "\n",
    "(1) input sentence 传入N个encoder layer，句子的每个token都会有一个输出\n",
    "\n",
    "(2) decoder attends on encoder 的输出（encoder-decoder attention） 和 它自己的输入（self-attention），然后预测出下一个词\n",
    "\n",
    "## 7.encoder layer\n",
    "每个编码器层包括以下2个子层：\n",
    "- 多头注意力（有padding mask）\n",
    "- 点式前馈网络（Point wise feed forward networks）\n",
    "\n",
    "注意：每个子层还伴随着一个残差连接，然后进行“层归一化”（LayerNorm）。残差连接有助于避免深度网络中的梯度消失问题。\n",
    "\n",
    "每个子层的输出是 LayerNorm(x + Sublayer(x))。归一化是在 d_model（最后一个）维度完成的。\n",
    "\n",
    "注意：实现时在每个sub layer 之后加入了dropout层，再才进行add the sub layer input 和 normalized，即\n",
    "LayerNorm(x + Dropout(Sublayer(x)))\n",
    "\n",
    "Transformer 中有 N 个编码器层。"
   ],
   "metadata": {
    "collapsed": false,
    "pycharm": {
     "name": "#%% md\n"
    }
   }
  },
  {
   "cell_type": "code",
   "execution_count": 27,
   "source": [
    "class EncoderLayer(torch.nn.Module):\r\n",
    "    def __init__(self, d_model, num_heads, dff, rate=0.1):\r\n",
    "        super(EncoderLayer, self).__init__()\r\n",
    "\r\n",
    "        self.mha = MultiHeadAttention(d_model, num_heads)  # 多头注意力（padding mask）(self-attention)\r\n",
    "        self.ffn = point_wise_feed_forward_network(d_model, dff)\r\n",
    "\r\n",
    "        self.layernorm1 = torch.nn.LayerNorm(normalized_shape=d_model, eps=1e-6)\r\n",
    "        self.layernorm2 = torch.nn.LayerNorm(normalized_shape=d_model, eps=1e-6)\r\n",
    "\r\n",
    "        self.dropout1 = torch.nn.Dropout(rate)\r\n",
    "        self.dropout2 = torch.nn.Dropout(rate)\r\n",
    "\r\n",
    "    # x [b, inp_seq_len, embedding_dim] embedding_dim其实也=d_model\r\n",
    "    # mask [b,1,1,inp_seq_len]\r\n",
    "    def forward(self, x, mask):\r\n",
    "        attn_output, _ = self.mha(x, x, x, mask)  # =>[b, seq_len, d_model]\r\n",
    "        attn_output = self.dropout1(attn_output)\r\n",
    "        out1 = self.layernorm1(x + attn_output)  # 残差&层归一化 =>[b, seq_len, d_model]\r\n",
    "\r\n",
    "        ffn_output = self.ffn(out1)  # =>[b, seq_len, d_model]\r\n",
    "        ffn_output = self.dropout2(ffn_output)\r\n",
    "        out2 = self.layernorm2(out1 + ffn_output)  # 残差&层归一化 =>[b, seq_len, d_model]\r\n",
    "\r\n",
    "        return out2  # [b, seq_len, d_model]\r\n",
    "\r\n",
    "# layernorm = torch.nn.LayerNorm(normalized_shape=512, eps=1e-6)\r\n",
    "# x = torch.rand(4, 50, 512)\r\n",
    "# print(layernorm(x).shape)\r\n",
    "\r\n",
    "sample_encoder_layer = EncoderLayer(512, 8, 2048)\r\n",
    "x = torch.rand(64, 50, 512) # [b, seq_len, d_model]\r\n",
    "sample_encoder_layer_output = sample_encoder_layer(x, None)\r\n",
    "print(sample_encoder_layer_output.shape) # [64, 50, 512]"
   ],
   "outputs": [
    {
     "output_type": "stream",
     "name": "stdout",
     "text": [
      "torch.Size([64, 50, 512])\n"
     ]
    }
   ],
   "metadata": {
    "collapsed": false,
    "pycharm": {
     "name": "#%%\n"
    }
   }
  },
  {
   "cell_type": "markdown",
   "source": [
    "## 8.decoder layer\n",
    "\n",
    "每个解码器层包括以下3个子层：\n",
    "- masked的多头注意力（look ahead mask 和 padding mask）(self-attention)\n",
    "- 多头注意力（padding mask）(encoder-decoder attention)。\n",
    "    V和 K接收encoder的输出作为输入。Q接收masked的多头注意力子层的输出。\n",
    "- 点式前馈网络\n",
    "\n",
    "每个子层还伴随着一个残差连接，然后进行“层归一化”（LayerNorm）。\n",
    "\n",
    "每个子层的输出是 LayerNorm(x + Sublayer(x))。归一化是在 d_model（最后一个）维度完成的。\n",
    "\n",
    "Transformer 中共有 N 个解码器层。\n",
    "\n",
    "当 Q 接收到decoder的第一个注意力块的输出，并且 K 接收到encoder的输出时，注意力权重表示根据encoder的输出赋予decoder输入的重要性。\n",
    "换一种说法，decoder通过查看encoder输出和对其自身输出的自注意力，预测下一个词。"
   ],
   "metadata": {
    "collapsed": false,
    "pycharm": {
     "name": "#%% md\n"
    }
   }
  },
  {
   "cell_type": "code",
   "execution_count": 28,
   "source": [
    "class DecoderLayer(torch.nn.Module):\r\n",
    "    def __init__(self, d_model, num_heads, dff, rate=0.1):\r\n",
    "        super(DecoderLayer, self).__init__()\r\n",
    "\r\n",
    "        self.mha1 = MultiHeadAttention(d_model,\r\n",
    "                                       num_heads)  # masked的多头注意力（look ahead mask 和 padding mask）(self-attention)\r\n",
    "        self.mha2 = MultiHeadAttention(d_model, num_heads)  # 多头注意力（padding mask）(encoder-decoder attention)\r\n",
    "\r\n",
    "        self.ffn = point_wise_feed_forward_network(d_model, dff)\r\n",
    "\r\n",
    "        self.layernorm1 = torch.nn.LayerNorm(normalized_shape=d_model, eps=1e-6)\r\n",
    "        self.layernorm2 = torch.nn.LayerNorm(normalized_shape=d_model, eps=1e-6)\r\n",
    "        self.layernorm3 = torch.nn.LayerNorm(normalized_shape=d_model, eps=1e-6)\r\n",
    "\r\n",
    "        self.dropout1 = torch.nn.Dropout(rate)\r\n",
    "        self.dropout2 = torch.nn.Dropout(rate)\r\n",
    "        self.dropout3 = torch.nn.Dropout(rate)\r\n",
    "\r\n",
    "    # x [b, targ_seq_len, embedding_dim] embedding_dim其实也=d_model=512\r\n",
    "    # look_ahead_mask [b, 1, targ_seq_len, targ_seq_len] 这里传入的look_ahead_mask应该是已经结合了look_ahead_mask和padding mask的mask\r\n",
    "    # enc_output [b, inp_seq_len, d_model]\r\n",
    "    # padding_mask [b, 1, 1, inp_seq_len]\r\n",
    "    def forward(self, x, enc_output, look_ahead_mask, padding_mask):\r\n",
    "        attn1, attn_weights_block1 = self.mha1(x, x, x,\r\n",
    "                                               look_ahead_mask)  # =>[b, targ_seq_len, d_model], [b, num_heads, targ_seq_len, targ_seq_len]\r\n",
    "        attn1 = self.dropout1(attn1)\r\n",
    "        out1 = self.layernorm1(x + attn1)  # 残差&层归一化 [b, targ_seq_len, d_model]\r\n",
    "\r\n",
    "        # Q: receives the output from decoder's first attention block，即 masked multi-head attention sublayer\r\n",
    "        # K V: V (value) and K (key) receive the encoder output as inputs\r\n",
    "        attn2, attn_weights_block2 = self.mha2(out1, enc_output, enc_output,\r\n",
    "                                               padding_mask)  # =>[b, targ_seq_len, d_model], [b, num_heads, targ_seq_len, inp_seq_len]\r\n",
    "        attn2 = self.dropout2(attn2)\r\n",
    "        out2 = self.layernorm2(out1 + attn2)  # 残差&层归一化 [b, targ_seq_len, d_model]\r\n",
    "\r\n",
    "        ffn_output = self.ffn(out2)  # =>[b, targ_seq_len, d_model]\r\n",
    "        ffn_output = self.dropout3(ffn_output)\r\n",
    "        out3 = self.layernorm3(out2 + ffn_output)  # 残差&层归一化 =>[b, targ_seq_len, d_model]\r\n",
    "\r\n",
    "        return out3, attn_weights_block1, attn_weights_block2\r\n",
    "        # [b, targ_seq_len, d_model], [b, num_heads, targ_seq_len, targ_seq_len], [b, num_heads, targ_seq_len, inp_seq_len]\r\n",
    "\r\n",
    "\r\n",
    "sample_decoder_layer = DecoderLayer(512, 8, 2048) #\r\n",
    "y = torch.rand(64, 40, 512) # [b, seq_len, d_model]\r\n",
    "sample_decoder_layer_output,_,_ = sample_decoder_layer(y, sample_encoder_layer_output, None, None)\r\n",
    "print(sample_decoder_layer_output.shape) # [64, 40, 512]"
   ],
   "outputs": [
    {
     "output_type": "stream",
     "name": "stdout",
     "text": [
      "torch.Size([64, 40, 512])\n"
     ]
    }
   ],
   "metadata": {
    "collapsed": false,
    "pycharm": {
     "name": "#%%\n"
    }
   }
  },
  {
   "cell_type": "markdown",
   "source": [
    "## 9.encoder\n",
    "编码器 包括：\n",
    "- 输入嵌入（Input Embedding）\n",
    "- 位置编码（Positional Encoding）\n",
    "- N 个编码器层（encoder layers）\n",
    "\n",
    "输入经过嵌入（embedding）后，该嵌入与位置编码相加。该加法结果的输出是编码器层的输入。编码器的输出是解码器的输入\n",
    "\n",
    "注意：缩放 embedding\n",
    "\n",
    "原始论文的3.4节Embeddings and Softmax最后一句有提到： In the embedding layers, we multiply those weights by $\\sqrt{d_{model}}$."
   ],
   "metadata": {
    "collapsed": false,
    "pycharm": {
     "name": "#%% md\n"
    }
   }
  },
  {
   "cell_type": "code",
   "execution_count": 29,
   "source": [
    "class Encoder(torch.nn.Module):\r\n",
    "    def __init__(self,\r\n",
    "                 num_layers,  # N个encoder layer\r\n",
    "                 d_model,\r\n",
    "                 num_heads,\r\n",
    "                 dff,  # 点式前馈网络内层fn的维度\r\n",
    "                 input_vocab_size,  # 输入词表大小（源语言（法语））\r\n",
    "                 maximun_position_encoding,\r\n",
    "                 rate=0.1):\r\n",
    "        super(Encoder, self).__init__()\r\n",
    "\r\n",
    "        self.num_layers = num_layers\r\n",
    "        self.d_model = d_model\r\n",
    "\r\n",
    "        self.embedding = torch.nn.Embedding(num_embeddings=input_vocab_size, embedding_dim=d_model)\r\n",
    "        self.pos_encoding = positional_encoding(maximun_position_encoding,\r\n",
    "                                                d_model)  # =>[1, max_pos_encoding, d_model=512]\r\n",
    "\r\n",
    "        # self.enc_layers = [EncoderLayer(d_model, num_heads, dff, rate).cuda() for _ in range(num_layers)] # 不行\r\n",
    "        self.enc_layers = torch.nn.ModuleList([EncoderLayer(d_model, num_heads, dff, rate) for _ in range(num_layers)])\r\n",
    "\r\n",
    "        self.dropout = torch.nn.Dropout(rate)\r\n",
    "\r\n",
    "    # x [b, inp_seq_len]\r\n",
    "    # mask [b, 1, 1, inp_sel_len]\r\n",
    "    def forward(self, x, mask):\r\n",
    "        inp_seq_len = x.shape[-1]\r\n",
    "\r\n",
    "        # adding embedding and position encoding\r\n",
    "        x = self.embedding(x)  # [b, inp_seq_len]=>[b, inp_seq_len, d_model]\r\n",
    "        # 缩放 embedding 原始论文的3.4节有提到： In the embedding layers, we multiply those weights by \\sqrt{d_model}.\r\n",
    "        x *= torch.sqrt(torch.tensor(self.d_model, dtype=torch.float32))\r\n",
    "        pos_encoding = self.pos_encoding[:, :inp_seq_len, :]\r\n",
    "        # pos_encoding = pos_encoding.cuda()  # ###############\r\n",
    "        pos_encoding = pos_encoding  # ###############\r\n",
    "        x += pos_encoding  # [b, inp_seq_len, d_model]\r\n",
    "\r\n",
    "        x = self.dropout(x)\r\n",
    "\r\n",
    "        for i in range(self.num_layers):\r\n",
    "            x = self.enc_layers[i](x, mask)  # [b, inp_seq_len, d_model]=>[b, inp_seq_len, d_model]\r\n",
    "        return x  # [b, inp_seq_len, d_model]\r\n",
    "\r\n",
    "\r\n",
    "sample_encoder = Encoder(num_layers=2,\r\n",
    "                         d_model=512,\r\n",
    "                         num_heads=8,\r\n",
    "                         dff=2048,\r\n",
    "                         input_vocab_size=8500,\r\n",
    "                         maximun_position_encoding=10000)\r\n",
    "sample_encoder = sample_encoder.to(device)\r\n",
    "\r\n",
    "x = torch.tensor(np.random.randint(low=0, high=200, size=(64, 42))) # [b, seq_len]\r\n",
    "# print(x.shape)\r\n",
    "# sample_encoder_output = sample_encoder(x.cuda(), None)\r\n",
    "sample_encoder_output = sample_encoder(x, None)\r\n",
    "print(sample_encoder_output.shape) # [b, seq_len, d_model]"
   ],
   "outputs": [
    {
     "output_type": "stream",
     "name": "stdout",
     "text": [
      "torch.Size([64, 42, 512])\n"
     ]
    }
   ],
   "metadata": {
    "collapsed": false,
    "pycharm": {
     "name": "#%%\n"
    }
   }
  },
  {
   "cell_type": "markdown",
   "source": [
    "## 10.decoder\n",
    "解码器包括：\n",
    "- 输出嵌入（Output Embedding）\n",
    "- 位置编码（Positional Encoding）\n",
    "\n",
    "N 个解码器层（decoder layers）\n",
    "\n",
    "目标（target）经过一个嵌入后，该嵌入和位置编码相加。该加法结果是解码器层的输入。解码器的输出是最后的线性层的输入。"
   ],
   "metadata": {
    "collapsed": false,
    "pycharm": {
     "name": "#%% md\n"
    }
   }
  },
  {
   "cell_type": "code",
   "execution_count": 30,
   "source": [
    "class Decoder(torch.nn.Module):\r\n",
    "    def __init__(self,\r\n",
    "                 num_layers,  # N个encoder layer\r\n",
    "                 d_model,\r\n",
    "                 num_heads,\r\n",
    "                 dff,  # 点式前馈网络内层fn的维度\r\n",
    "                 target_vocab_size,  # target词表大小（目标语言（英语））\r\n",
    "                 maximun_position_encoding,\r\n",
    "                 rate=0.1):\r\n",
    "        super(Decoder, self).__init__()\r\n",
    "\r\n",
    "        self.num_layers = num_layers\r\n",
    "        self.d_model = d_model\r\n",
    "\r\n",
    "        self.embedding = torch.nn.Embedding(num_embeddings=target_vocab_size, embedding_dim=d_model)\r\n",
    "        self.pos_encoding = positional_encoding(maximun_position_encoding,\r\n",
    "                                                d_model)  # =>[1, max_pos_encoding, d_model=512]\r\n",
    "\r\n",
    "        # self.dec_layers = [DecoderLayer(d_model, num_heads, dff, rate).cuda() for _ in range(num_layers)] # 不行\r\n",
    "        self.dec_layers = torch.nn.ModuleList([DecoderLayer(d_model, num_heads, dff, rate) for _ in range(num_layers)])\r\n",
    "\r\n",
    "        self.dropout = torch.nn.Dropout(rate)\r\n",
    "\r\n",
    "    # x [b, targ_seq_len]\r\n",
    "    # look_ahead_mask [b, 1, targ_seq_len, targ_seq_len] 这里传入的look_ahead_mask应该是已经结合了look_ahead_mask和padding mask的mask\r\n",
    "    # enc_output [b, inp_seq_len, d_model]\r\n",
    "    # padding_mask [b, 1, 1, inp_seq_len]\r\n",
    "    def forward(self, x, enc_output, look_ahead_mask, padding_mask):\r\n",
    "        targ_seq_len = x.shape[-1]\r\n",
    "\r\n",
    "        attention_weights = {}\r\n",
    "\r\n",
    "        # adding embedding and position encoding\r\n",
    "        x = self.embedding(x)  # [b, targ_seq_len]=>[b, targ_seq_len, d_model]\r\n",
    "        # 缩放 embedding 原始论文的3.4节有提到： In the embedding layers, we multiply those weights by \\sqrt{d_model}.\r\n",
    "        x *= torch.sqrt(torch.tensor(self.d_model, dtype=torch.float32))\r\n",
    "        # x += self.pos_encoding[:, :targ_seq_len, :]  # [b, targ_seq_len, d_model]\r\n",
    "        pos_encoding = self.pos_encoding[:, :targ_seq_len, :]  # [b, targ_seq_len, d_model]\r\n",
    "        pos_encoding = pos_encoding # ############### pos_encoding.cuda()\r\n",
    "        x += pos_encoding  # [b, inp_seq_len, d_model]\r\n",
    "\r\n",
    "        x = self.dropout(x)\r\n",
    "\r\n",
    "        for i in range(self.num_layers):\r\n",
    "            x, attn_block1, attn_block2 = self.dec_layers[i](x, enc_output, look_ahead_mask, padding_mask)\r\n",
    "            # => [b, targ_seq_len, d_model], [b, num_heads, targ_seq_len, targ_seq_len], [b, num_heads, targ_seq_len, inp_seq_len]\r\n",
    "\r\n",
    "            attention_weights[f'decoder_layer{i + 1}_block1'] = attn_block1\r\n",
    "            attention_weights[f'decoder_layer{i + 1}_block2'] = attn_block2\r\n",
    "\r\n",
    "        return x, attention_weights\r\n",
    "        # => [b, targ_seq_len, d_model],\r\n",
    "        # {'..block1': [b, num_heads, targ_seq_len, targ_seq_len],\r\n",
    "        #  '..block2': [b, num_heads, targ_seq_len, inp_seq_len], ...}\r\n",
    "\r\n",
    "sample_decoder = Decoder(num_layers=2,\r\n",
    "                         d_model=512,\r\n",
    "                         num_heads=8,\r\n",
    "                         dff=2048,\r\n",
    "                         target_vocab_size=8000,\r\n",
    "                         maximun_position_encoding=5000)\r\n",
    "sample_decoder = sample_decoder.to(device)\r\n",
    "\r\n",
    "y = torch.tensor(np.random.randint(low=0, high=200, size=(64, 36))) # [b, seq_len]\r\n",
    "# print(y.shape) # [64, 36]\r\n",
    "output, attn = sample_decoder(y,## y.cuda()\r\n",
    "                              enc_output=sample_encoder_output, # [64, 42, 512]\r\n",
    "                              look_ahead_mask=None,\r\n",
    "                              padding_mask=None)\r\n",
    "print(output.shape) # [64, 36, 512]\r\n",
    "print(attn['decoder_layer2_block1'].shape) # [64, 8, 36, 36]\r\n",
    "print(attn['decoder_layer2_block2'].shape) # [64, 8, 36, 42]"
   ],
   "outputs": [
    {
     "output_type": "stream",
     "name": "stdout",
     "text": [
      "torch.Size([64, 36, 512])\n",
      "torch.Size([64, 8, 36, 36])\n",
      "torch.Size([64, 8, 36, 42])\n"
     ]
    }
   ],
   "metadata": {
    "collapsed": false,
    "pycharm": {
     "name": "#%%\n"
    }
   }
  },
  {
   "cell_type": "markdown",
   "source": [
    "## 11.搭建transformer\n",
    "transformer 含有3各部分\n",
    "- encoder\n",
    "- decoder\n",
    "- final linear layer"
   ],
   "metadata": {
    "collapsed": false,
    "pycharm": {
     "name": "#%% md\n"
    }
   }
  },
  {
   "cell_type": "code",
   "execution_count": 31,
   "source": [
    "class Transformer(torch.nn.Module):\r\n",
    "    def __init__(self,\r\n",
    "                 num_layers,  # N个encoder layer\r\n",
    "                 d_model,\r\n",
    "                 num_heads,\r\n",
    "                 dff,  # 点式前馈网络内层fn的维度\r\n",
    "                 input_vocab_size,  # input此表大小（源语言（法语））\r\n",
    "                 target_vocab_size,  # target词表大小（目标语言（英语））\r\n",
    "                 pe_input,  # input max_pos_encoding\r\n",
    "                 pe_target,  # input max_pos_encoding\r\n",
    "                 rate=0.1):\r\n",
    "        super(Transformer, self).__init__()\r\n",
    "\r\n",
    "        self.encoder = Encoder(num_layers,\r\n",
    "                               d_model,\r\n",
    "                               num_heads,\r\n",
    "                               dff,\r\n",
    "                               input_vocab_size,\r\n",
    "                               pe_input,\r\n",
    "                               rate)\r\n",
    "        self.decoder = Decoder(num_layers,\r\n",
    "                               d_model,\r\n",
    "                               num_heads,\r\n",
    "                               dff,\r\n",
    "                               target_vocab_size,\r\n",
    "                               pe_target,\r\n",
    "                               rate)\r\n",
    "        self.final_layer = torch.nn.Linear(d_model, target_vocab_size)\r\n",
    "\r\n",
    "    # inp [b, inp_seq_len]\r\n",
    "    # targ [b, targ_seq_len]\r\n",
    "    # enc_padding_mask [b, 1, 1, inp_seq_len]\r\n",
    "    # look_ahead_mask [b, 1, targ_seq_len, targ_seq_len]\r\n",
    "    # dec_padding_mask [b, 1, 1, inp_seq_len] # 注意这里的维度是inp_seq_len\r\n",
    "    def forward(self, inp, targ, enc_padding_mask, look_ahead_mask, dec_padding_mask):\r\n",
    "        enc_output = self.encoder(inp, enc_padding_mask)  # =>[b, inp_seq_len, d_model]\r\n",
    "\r\n",
    "        dec_output, attention_weights = self.decoder(targ, enc_output, look_ahead_mask, dec_padding_mask)\r\n",
    "        # => [b, targ_seq_len, d_model],\r\n",
    "        # {'..block1': [b, num_heads, targ_seq_len, targ_seq_len],\r\n",
    "        #  '..block2': [b, num_heads, targ_seq_len, inp_seq_len], ...}\r\n",
    "        final_output = self.final_layer(dec_output)  # =>[b, targ_seq_len, target_vocab_size]\r\n",
    "\r\n",
    "        return final_output, attention_weights\r\n",
    "        # [b, targ_seq_len, target_vocab_size]\r\n",
    "        # {'..block1': [b, num_heads, targ_seq_len, targ_seq_len],\r\n",
    "        #  '..block2': [b, num_heads, targ_seq_len, inp_seq_len], ...}\r\n",
    "\r\n",
    "\r\n",
    "sample_transformer = Transformer(num_layers=2,\r\n",
    "                                 d_model=512,\r\n",
    "                                 num_heads=8,\r\n",
    "                                 dff=2048,\r\n",
    "                                 input_vocab_size=8500,\r\n",
    "                                 target_vocab_size=8000,\r\n",
    "                                 pe_input=10000,\r\n",
    "                                 pe_target=6000)\r\n",
    "sample_transformer = sample_transformer.to(device)\r\n",
    "\r\n",
    "temp_inp = torch.tensor(np.random.randint(low=0, high=200, size=(64, 42))) # [b, inp_seq_len]\r\n",
    "temp_targ = torch.tensor(np.random.randint(low=0, high=200, size=(64, 36))) # [b, targ_seq_len]\r\n",
    "\r\n",
    "# fn_out, attn = sample_transformer(temp_inp.cuda(), temp_targ.cuda(), None, None, None)\r\n",
    "fn_out, attn = sample_transformer(temp_inp, temp_targ, None, None, None)\r\n",
    "print(fn_out.shape) # [64, 36, 8000]\r\n",
    "print(attn['decoder_layer2_block1'].shape) # [64, 8, 36, 36]\r\n",
    "print(attn['decoder_layer2_block2'].shape) # [64, 8, 36, 42]"
   ],
   "outputs": [
    {
     "output_type": "stream",
     "name": "stdout",
     "text": [
      "torch.Size([64, 36, 8000])\n",
      "torch.Size([64, 8, 36, 36])\n",
      "torch.Size([64, 8, 36, 42])\n"
     ]
    }
   ],
   "metadata": {
    "collapsed": false,
    "pycharm": {
     "name": "#%%\n"
    }
   }
  },
  {
   "cell_type": "markdown",
   "source": [
    "## 12.设置超参"
   ],
   "metadata": {
    "collapsed": false,
    "pycharm": {
     "name": "#%% md\n"
    }
   }
  },
  {
   "cell_type": "code",
   "execution_count": 32,
   "source": [
    "#Transformer 的基础模型使用的数值为：num_layers=6，d_model = 512，dff = 2048\r\n",
    "#为了让本示例小且相对较快，已经减小了num_layers、 d_model 和 dff 的值。\r\n",
    "num_layers = 4\r\n",
    "d_model = 128\r\n",
    "dff = 512\r\n",
    "num_heads = 8\r\n",
    "\r\n",
    "input_vocab_size = len(SRC_TEXT.vocab) # 3901\r\n",
    "target_vocab_size = len(TARG_TEXT.vocab) # 2591\r\n",
    "dropout_rate = 0.1\r\n",
    "\r\n",
    "print(input_vocab_size, target_vocab_size)"
   ],
   "outputs": [
    {
     "output_type": "stream",
     "name": "stdout",
     "text": [
      "3901 2591\n"
     ]
    }
   ],
   "metadata": {
    "collapsed": false,
    "pycharm": {
     "name": "#%%\n"
    }
   }
  },
  {
   "cell_type": "markdown",
   "source": [
    "## 13.优化器\n",
    "根据论文中的公式，将 Adam 优化器与自定义的学习速率调度程序（scheduler）配合使用。\n",
    "\n",
    "$$lrate = d_{model}^{-0.5} * min(\\text{step_num}^{-0.5},\\; \\text{step_num}*\\text{warmup_steps}^{-1.5})$$\n",
    "\n",
    "关于pytorch optimizer，参考：\n",
    "\n",
    "https://www.cnblogs.com/wanghui-garcia/p/10895397.html\n",
    "\n",
    "https://www.jianshu.com/p/5d85a59f1bac"
   ],
   "metadata": {
    "collapsed": false,
    "pycharm": {
     "name": "#%% md\n"
    }
   }
  },
  {
   "cell_type": "code",
   "execution_count": 33,
   "source": [
    "class CustomSchedule(torch.optim.lr_scheduler._LRScheduler):\r\n",
    "    def __init__(self, optimizer, d_model, warm_steps=4):\r\n",
    "        self.optimizer = optimizer\r\n",
    "        self.d_model = d_model\r\n",
    "        self.warmup_steps = warm_steps\r\n",
    "\r\n",
    "        super(CustomSchedule, self).__init__(optimizer)\r\n",
    "\r\n",
    "    def get_lr(self):\r\n",
    "        \"\"\"\r\n",
    "        # rsqrt 函数用于计算 x 元素的平方根的倒数.  即= 1 / sqrt{x}\r\n",
    "        arg1 = torch.rsqrt(torch.tensor(self._step_count, dtype=torch.float32))\r\n",
    "        arg2 = torch.tensor(self._step_count * (self.warmup_steps ** -1.5), dtype=torch.float32)\r\n",
    "        dynamic_lr = torch.rsqrt(self.d_model) * torch.minimum(arg1, arg2)\r\n",
    "        \"\"\"\r\n",
    "        # print('*'*27, self._step_count)\r\n",
    "        arg1 = self._step_count ** (-0.5)\r\n",
    "        arg2 = self._step_count * (self.warmup_steps ** -1.5)\r\n",
    "        dynamic_lr = (self.d_model ** (-0.5)) * min(arg1, arg2)\r\n",
    "        # print('dynamic_lr:', dynamic_lr)\r\n",
    "        return [dynamic_lr for group in self.optimizer.param_groups]"
   ],
   "outputs": [],
   "metadata": {
    "collapsed": false,
    "pycharm": {
     "name": "#%%\n"
    }
   }
  },
  {
   "cell_type": "code",
   "execution_count": 34,
   "source": [
    "# 测试\r\n",
    "model = sample_transformer\r\n",
    "optimizer = torch.optim.Adam(model.parameters(), lr=0, betas=(0.9, 0.98), eps=1e-9)\r\n",
    "learning_rate = CustomSchedule(optimizer, d_model, warm_steps=4000)\r\n",
    "\r\n",
    "lr_list = []\r\n",
    "for i in range(1, 20000):\r\n",
    "    learning_rate.step()\r\n",
    "    lr_list.append(learning_rate.get_lr()[0])\r\n",
    "plt.figure()\r\n",
    "plt.plot(np.arange(1, 20000), lr_list)\r\n",
    "plt.legend(['warmup=4000 steps'])\r\n",
    "plt.ylabel(\"Learning Rate\")\r\n",
    "plt.xlabel(\"Train Step\")\r\n",
    "plt.show()"
   ],
   "outputs": [
    {
     "output_type": "stream",
     "name": "stderr",
     "text": [
      "C:\\ProgramData\\Anaconda3\\lib\\site-packages\\torch\\optim\\lr_scheduler.py:134: UserWarning: Detected call of `lr_scheduler.step()` before `optimizer.step()`. In PyTorch 1.1.0 and later, you should call them in the opposite order: `optimizer.step()` before `lr_scheduler.step()`.  Failure to do this will result in PyTorch skipping the first value of the learning rate schedule. See more details at https://pytorch.org/docs/stable/optim.html#how-to-adjust-learning-rate\n",
      "  \"https://pytorch.org/docs/stable/optim.html#how-to-adjust-learning-rate\", UserWarning)\n"
     ]
    },
    {
     "output_type": "display_data",
     "data": {
      "image/png": "[encoded data removed]",
      "text/plain": [
       "<Figure size 432x288 with 1 Axes>"
      ]
     },
     "metadata": {}
    }
   ],
   "metadata": {
    "collapsed": false,
    "pycharm": {
     "name": "#%%\n"
    }
   }
  },
  {
   "cell_type": "code",
   "execution_count": 35,
   "source": [
    "# 其他的学习率调度器测试，例如pytorch自带的StepLR\r\n",
    "_model = sample_transformer\r\n",
    "_optimizer = torch.optim.SGD(model.parameters(), lr=0.001, momentum=0.9)\r\n",
    "_learning_rate = torch.optim.lr_scheduler.StepLR(optimizer, step_size=5, gamma=0.5)\r\n",
    "\r\n",
    "lr_list = []\r\n",
    "for i in range(1, 50):\r\n",
    "    _learning_rate.step()\r\n",
    "    lr_list.append(_learning_rate.get_lr()[0])\r\n",
    "plt.figure()\r\n",
    "plt.plot(np.arange(1, 50), lr_list)\r\n",
    "plt.legend(['StepLR:gamma=0.5'])\r\n",
    "plt.ylabel(\"Learning Rate\")\r\n",
    "plt.xlabel(\"Train Step\")\r\n",
    "plt.show()"
   ],
   "outputs": [
    {
     "output_type": "stream",
     "name": "stderr",
     "text": [
      "C:\\ProgramData\\Anaconda3\\lib\\site-packages\\torch\\optim\\lr_scheduler.py:134: UserWarning: Detected call of `lr_scheduler.step()` before `optimizer.step()`. In PyTorch 1.1.0 and later, you should call them in the opposite order: `optimizer.step()` before `lr_scheduler.step()`.  Failure to do this will result in PyTorch skipping the first value of the learning rate schedule. See more details at https://pytorch.org/docs/stable/optim.html#how-to-adjust-learning-rate\n",
      "  \"https://pytorch.org/docs/stable/optim.html#how-to-adjust-learning-rate\", UserWarning)\n",
      "C:\\ProgramData\\Anaconda3\\lib\\site-packages\\torch\\optim\\lr_scheduler.py:370: UserWarning: To get the last learning rate computed by the scheduler, please use `get_last_lr()`.\n",
      "  \"please use `get_last_lr()`.\", UserWarning)\n"
     ]
    },
    {
     "output_type": "display_data",
     "data": {
      "image/png": "[encoded data removed]",
      "text/plain": [
       "<Figure size 432x288 with 1 Axes>"
      ]
     },
     "metadata": {}
    }
   ],
   "metadata": {
    "collapsed": false,
    "pycharm": {
     "name": "#%%\n"
    }
   }
  },
  {
   "cell_type": "markdown",
   "source": [
    "## 14.损失和评价准则\n",
    "\n",
    "计算loss时要把mask=1的位置的去除掉\n",
    "\n",
    "### 【大坑！】\n",
    "【注意】，当输入是多维时交叉熵的参数维度，跟tf2不一样，tf2中pred是【b,seq_len,vocab_size】\n",
    "pytorch中pred应该调整为【b,vocab_size,seq_len】"
   ],
   "metadata": {
    "collapsed": false,
    "pycharm": {
     "name": "#%% md\n"
    }
   }
  },
  {
   "cell_type": "code",
   "execution_count": 36,
   "source": [
    "# 'none'表示直接返回b个样本的loss，默认求平均\r\n",
    "loss_object = torch.nn.CrossEntropyLoss(reduction='none')\r\n",
    "# 【注意】，当输入是多维时交叉熵的参数维度，跟tf2不一样，tf2中pred是【b,seq_len,vocab_size】\r\n",
    "# pytorch中pred应该调整为【b,vocab_size,seq_len】\r\n",
    "\"\"\"\r\n",
    "- Input: :math:`(N, C)` where `C = number of classes`, or\r\n",
    "          :math:`(N, C, d_1, d_2, ..., d_K)` with :math:`K \\geq 1`\r\n",
    "          in the case of `K`-dimensional loss.\r\n",
    "\r\n",
    "- Target: :math:`(N)` where each value is :math:`0 \\leq \\text{targets}[i] \\leq C-1`, or\r\n",
    "          :math:`(N, d_1, d_2, ..., d_K)` with :math:`K \\geq 1` in the case of\r\n",
    "          K-dimensional loss.\r\n",
    "\"\"\"\r\n",
    "\r\n",
    "# real [b, targ_seq_len]\r\n",
    "# pred [b, targ_seq_len, target_vocab_size]\r\n",
    "def mask_loss_func(real, pred):\r\n",
    "    # print(real.shape, pred.shape)\r\n",
    "    # _loss = loss_object(pred, real) # [b, targ_seq_len]\r\n",
    "    _loss = loss_object(pred.transpose(-1, -2), real)  # [b, targ_seq_len]\r\n",
    "\r\n",
    "    # logical_not  取非\r\n",
    "    # mask 每个元素为bool值，如果real中有pad，则mask相应位置就为False\r\n",
    "    # mask = torch.logical_not(real.eq(0)).type(_loss.dtype) # [b, targ_seq_len] pad=0的情况\r\n",
    "    mask = torch.logical_not(real.eq(pad)).type(_loss.dtype)  # [b, targ_seq_len] pad!=0的情况\r\n",
    "\r\n",
    "    # 对应位置相乘，token上的损失被保留了下来，pad的loss被置为0或False 去掉，不计算在内\r\n",
    "    _loss *= mask\r\n",
    "\r\n",
    "    return _loss.sum() / mask.sum().item()\r\n",
    "\r\n",
    "# 另一种实现方式\r\n",
    "def mask_loss_func2(real, pred):\r\n",
    "    # _loss = loss_object(pred, real) # [b, targ_seq_len]\r\n",
    "    _loss = loss_object(pred.transpose(-1, -2), real)  # [b, targ_seq_len]\r\n",
    "    # mask = torch.logical_not(real.eq(0)) # [b, targ_seq_len] bool值\r\n",
    "    mask = torch.logical_not(real.eq(pad)) # [b, targ_seq_len] bool值\r\n",
    "    _loss = _loss.masked_select(mask) # mask必须是BoolTensor或ByteTensor类型\r\n",
    "    return _loss.mean()\r\n",
    "\r\n",
    "\r\n",
    "y_pred = torch.randn(3,3) # [3,3]\r\n",
    "y_true = torch.tensor([1,2,0]) # [3]\r\n",
    "# print(y_true.shape, y_pred.shape)\r\n",
    "print(loss_object(y_pred, y_true))\r\n",
    "print('计算loss时把mask的也算进去了,损失会偏大？：', loss_object(y_pred, y_true).mean())\r\n",
    "print('计算loss时去除mask:', mask_loss_func(y_true, y_pred))\r\n",
    "print('计算loss时去除mask:', mask_loss_func2(y_true, y_pred))"
   ],
   "outputs": [
    {
     "output_type": "stream",
     "name": "stdout",
     "text": [
      "tensor([3.4187, 1.1944, 0.7605])\n",
      "计算loss时把mask的也算进去了,损失会偏大？： tensor(1.7912)\n",
      "计算loss时去除mask: tensor(1.3896)\n",
      "计算loss时去除mask: tensor(1.3896)\n"
     ]
    }
   ],
   "metadata": {
    "collapsed": false,
    "pycharm": {
     "name": "#%%\n"
    }
   }
  },
  {
   "cell_type": "markdown",
   "source": [
    "同样计算metric（如acc）时要把mask=1的位置的去除掉"
   ],
   "metadata": {
    "collapsed": false,
    "pycharm": {
     "name": "#%% md\n"
    }
   }
  },
  {
   "cell_type": "code",
   "execution_count": 37,
   "source": [
    "# real [b, targ_seq_len]\r\n",
    "# pred [b, targ_seq_len, target_vocab_size]\r\n",
    "def mask_accuracy_func(real, pred):\r\n",
    "    _pred = pred.argmax(dim=-1)  # [b, targ_seq_len, target_vocab_size]=>[b, targ_seq_len]\r\n",
    "    corrects = _pred.eq(real)  # [b, targ_seq_len] bool值\r\n",
    "\r\n",
    "    # logical_not  取非\r\n",
    "    # mask 每个元素为bool值，如果real中有pad，则mask相应位置就为False\r\n",
    "    # mask = torch.logical_not(real.eq(0)) # [b, targ_seq_len] bool值 pad=0的情况\r\n",
    "    mask = torch.logical_not(real.eq(pad))  # [b, targ_seq_len] bool值 pad!=0的情况\r\n",
    "\r\n",
    "    # 对应位置相乘，token上的值被保留了下来，pad上的值被置为0或False 去掉，不计算在内\r\n",
    "    corrects *= mask\r\n",
    "\r\n",
    "    return corrects.sum().float() / mask.sum().item()\r\n",
    "\r\n",
    "# 另一种实现方式\r\n",
    "def mask_accuracy_func2(real, pred):\r\n",
    "    _pred = pred.argmax(dim=-1) # [b, targ_seq_len, target_vocab_size]=>[b, targ_seq_len]\r\n",
    "    corrects = _pred.eq(real).type(torch.float32) # [b, targ_seq_len]\r\n",
    "    # mask = torch.logical_not(real.eq(0)) # [b, targ_seq_len] bool值\r\n",
    "    mask = torch.logical_not(real.eq(pad)) # [b, targ_seq_len] bool值\r\n",
    "    corrects = corrects.masked_select(mask) # [真正有token的个数] 平摊开成1维的\r\n",
    "\r\n",
    "    return corrects.mean()\r\n",
    "\r\n",
    "def mask_accuracy_func3(real, pred):\r\n",
    "    _pred = pred.argmax(dim=-1) # [b, targ_seq_len, target_vocab_size]=>[b, targ_seq_len]\r\n",
    "    corrects = _pred.eq(real) # [b, targ_seq_len] bool值\r\n",
    "    # mask = torch.logical_not(real.eq(0)) # [b, targ_seq_len] bool值\r\n",
    "    mask = torch.logical_not(real.eq(pad)) # [b, targ_seq_len] bool值\r\n",
    "    corrects = torch.logical_and(corrects, mask)\r\n",
    "    # print(corrects.dtype) # bool\r\n",
    "    # print(corrects.sum().dtype) #int64\r\n",
    "    return corrects.sum().float()/mask.sum().item()\r\n",
    "\r\n",
    "y_pred = torch.randn(3,3) # [3,3]\r\n",
    "y_true = torch.tensor([0,2,1]) # [3] 最后一个1表示pad噢~\r\n",
    "print(y_true)\r\n",
    "print(y_pred)\r\n",
    "print('计算acc时去除mask:', mask_accuracy_func(y_true, y_pred))\r\n",
    "print('计算acc时去除mask:', mask_accuracy_func2(y_true, y_pred))\r\n",
    "print('计算acc时去除mask:', mask_accuracy_func3(y_true, y_pred))"
   ],
   "outputs": [
    {
     "output_type": "stream",
     "name": "stdout",
     "text": [
      "tensor([0, 2, 1])\n",
      "tensor([[ 1.7407,  1.6102, -0.7873],\n",
      "        [-1.7716,  0.5898, -1.0273],\n",
      "        [-0.1973, -1.2427, -0.1641]])\n",
      "计算acc时去除mask: tensor(0.5000)\n",
      "计算acc时去除mask: tensor(0.5000)\n",
      "计算acc时去除mask: tensor(0.5000)\n"
     ]
    }
   ],
   "metadata": {
    "collapsed": false,
    "pycharm": {
     "name": "#%%\n"
    }
   }
  },
  {
   "cell_type": "markdown",
   "source": [
    "## 15.生成mask\n",
    "\n",
    "$$Attention(Q,K,V)=softmax_{(k)}(\\frac{QK^T}{\\sqrt{d_k}})V$$\n",
    "\n",
    "注意：实现时对mask的处理\n",
    "\n",
    "mask=1的位置是pad或者future token，乘以-1e9（-1*10^9）成为负无穷，经过softmax后会趋于0\n",
    "\n",
    "【注意】：在计算decoder的第2个attention block时（encoder-decoder attention），\n",
    "从scaled dot-product的公式可以看出，此时Q是decoder的第一个attention block的输出，\n",
    "而K，V都来自encoder的输出。QK^T后得到[...,seq_len_q, seq_len_k]，而softmax是在seq_len_k维\n",
    "上进行的，softmax后seq_len_k维上pad的位置被置于0，乘以V（seq_len_k=seq_len_v=encoder output的seq_len）\n",
    "后那些pad的位置还是只会是0。所以仅从公式就可以看出decoder的第2个attention block的padding mask是基于\n",
    "encoder output 的seq_len即整个模型的inp_seq_len来设置的，而不是targ_seq_len。\n",
    "\n",
    "从注意力角度来看，可以理解成：当 Q 接收到decoder的第一个注意力块的输出，并且 K 接收到encoder的输出时，注意力权重表示根据encoder的输出赋予decoder输入的重要性。\n",
    "换一种说法，decoder通过查看encoder输出和对其自身输出的自注意`力，预测下一个词。\n",
    "\n",
    "另外 padding mask 的维度是[b,1,1,seq_len] 一般只关注最后一个seq_len维度上pad(无论是在\n",
    "self-attention 或者encoder-decoder attention上都比较容易理解)\n",
    "\n",
    "而 look-ahead mask 是decoder self-attention时用于mask future token的，因为是“自”注意力，\n",
    "所以维度是[...,seq_len, seq_len]，需要自己跟自己运算，所以在QK（此时Q=K=V）矩阵乘的结果的最后2个维度上都需要mask"
   ],
   "metadata": {
    "collapsed": false,
    "pycharm": {
     "name": "#%% md\n"
    }
   }
  },
  {
   "cell_type": "code",
   "execution_count": 38,
   "source": [
    "# inp [b, inp_seq_len] 序列已经加入pad填充\r\n",
    "# targ [b, targ_seq_len] 序列已经加入pad填充\r\n",
    "def create_mask(inp, targ):\r\n",
    "    # encoder padding mask\r\n",
    "    enc_padding_mask = create_padding_mask(inp)  # =>[b,1,1,inp_seq_len] mask=1的位置为pad\r\n",
    "\r\n",
    "    # decoder's first attention block(self-attention)\r\n",
    "    # 使用的padding create_mask & look-ahead create_mask\r\n",
    "    look_ahead_mask = create_look_ahead_mask(targ.shape[-1])  # =>[targ_seq_len,targ_seq_len] ##################\r\n",
    "    dec_targ_padding_mask = create_padding_mask(targ)  # =>[b,1,1,targ_seq_len]\r\n",
    "    combined_mask = torch.max(look_ahead_mask, dec_targ_padding_mask)  # 结合了2种mask =>[b,1,targ_seq_len,targ_seq_len]\r\n",
    "\r\n",
    "    # decoder's second attention block(encoder-decoder attention) 使用的padding create_mask\r\n",
    "    # 【注意】：这里的mask是用于遮挡encoder output的填充pad，而encoder的输出与其输入shape都是[b,inp_seq_len,d_model]\r\n",
    "    # 所以这里mask的长度是inp_seq_len而不是targ_mask_len\r\n",
    "    dec_padding_mask = create_padding_mask(inp)  # =>[b,1,1,inp_seq_len] mask=1的位置为pad\r\n",
    "\r\n",
    "    return enc_padding_mask, combined_mask, dec_padding_mask\r\n",
    "    # [b,1,1,inp_seq_len], [b,1,targ_seq_len,targ_seq_len], [b,1,1,inp_seq_len]"
   ],
   "outputs": [],
   "metadata": {
    "collapsed": false,
    "pycharm": {
     "name": "#%%\n"
    }
   }
  },
  {
   "cell_type": "markdown",
   "source": [
    "## 16.训练和保存\n",
    "\n",
    "### 配置检查点 save_dir"
   ],
   "metadata": {
    "collapsed": false,
    "pycharm": {
     "name": "#%% md\n"
    }
   }
  },
  {
   "cell_type": "code",
   "execution_count": 39,
   "source": [
    "save_dir = cwd + './save/'\r\n",
    "if not os.path.exists(save_dir):os.mkdir(save_dir)\r\n",
    "transformer = Transformer(num_layers,\r\n",
    "                          d_model,\r\n",
    "                          num_heads,\r\n",
    "                          dff,\r\n",
    "                          input_vocab_size,\r\n",
    "                          target_vocab_size,\r\n",
    "                          pe_input=input_vocab_size,\r\n",
    "                          pe_target=target_vocab_size,\r\n",
    "                          rate=dropout_rate)\r\n",
    "\r\n",
    "print(transformer) # 打印模型基本信息\r\n",
    "\r\n",
    "transformer = transformer.to(device)\r\n",
    "if ngpu > 1: # 并行化\r\n",
    "    transformer = torch.nn.DataParallel(transformer,  device_ids=list(range(ngpu))) # 设置并行执行  device_ids=[0,1]\r\n",
    "\r\n",
    "optimizer = torch.optim.Adam(transformer.parameters(), lr=0, betas=(0.9, 0.98), eps=1e-9)\r\n",
    "lr_scheduler = CustomSchedule(optimizer, d_model, warm_steps=4000)"
   ],
   "outputs": [
    {
     "output_type": "stream",
     "name": "stdout",
     "text": [
      "Transformer(\n",
      "  (encoder): Encoder(\n",
      "    (embedding): Embedding(3901, 128)\n",
      "    (enc_layers): ModuleList(\n",
      "      (0): EncoderLayer(\n",
      "        (mha): MultiHeadAttention(\n",
      "          (wq): Linear(in_features=128, out_features=128, bias=True)\n",
      "          (wk): Linear(in_features=128, out_features=128, bias=True)\n",
      "          (wv): Linear(in_features=128, out_features=128, bias=True)\n",
      "          (final_linear): Linear(in_features=128, out_features=128, bias=True)\n",
      "        )\n",
      "        (ffn): Sequential(\n",
      "          (0): Linear(in_features=128, out_features=512, bias=True)\n",
      "          (1): ReLU()\n",
      "          (2): Linear(in_features=512, out_features=128, bias=True)\n",
      "        )\n",
      "        (layernorm1): LayerNorm((128,), eps=1e-06, elementwise_affine=True)\n",
      "        (layernorm2): LayerNorm((128,), eps=1e-06, elementwise_affine=True)\n",
      "        (dropout1): Dropout(p=0.1, inplace=False)\n",
      "        (dropout2): Dropout(p=0.1, inplace=False)\n",
      "      )\n",
      "      (1): EncoderLayer(\n",
      "        (mha): MultiHeadAttention(\n",
      "          (wq): Linear(in_features=128, out_features=128, bias=True)\n",
      "          (wk): Linear(in_features=128, out_features=128, bias=True)\n",
      "          (wv): Linear(in_features=128, out_features=128, bias=True)\n",
      "          (final_linear): Linear(in_features=128, out_features=128, bias=True)\n",
      "        )\n",
      "        (ffn): Sequential(\n",
      "          (0): Linear(in_features=128, out_features=512, bias=True)\n",
      "          (1): ReLU()\n",
      "          (2): Linear(in_features=512, out_features=128, bias=True)\n",
      "        )\n",
      "        (layernorm1): LayerNorm((128,), eps=1e-06, elementwise_affine=True)\n",
      "        (layernorm2): LayerNorm((128,), eps=1e-06, elementwise_affine=True)\n",
      "        (dropout1): Dropout(p=0.1, inplace=False)\n",
      "        (dropout2): Dropout(p=0.1, inplace=False)\n",
      "      )\n",
      "      (2): EncoderLayer(\n",
      "        (mha): MultiHeadAttention(\n",
      "          (wq): Linear(in_features=128, out_features=128, bias=True)\n",
      "          (wk): Linear(in_features=128, out_features=128, bias=True)\n",
      "          (wv): Linear(in_features=128, out_features=128, bias=True)\n",
      "          (final_linear): Linear(in_features=128, out_features=128, bias=True)\n",
      "        )\n",
      "        (ffn): Sequential(\n",
      "          (0): Linear(in_features=128, out_features=512, bias=True)\n",
      "          (1): ReLU()\n",
      "          (2): Linear(in_features=512, out_features=128, bias=True)\n",
      "        )\n",
      "        (layernorm1): LayerNorm((128,), eps=1e-06, elementwise_affine=True)\n",
      "        (layernorm2): LayerNorm((128,), eps=1e-06, elementwise_affine=True)\n",
      "        (dropout1): Dropout(p=0.1, inplace=False)\n",
      "        (dropout2): Dropout(p=0.1, inplace=False)\n",
      "      )\n",
      "      (3): EncoderLayer(\n",
      "        (mha): MultiHeadAttention(\n",
      "          (wq): Linear(in_features=128, out_features=128, bias=True)\n",
      "          (wk): Linear(in_features=128, out_features=128, bias=True)\n",
      "          (wv): Linear(in_features=128, out_features=128, bias=True)\n",
      "          (final_linear): Linear(in_features=128, out_features=128, bias=True)\n",
      "        )\n",
      "        (ffn): Sequential(\n",
      "          (0): Linear(in_features=128, out_features=512, bias=True)\n",
      "          (1): ReLU()\n",
      "          (2): Linear(in_features=512, out_features=128, bias=True)\n",
      "        )\n",
      "        (layernorm1): LayerNorm((128,), eps=1e-06, elementwise_affine=True)\n",
      "        (layernorm2): LayerNorm((128,), eps=1e-06, elementwise_affine=True)\n",
      "        (dropout1): Dropout(p=0.1, inplace=False)\n",
      "        (dropout2): Dropout(p=0.1, inplace=False)\n",
      "      )\n",
      "    )\n",
      "    (dropout): Dropout(p=0.1, inplace=False)\n",
      "  )\n",
      "  (decoder): Decoder(\n",
      "    (embedding): Embedding(2591, 128)\n",
      "    (dec_layers): ModuleList(\n",
      "      (0): DecoderLayer(\n",
      "        (mha1): MultiHeadAttention(\n",
      "          (wq): Linear(in_features=128, out_features=128, bias=True)\n",
      "          (wk): Linear(in_features=128, out_features=128, bias=True)\n",
      "          (wv): Linear(in_features=128, out_features=128, bias=True)\n",
      "          (final_linear): Linear(in_features=128, out_features=128, bias=True)\n",
      "        )\n",
      "        (mha2): MultiHeadAttention(\n",
      "          (wq): Linear(in_features=128, out_features=128, bias=True)\n",
      "          (wk): Linear(in_features=128, out_features=128, bias=True)\n",
      "          (wv): Linear(in_features=128, out_features=128, bias=True)\n",
      "          (final_linear): Linear(in_features=128, out_features=128, bias=True)\n",
      "        )\n",
      "        (ffn): Sequential(\n",
      "          (0): Linear(in_features=128, out_features=512, bias=True)\n",
      "          (1): ReLU()\n",
      "          (2): Linear(in_features=512, out_features=128, bias=True)\n",
      "        )\n",
      "        (layernorm1): LayerNorm((128,), eps=1e-06, elementwise_affine=True)\n",
      "        (layernorm2): LayerNorm((128,), eps=1e-06, elementwise_affine=True)\n",
      "        (layernorm3): LayerNorm((128,), eps=1e-06, elementwise_affine=True)\n",
      "        (dropout1): Dropout(p=0.1, inplace=False)\n",
      "        (dropout2): Dropout(p=0.1, inplace=False)\n",
      "        (dropout3): Dropout(p=0.1, inplace=False)\n",
      "      )\n",
      "      (1): DecoderLayer(\n",
      "        (mha1): MultiHeadAttention(\n",
      "          (wq): Linear(in_features=128, out_features=128, bias=True)\n",
      "          (wk): Linear(in_features=128, out_features=128, bias=True)\n",
      "          (wv): Linear(in_features=128, out_features=128, bias=True)\n",
      "          (final_linear): Linear(in_features=128, out_features=128, bias=True)\n",
      "        )\n",
      "        (mha2): MultiHeadAttention(\n",
      "          (wq): Linear(in_features=128, out_features=128, bias=True)\n",
      "          (wk): Linear(in_features=128, out_features=128, bias=True)\n",
      "          (wv): Linear(in_features=128, out_features=128, bias=True)\n",
      "          (final_linear): Linear(in_features=128, out_features=128, bias=True)\n",
      "        )\n",
      "        (ffn): Sequential(\n",
      "          (0): Linear(in_features=128, out_features=512, bias=True)\n",
      "          (1): ReLU()\n",
      "          (2): Linear(in_features=512, out_features=128, bias=True)\n",
      "        )\n",
      "        (layernorm1): LayerNorm((128,), eps=1e-06, elementwise_affine=True)\n",
      "        (layernorm2): LayerNorm((128,), eps=1e-06, elementwise_affine=True)\n",
      "        (layernorm3): LayerNorm((128,), eps=1e-06, elementwise_affine=True)\n",
      "        (dropout1): Dropout(p=0.1, inplace=False)\n",
      "        (dropout2): Dropout(p=0.1, inplace=False)\n",
      "        (dropout3): Dropout(p=0.1, inplace=False)\n",
      "      )\n",
      "      (2): DecoderLayer(\n",
      "        (mha1): MultiHeadAttention(\n",
      "          (wq): Linear(in_features=128, out_features=128, bias=True)\n",
      "          (wk): Linear(in_features=128, out_features=128, bias=True)\n",
      "          (wv): Linear(in_features=128, out_features=128, bias=True)\n",
      "          (final_linear): Linear(in_features=128, out_features=128, bias=True)\n",
      "        )\n",
      "        (mha2): MultiHeadAttention(\n",
      "          (wq): Linear(in_features=128, out_features=128, bias=True)\n",
      "          (wk): Linear(in_features=128, out_features=128, bias=True)\n",
      "          (wv): Linear(in_features=128, out_features=128, bias=True)\n",
      "          (final_linear): Linear(in_features=128, out_features=128, bias=True)\n",
      "        )\n",
      "        (ffn): Sequential(\n",
      "          (0): Linear(in_features=128, out_features=512, bias=True)\n",
      "          (1): ReLU()\n",
      "          (2): Linear(in_features=512, out_features=128, bias=True)\n",
      "        )\n",
      "        (layernorm1): LayerNorm((128,), eps=1e-06, elementwise_affine=True)\n",
      "        (layernorm2): LayerNorm((128,), eps=1e-06, elementwise_affine=True)\n",
      "        (layernorm3): LayerNorm((128,), eps=1e-06, elementwise_affine=True)\n",
      "        (dropout1): Dropout(p=0.1, inplace=False)\n",
      "        (dropout2): Dropout(p=0.1, inplace=False)\n",
      "        (dropout3): Dropout(p=0.1, inplace=False)\n",
      "      )\n",
      "      (3): DecoderLayer(\n",
      "        (mha1): MultiHeadAttention(\n",
      "          (wq): Linear(in_features=128, out_features=128, bias=True)\n",
      "          (wk): Linear(in_features=128, out_features=128, bias=True)\n",
      "          (wv): Linear(in_features=128, out_features=128, bias=True)\n",
      "          (final_linear): Linear(in_features=128, out_features=128, bias=True)\n",
      "        )\n",
      "        (mha2): MultiHeadAttention(\n",
      "          (wq): Linear(in_features=128, out_features=128, bias=True)\n",
      "          (wk): Linear(in_features=128, out_features=128, bias=True)\n",
      "          (wv): Linear(in_features=128, out_features=128, bias=True)\n",
      "          (final_linear): Linear(in_features=128, out_features=128, bias=True)\n",
      "        )\n",
      "        (ffn): Sequential(\n",
      "          (0): Linear(in_features=128, out_features=512, bias=True)\n",
      "          (1): ReLU()\n",
      "          (2): Linear(in_features=512, out_features=128, bias=True)\n",
      "        )\n",
      "        (layernorm1): LayerNorm((128,), eps=1e-06, elementwise_affine=True)\n",
      "        (layernorm2): LayerNorm((128,), eps=1e-06, elementwise_affine=True)\n",
      "        (layernorm3): LayerNorm((128,), eps=1e-06, elementwise_affine=True)\n",
      "        (dropout1): Dropout(p=0.1, inplace=False)\n",
      "        (dropout2): Dropout(p=0.1, inplace=False)\n",
      "        (dropout3): Dropout(p=0.1, inplace=False)\n",
      "      )\n",
      "    )\n",
      "    (dropout): Dropout(p=0.1, inplace=False)\n",
      "  )\n",
      "  (final_layer): Linear(in_features=128, out_features=2591, bias=True)\n",
      ")\n"
     ]
    }
   ],
   "metadata": {
    "collapsed": false,
    "pycharm": {
     "name": "#%%\n"
    }
   }
  },
  {
   "cell_type": "code",
   "execution_count": 40,
   "source": [
    "# 关于position encoding的一点自己的理解：\r\n",
    "\"\"\"\r\n",
    "为什么这里传入的pe_input是input_vocab_size，也就是说position encoding传入的pos参数是词表大小\r\n",
    "而我一开始理解的max_seq_len的大小，所以才在encoder中获取位置编码是self.pos_encoding[:, :seq_len, :]\r\n",
    "但知道看到这里传入的是词表大小我才发现我理解错了\r\n",
    "\r\n",
    "其实position encoding 就跟embedding 一样，就是【vocab_size x d_model】的\r\n",
    "但此时另一个问题又出现了，那为什么在获取position encoding时 使用的是pos_encoding[:, :seq_len, :]而不是\r\n",
    "像embedding一样 去look-up 查询每个token的位置表示呢？而是直接取得前seq_len个表示作为位置表示？\r\n",
    "\r\n",
    "这就体现了这种位置编码的巧妙之处，他不需要训练，就能独特的表示每一个单独的token，而每个token之间又存在关系\r\n",
    "所以这并不需要位置编码和token是一一对应（固定死的），只需要位置编码能传达这2点信息（即token的独特性和相对依赖性）就够了\r\n",
    "即使是同一个token 在一个句子的不同的位置时 他的位置编码当然也是不一样的了 如果像embedding那样去查 那一个句子的\r\n",
    "不同位置的相同token  其表示就会是一样的  就体现不出位置关系\r\n",
    "\r\n",
    "这样一想的话，似乎把pe_input设置成max_seq_len也是可以的。但是这里实现position encoding方式（sin  cos）\r\n",
    "可以在测试阶段接受长度超过训练集实例的情况！所以干脆把pe_input设置成词表大小？\r\n",
    "\"\"\"\r\n",
    "\r\n",
    "# inp [b,inp_seq_len]\r\n",
    "# targ [b,targ_seq_len]\r\n",
    "\"\"\"\r\n",
    "拆分targ, 例如：sentence = \"SOS A lion in the jungle is sleeping EOS\"\r\n",
    "tar_inp = \"<start>> A lion in the jungle is sleeping\"\r\n",
    "tar_real = \"A lion in the jungle is sleeping <end>\"\r\n",
    "\"\"\"\r\n",
    "def train_step(model, inp, targ):\r\n",
    "    # 目标（target）被分成了 tar_inp 和 tar_real\r\n",
    "    # tar_inp 作为输入传递到解码器。\r\n",
    "    # tar_real 是位移了 1 的同一个输入：在 tar_inp 中的每个位置，tar_real 包含了应该被预测到的下一个标记（token）。\r\n",
    "    targ_inp = targ[:, :-1]\r\n",
    "    targ_real = targ[:, 1:]\r\n",
    "\r\n",
    "    enc_padding_mask, combined_mask, dec_padding_mask = create_mask(inp, targ_inp)\r\n",
    "\r\n",
    "    inp = inp.to(device)\r\n",
    "    targ_inp = targ_inp.to(device)\r\n",
    "    targ_real = targ_real.to(device)\r\n",
    "    enc_padding_mask = enc_padding_mask.to(device)\r\n",
    "    combined_mask = combined_mask.to(device)\r\n",
    "    dec_padding_mask = dec_padding_mask.to(device)\r\n",
    "    # print('device:', inp.device, targ_inp)\r\n",
    "\r\n",
    "    model.train()  # 设置train mode\r\n",
    "\r\n",
    "    optimizer.zero_grad()  # 梯度清零\r\n",
    "\r\n",
    "    # forward\r\n",
    "    prediction, _ = transformer(inp, targ_inp, enc_padding_mask, combined_mask, dec_padding_mask)\r\n",
    "    # [b, targ_seq_len, target_vocab_size]\r\n",
    "    # {'..block1': [b, num_heads, targ_seq_len, targ_seq_len],\r\n",
    "    #  '..block2': [b, num_heads, targ_seq_len, inp_seq_len], ...}\r\n",
    "\r\n",
    "    loss = mask_loss_func(targ_real, prediction)\r\n",
    "    metric = mask_accuracy_func(targ_real, prediction)\r\n",
    "\r\n",
    "    # backward\r\n",
    "    loss.backward()  # 反向传播计算梯度\r\n",
    "    optimizer.step()  # 更新参数\r\n",
    "\r\n",
    "    return loss.item(), metric.item()\r\n",
    "\r\n",
    "\r\n",
    "# 检查train_step()的效果\r\n",
    "batch_src, batch_targ = next(iter(train_dataloader)) # [64,10], [64,10]\r\n",
    "print(train_step(transformer, batch_src, batch_targ))\r\n",
    "\"\"\"\r\n",
    "x += pos_encoding  # [b, inp_seq_len, d_model]\r\n",
    "RuntimeError: Expected all tensors to be on the same device, but found at least two devices, cuda:1 and cuda:0!\r\n",
    "\"\"\""
   ],
   "outputs": [
    {
     "output_type": "stream",
     "name": "stdout",
     "text": [
      "(8.107320785522461, 0.0)\n"
     ]
    },
    {
     "output_type": "execute_result",
     "data": {
      "text/plain": [
       "'\\nx += pos_encoding  # [b, inp_seq_len, d_model]\\nRuntimeError: Expected all tensors to be on the same device, but found at least two devices, cuda:1 and cuda:0!\\n'"
      ]
     },
     "metadata": {},
     "execution_count": 40
    }
   ],
   "metadata": {
    "collapsed": false,
    "pycharm": {
     "name": "#%%\n"
    }
   }
  },
  {
   "cell_type": "code",
   "execution_count": 41,
   "source": [
    "def validate_step(model, inp, targ):\r\n",
    "    targ_inp = targ[:, :-1]\r\n",
    "    targ_real = targ[:, 1:]\r\n",
    "\r\n",
    "    enc_padding_mask, combined_mask, dec_padding_mask = create_mask(inp, targ_inp)\r\n",
    "\r\n",
    "    inp = inp.to(device)\r\n",
    "    targ_inp = targ_inp.to(device)\r\n",
    "    targ_real = targ_real.to(device)\r\n",
    "    enc_padding_mask = enc_padding_mask.to(device)\r\n",
    "    combined_mask = combined_mask.to(device)\r\n",
    "    dec_padding_mask = dec_padding_mask.to(device)\r\n",
    "\r\n",
    "    model.eval()  # 设置eval mode\r\n",
    "\r\n",
    "    with torch.no_grad():\r\n",
    "        # forward\r\n",
    "        prediction, _ = model(inp, targ_inp, enc_padding_mask, combined_mask, dec_padding_mask)\r\n",
    "        # [b, targ_seq_len, target_vocab_size]\r\n",
    "        # {'..block1': [b, num_heads, targ_seq_len, targ_seq_len],\r\n",
    "        #  '..block2': [b, num_heads, targ_seq_len, inp_seq_len], ...}\r\n",
    "\r\n",
    "        val_loss = mask_loss_func(targ_real, prediction)\r\n",
    "        val_metric = mask_accuracy_func(targ_real, prediction)\r\n",
    "\r\n",
    "    return val_loss.item(), val_metric.item()\r\n"
   ],
   "outputs": [],
   "metadata": {
    "collapsed": false,
    "pycharm": {
     "name": "#%%\n"
    }
   }
  },
  {
   "cell_type": "code",
   "execution_count": 42,
   "source": [
    "EPOCHS = 40 # 50 # 30  # 20\r\n",
    "\r\n",
    "print_trainstep_every = 50  # 每50个step做一次打印\r\n",
    "\r\n",
    "metric_name = 'acc'\r\n",
    "# df_history = pd.DataFrame(columns=['epoch', 'loss', metric_name]) # 记录训练历史信息\r\n",
    "df_history = pd.DataFrame(columns=['epoch', 'loss', metric_name, 'val_loss', 'val_' + metric_name])\r\n",
    "\r\n",
    "\r\n",
    "# 打印时间\r\n",
    "def printbar():\r\n",
    "    nowtime = datetime.datetime.now().strftime('%Y-%m_%d %H:%M:%S')\r\n",
    "    print('\\n' + \"==========\"*8 + '%s'%nowtime)"
   ],
   "outputs": [],
   "metadata": {
    "collapsed": false,
    "pycharm": {
     "name": "#%%\n"
    }
   }
  },
  {
   "cell_type": "code",
   "execution_count": 43,
   "source": [
    "def train_model(model, epochs, train_dataloader, val_dataloader, print_every):\r\n",
    "    starttime = time.time()\r\n",
    "    print('*' * 27, 'start training...')\r\n",
    "    printbar()\r\n",
    "\r\n",
    "    best_acc = 0.\r\n",
    "    for epoch in range(1, epochs + 1):\r\n",
    "\r\n",
    "        # lr_scheduler.step() # 更新学习率\r\n",
    "\r\n",
    "        loss_sum = 0.\r\n",
    "        metric_sum = 0.\r\n",
    "\r\n",
    "        for step, (inp, targ) in enumerate(train_dataloader, start=1):\r\n",
    "            # inp [64, 10] , targ [64, 10]\r\n",
    "            loss, metric = train_step(model, inp, targ)\r\n",
    "\r\n",
    "            loss_sum += loss\r\n",
    "            metric_sum += metric\r\n",
    "\r\n",
    "            # 打印batch级别日志\r\n",
    "            if step % print_every == 0:\r\n",
    "                print('*' * 8, f'[step = {step}] loss: {loss_sum / step:.3f}, {metric_name}: {metric_sum / step:.3f}')\r\n",
    "\r\n",
    "            lr_scheduler.step()  # 更新学习率\r\n",
    "\r\n",
    "        # 一个epoch的train结束，做一次验证\r\n",
    "        # test(model, train_dataloader)\r\n",
    "        val_loss_sum = 0.\r\n",
    "        val_metric_sum = 0.\r\n",
    "        for val_step, (inp, targ) in enumerate(val_dataloader, start=1):\r\n",
    "            # inp [64, 10] , targ [64, 10]\r\n",
    "            loss, metric = validate_step(model, inp, targ)\r\n",
    "\r\n",
    "            val_loss_sum += loss\r\n",
    "            val_metric_sum += metric\r\n",
    "\r\n",
    "        # 记录和收集1个epoch的训练（和验证）信息\r\n",
    "        # record = (epoch, loss_sum/step, metric_sum/step)\r\n",
    "        record = (epoch, loss_sum/step, metric_sum/step, val_loss_sum/val_step, val_metric_sum/val_step)\r\n",
    "        df_history.loc[epoch - 1] = record\r\n",
    "\r\n",
    "        # 打印epoch级别的日志\r\n",
    "        # print('*'*8, 'EPOCH = {} loss: {:.3f}, {}: {:.3f}'.format(\r\n",
    "        #        record[0], record[1], metric_name, record[2]))\r\n",
    "        print('EPOCH = {} loss: {:.3f}, {}: {:.3f}, val_loss: {:.3f}, val_{}: {:.3f}'.format(\r\n",
    "            record[0], record[1], metric_name, record[2], record[3], metric_name, record[4]))\r\n",
    "        printbar()\r\n",
    "\r\n",
    "        # 保存模型\r\n",
    "        # current_acc_avg = metric_sum / step\r\n",
    "        current_acc_avg = val_metric_sum / val_step # 看验证集指标\r\n",
    "        if current_acc_avg > best_acc:  # 保存更好的模型\r\n",
    "            best_acc = current_acc_avg\r\n",
    "            checkpoint = save_dir + '{:03d}_{:.2f}_ckpt.tar'.format(epoch, current_acc_avg)\r\n",
    "            if device.type == 'cuda' and ngpu > 1:\r\n",
    "                # model_sd = model.module.state_dict()  ##################\r\n",
    "                model_sd = copy.deepcopy(model.module.state_dict())\r\n",
    "            else:\r\n",
    "                # model_sd = model.state_dict(),  ##################\r\n",
    "                model_sd = copy.deepcopy(model.state_dict())  ##################\r\n",
    "            torch.save({\r\n",
    "                'loss': loss_sum / step,\r\n",
    "                'epoch': epoch,\r\n",
    "                'net': model_sd,\r\n",
    "                'opt': optimizer.state_dict(),\r\n",
    "                'lr_scheduler': lr_scheduler.state_dict()\r\n",
    "            }, checkpoint)\r\n",
    "\r\n",
    "\r\n",
    "    print('finishing training...')\r\n",
    "    endtime = time.time()\r\n",
    "    time_elapsed = endtime - starttime\r\n",
    "    print('Training complete in {:.0f}m {:.0f}s'.format(time_elapsed // 60, time_elapsed % 60))\r\n",
    "    return df_history"
   ],
   "outputs": [],
   "metadata": {
    "collapsed": false,
    "pycharm": {
     "name": "#%%\n"
    }
   }
  },
  {
   "cell_type": "code",
   "execution_count": 44,
   "source": [
    "# 开始训练\r\n",
    "df_history = train_model(transformer, EPOCHS, train_dataloader, val_dataloader, print_trainstep_every)\r\n",
    "print(df_history)"
   ],
   "outputs": [
    {
     "output_type": "stream",
     "name": "stdout",
     "text": [
      "*************************** start training...\n",
      "\n",
      "================================================================================2021-10_07 12:30:05\n",
      "EPOCH = 1 loss: 7.940, acc: 0.001, val_loss: 7.608, val_acc: 0.004\n",
      "\n",
      "================================================================================2021-10_07 12:30:28\n",
      "EPOCH = 2 loss: 7.217, acc: 0.115, val_loss: 6.633, val_acc: 0.288\n",
      "\n",
      "================================================================================2021-10_07 12:30:53\n",
      "EPOCH = 3 loss: 6.401, acc: 0.279, val_loss: 5.963, val_acc: 0.327\n",
      "\n",
      "================================================================================2021-10_07 12:31:16\n",
      "EPOCH = 4 loss: 5.804, acc: 0.357, val_loss: 5.327, val_acc: 0.411\n",
      "\n",
      "================================================================================2021-10_07 12:31:39\n",
      "EPOCH = 5 loss: 5.200, acc: 0.429, val_loss: 4.761, val_acc: 0.460\n",
      "\n",
      "================================================================================2021-10_07 12:32:01\n",
      "EPOCH = 6 loss: 4.670, acc: 0.457, val_loss: 4.301, val_acc: 0.485\n",
      "\n",
      "================================================================================2021-10_07 12:32:22\n",
      "EPOCH = 7 loss: 4.225, acc: 0.490, val_loss: 3.893, val_acc: 0.523\n",
      "\n",
      "================================================================================2021-10_07 12:32:45\n",
      "EPOCH = 8 loss: 3.848, acc: 0.521, val_loss: 3.569, val_acc: 0.545\n",
      "\n",
      "================================================================================2021-10_07 12:33:09\n",
      "EPOCH = 9 loss: 3.527, acc: 0.542, val_loss: 3.298, val_acc: 0.570\n",
      "\n",
      "================================================================================2021-10_07 12:33:32\n",
      "EPOCH = 10 loss: 3.250, acc: 0.565, val_loss: 3.074, val_acc: 0.581\n",
      "\n",
      "================================================================================2021-10_07 12:33:54\n",
      "EPOCH = 11 loss: 3.039, acc: 0.574, val_loss: 2.901, val_acc: 0.592\n",
      "\n",
      "================================================================================2021-10_07 12:34:15\n",
      "EPOCH = 12 loss: 2.856, acc: 0.586, val_loss: 2.756, val_acc: 0.601\n",
      "\n",
      "================================================================================2021-10_07 12:34:36\n",
      "EPOCH = 13 loss: 2.709, acc: 0.597, val_loss: 2.636, val_acc: 0.611\n",
      "\n",
      "================================================================================2021-10_07 12:34:57\n",
      "EPOCH = 14 loss: 2.584, acc: 0.608, val_loss: 2.535, val_acc: 0.619\n",
      "\n",
      "================================================================================2021-10_07 12:35:17\n",
      "EPOCH = 15 loss: 2.475, acc: 0.617, val_loss: 2.439, val_acc: 0.627\n",
      "\n",
      "================================================================================2021-10_07 12:35:38\n",
      "EPOCH = 16 loss: 2.374, acc: 0.626, val_loss: 2.357, val_acc: 0.635\n",
      "\n",
      "================================================================================2021-10_07 12:35:59\n",
      "EPOCH = 17 loss: 2.285, acc: 0.636, val_loss: 2.298, val_acc: 0.641\n",
      "\n",
      "================================================================================2021-10_07 12:36:20\n",
      "EPOCH = 18 loss: 2.201, acc: 0.644, val_loss: 2.233, val_acc: 0.648\n",
      "\n",
      "================================================================================2021-10_07 12:36:41\n",
      "EPOCH = 19 loss: 2.122, acc: 0.651, val_loss: 2.155, val_acc: 0.657\n",
      "\n",
      "================================================================================2021-10_07 12:37:03\n",
      "EPOCH = 20 loss: 2.042, acc: 0.659, val_loss: 2.091, val_acc: 0.664\n",
      "\n",
      "================================================================================2021-10_07 12:37:24\n",
      "EPOCH = 21 loss: 1.961, acc: 0.667, val_loss: 2.032, val_acc: 0.667\n",
      "\n",
      "================================================================================2021-10_07 12:37:46\n",
      "EPOCH = 22 loss: 1.884, acc: 0.675, val_loss: 1.985, val_acc: 0.673\n",
      "\n",
      "================================================================================2021-10_07 12:38:07\n",
      "EPOCH = 23 loss: 1.816, acc: 0.682, val_loss: 1.925, val_acc: 0.678\n",
      "\n",
      "================================================================================2021-10_07 12:38:30\n",
      "EPOCH = 24 loss: 1.749, acc: 0.689, val_loss: 1.880, val_acc: 0.686\n",
      "\n",
      "================================================================================2021-10_07 12:38:52\n",
      "EPOCH = 25 loss: 1.688, acc: 0.696, val_loss: 1.825, val_acc: 0.694\n",
      "\n",
      "================================================================================2021-10_07 12:39:14\n",
      "EPOCH = 26 loss: 1.614, acc: 0.704, val_loss: 1.779, val_acc: 0.695\n",
      "\n",
      "================================================================================2021-10_07 12:39:35\n",
      "EPOCH = 27 loss: 1.552, acc: 0.713, val_loss: 1.747, val_acc: 0.704\n",
      "\n",
      "================================================================================2021-10_07 12:39:58\n",
      "EPOCH = 28 loss: 1.507, acc: 0.719, val_loss: 1.695, val_acc: 0.711\n",
      "\n",
      "================================================================================2021-10_07 12:40:21\n",
      "EPOCH = 29 loss: 1.433, acc: 0.727, val_loss: 1.654, val_acc: 0.718\n",
      "\n",
      "================================================================================2021-10_07 12:40:43\n",
      "EPOCH = 30 loss: 1.378, acc: 0.737, val_loss: 1.610, val_acc: 0.723\n",
      "\n",
      "================================================================================2021-10_07 12:41:05\n",
      "EPOCH = 31 loss: 1.312, acc: 0.746, val_loss: 1.578, val_acc: 0.728\n",
      "\n",
      "================================================================================2021-10_07 12:41:27\n",
      "EPOCH = 32 loss: 1.253, acc: 0.754, val_loss: 1.538, val_acc: 0.735\n",
      "\n",
      "================================================================================2021-10_07 12:41:49\n",
      "EPOCH = 33 loss: 1.197, acc: 0.763, val_loss: 1.499, val_acc: 0.743\n",
      "\n",
      "================================================================================2021-10_07 12:42:11\n",
      "EPOCH = 34 loss: 1.142, acc: 0.770, val_loss: 1.505, val_acc: 0.739\n",
      "\n",
      "================================================================================2021-10_07 12:42:33\n",
      "EPOCH = 35 loss: 1.089, acc: 0.778, val_loss: 1.467, val_acc: 0.749\n",
      "\n",
      "================================================================================2021-10_07 12:42:56\n",
      "EPOCH = 36 loss: 1.022, acc: 0.789, val_loss: 1.416, val_acc: 0.758\n",
      "\n",
      "================================================================================2021-10_07 12:43:18\n",
      "EPOCH = 37 loss: 0.978, acc: 0.796, val_loss: 1.399, val_acc: 0.758\n",
      "\n",
      "================================================================================2021-10_07 12:43:41\n",
      "EPOCH = 38 loss: 0.920, acc: 0.806, val_loss: 1.362, val_acc: 0.768\n",
      "\n",
      "================================================================================2021-10_07 12:44:03\n",
      "EPOCH = 39 loss: 0.872, acc: 0.815, val_loss: 1.333, val_acc: 0.769\n",
      "\n",
      "================================================================================2021-10_07 12:44:25\n",
      "EPOCH = 40 loss: 0.815, acc: 0.825, val_loss: 1.320, val_acc: 0.765\n",
      "\n",
      "================================================================================2021-10_07 12:44:49\n",
      "finishing training...\n",
      "Training complete in 14m 43s\n",
      "    epoch      loss       acc  val_loss   val_acc\n",
      "0     1.0  7.939826  0.000958  7.608211  0.003624\n",
      "1     2.0  7.216772  0.115298  6.633132  0.288497\n",
      "2     3.0  6.401216  0.279024  5.962821  0.326891\n",
      "3     4.0  5.804273  0.357374  5.327295  0.411469\n",
      "4     5.0  5.199624  0.428675  4.761288  0.459558\n",
      "5     6.0  4.669902  0.457280  4.301356  0.485380\n",
      "6     7.0  4.225261  0.490036  3.893073  0.523338\n",
      "7     8.0  3.847504  0.521326  3.568735  0.544768\n",
      "8     9.0  3.527246  0.542057  3.297982  0.569514\n",
      "9    10.0  3.249873  0.564588  3.074117  0.580917\n",
      "10   11.0  3.039403  0.574342  2.900545  0.592069\n",
      "11   12.0  2.855569  0.586297  2.755910  0.601116\n",
      "12   13.0  2.709108  0.597236  2.635911  0.610940\n",
      "13   14.0  2.584064  0.607863  2.535092  0.619357\n",
      "14   15.0  2.475028  0.616624  2.439302  0.627159\n",
      "15   16.0  2.373821  0.626292  2.356591  0.635021\n",
      "16   17.0  2.285370  0.635610  2.297587  0.641442\n",
      "17   18.0  2.201094  0.644149  2.232713  0.648371\n",
      "18   19.0  2.121551  0.651395  2.155438  0.657033\n",
      "19   20.0  2.041912  0.658735  2.090755  0.663624\n",
      "20   21.0  1.961457  0.666580  2.031875  0.667459\n",
      "21   22.0  1.884401  0.674616  1.985440  0.673021\n",
      "22   23.0  1.815973  0.681751  1.924585  0.678300\n",
      "23   24.0  1.749478  0.688929  1.879860  0.686289\n",
      "24   25.0  1.688451  0.695991  1.825262  0.693663\n",
      "25   26.0  1.613859  0.704478  1.779278  0.695356\n",
      "26   27.0  1.552439  0.713149  1.746771  0.704342\n",
      "27   28.0  1.507200  0.718561  1.694651  0.710617\n",
      "28   29.0  1.432969  0.727204  1.654128  0.717618\n",
      "29   30.0  1.378382  0.736643  1.609811  0.723248\n",
      "30   31.0  1.311887  0.745815  1.578262  0.727677\n",
      "31   32.0  1.252972  0.753888  1.538422  0.735454\n",
      "32   33.0  1.196567  0.763028  1.498886  0.742886\n",
      "33   34.0  1.142243  0.770408  1.504922  0.738810\n",
      "34   35.0  1.089058  0.777928  1.467421  0.749402\n",
      "35   36.0  1.021655  0.789141  1.416271  0.757535\n",
      "36   37.0  0.978173  0.795955  1.399262  0.758384\n",
      "37   38.0  0.919921  0.805740  1.362244  0.767590\n",
      "38   39.0  0.871793  0.814733  1.333364  0.768676\n",
      "39   40.0  0.814618  0.824691  1.319731  0.765034\n"
     ]
    }
   ],
   "metadata": {
    "collapsed": false,
    "pycharm": {
     "name": "#%%\n"
    }
   }
  },
  {
   "cell_type": "code",
   "execution_count": 45,
   "source": [
    "# 绘制训练曲线\r\n",
    "def plot_metric(df_history, metric):\r\n",
    "    plt.figure()\r\n",
    "\r\n",
    "    train_metrics = df_history[metric]\r\n",
    "    val_metrics = df_history['val_' + metric]  #\r\n",
    "\r\n",
    "    epochs = range(1, len(train_metrics) + 1)\r\n",
    "\r\n",
    "    plt.plot(epochs, train_metrics, 'bo--')\r\n",
    "    plt.plot(epochs, val_metrics, 'ro-')  #\r\n",
    "\r\n",
    "    plt.title('Training and validation ' + metric)\r\n",
    "    plt.xlabel(\"Epochs\")\r\n",
    "    plt.ylabel(metric)\r\n",
    "    plt.legend([\"train_\" + metric, 'val_' + metric])\r\n",
    "    plt.savefig(cwd + 'imgs/' + metric + '.png')  # 保存图片\r\n",
    "    plt.show()\r\n",
    "\r\n",
    "\r\n",
    "plot_metric(df_history, 'loss')\r\n",
    "plot_metric(df_history, metric_name)"
   ],
   "outputs": [
    {
     "output_type": "display_data",
     "data": {
      "image/png": "[encoded data removed]",
      "text/plain": [
       "<Figure size 432x288 with 1 Axes>"
      ]
     },
     "metadata": {}
    },
    {
     "output_type": "display_data",
     "data": {
      "image/png": "[encoded data removed]",
      "text/plain": [
       "<Figure size 432x288 with 1 Axes>"
      ]
     },
     "metadata": {}
    }
   ],
   "metadata": {
    "collapsed": false,
    "pycharm": {
     "name": "#%%\n"
    }
   }
  },
  {
   "cell_type": "markdown",
   "source": [
    "## 17.评估\n",
    "这里的评估 没有额外的使用测试集测评，还是拿验证集测试的。另外可以对一个法语句子进行翻译，看看翻译的结果如何\n",
    "\n",
    "以下步骤用于评估：\n",
    "- 用法语分词器（tokenizer_pt）编码输入语句。此外，添加<start>和<end>标记，这样输入就与模型训练的内容相同。这是编码器输入。\n",
    "- 解码器输入为 <start> token id\n",
    "- 计算padding mask 和 look ahead mask\n",
    "- 解码器通过查看编码器输出和它自身的输出（自注意力）给出预测。\n",
    "- 选择最后一个词并计算它的 argmax。\n",
    "- 将预测的词concat到解码器输入，然后传递给解码器。\n",
    "- 在这种方法中，解码器根据它之前预测的words预测下一个。"
   ],
   "metadata": {
    "collapsed": false,
    "pycharm": {
     "name": "#%% md\n"
    }
   }
  },
  {
   "cell_type": "code",
   "execution_count": 46,
   "source": [
    "# 加载model\r\n",
    "checkpoint = save_dir + '039_0.77_ckpt.tar'\r\n",
    "print('checkpoint:', checkpoint)\r\n",
    "# ckpt = torch.load(checkpoint, map_location=device)  # dict  save 在 CPU 加载到GPU\r\n",
    "ckpt = torch.load(checkpoint)  # dict  save 在 GPU 加载到 GPU\r\n",
    "# print('ckpt', ckpt)\r\n",
    "transformer_sd = ckpt['net']\r\n",
    "# optimizer_sd = ckpt['opt'] # 不重新训练的话不需要\r\n",
    "# lr_scheduler_sd = ckpt['lr_scheduler']\r\n",
    "\r\n",
    "reload_model = Transformer(num_layers,\r\n",
    "                           d_model,\r\n",
    "                           num_heads,\r\n",
    "                           dff,\r\n",
    "                           input_vocab_size,\r\n",
    "                           target_vocab_size,\r\n",
    "                           pe_input=input_vocab_size,\r\n",
    "                           pe_target=target_vocab_size,\r\n",
    "                           rate=dropout_rate)\r\n",
    "\r\n",
    "reload_model = reload_model.to(device)\r\n",
    "if ngpu > 1:\r\n",
    "    reload_model = torch.nn.DataParallel(reload_model,  device_ids=list(range(ngpu))) # 设置并行执行  device_ids=[0,1]\r\n",
    "\r\n",
    "\r\n",
    "print('Loading model ...')\r\n",
    "if device.type == 'cuda' and ngpu > 1:\r\n",
    "   reload_model.module.load_state_dict(transformer_sd)\r\n",
    "else:\r\n",
    "   reload_model.load_state_dict(transformer_sd)\r\n",
    "print('Model loaded ...')"
   ],
   "outputs": [
    {
     "output_type": "stream",
     "name": "stdout",
     "text": [
      "checkpoint: E:/HongsenQu/2_project/2_projects/NLP/2_nlp/1_keywords_mapping/Magic-NLPer-main/NLP/MachineTranslation/transformer/pytorch/./save/039_0.77_ckpt.tar\n",
      "Loading model ...\n",
      "Model loaded ...\n"
     ]
    }
   ],
   "metadata": {
    "collapsed": false,
    "pycharm": {
     "name": "#%%\n"
    }
   }
  },
  {
   "cell_type": "code",
   "execution_count": 47,
   "source": [
    "def test(model, dataloader):\r\n",
    "    # model.eval() # 设置为eval mode\r\n",
    "\r\n",
    "    test_loss_sum = 0.\r\n",
    "    test_metric_sum = 0.\r\n",
    "    for test_step, (inp, targ) in enumerate(dataloader, start=1):\r\n",
    "        # inp [64, 10] , targ [64, 10]\r\n",
    "        loss, metric = validate_step(model, inp, targ)\r\n",
    "        # print('*'*8, loss, metric)\r\n",
    "\r\n",
    "        test_loss_sum += loss\r\n",
    "        test_metric_sum += metric\r\n",
    "    # 打印\r\n",
    "    print('*' * 8,\r\n",
    "          'Test: loss: {:.3f}, {}: {:.3f}'.format(test_loss_sum / test_step, 'test_acc', test_metric_sum / test_step))\r\n",
    "\r\n",
    "\r\n",
    "# 在测试集上测试指标，这里使用val_dataloader模拟测试集\r\n",
    "print('*' * 8, 'final test...')\r\n",
    "test(reload_model, val_dataloader)\r\n"
   ],
   "outputs": [
    {
     "output_type": "stream",
     "name": "stdout",
     "text": [
      "******** final test...\n",
      "******** Test: loss: 1.333, test_acc: 0.769\n"
     ]
    }
   ],
   "metadata": {
    "collapsed": false,
    "pycharm": {
     "name": "#%%\n"
    }
   }
  },
  {
   "cell_type": "code",
   "execution_count": 48,
   "source": [
    "def tokenizer_encode(tokenize, sentence, vocab):\r\n",
    "    # print(type(vocab)) # torchtext.vocab.Vocab\r\n",
    "    # print(len(vocab))\r\n",
    "    sentence = normalizeString(sentence)\r\n",
    "    # print(type(sentence)) # str\r\n",
    "    sentence = tokenize(sentence)  # list\r\n",
    "    sentence = ['<start>'] + sentence + ['<end>']\r\n",
    "    sentence_ids = [vocab.stoi[token] for token in sentence]\r\n",
    "    # print(sentence_ids, type(sentence_ids[0])) # int\r\n",
    "    return sentence_ids\r\n",
    "\r\n",
    "\r\n",
    "def tokenzier_decode(sentence_ids, vocab):\r\n",
    "    sentence = [vocab.itos[id] for id in sentence_ids if id<len(vocab)]\r\n",
    "    # print(sentence)\r\n",
    "    return \" \".join(sentence)\r\n",
    "\r\n",
    "# 只有一个句子，不需要加pad\r\n",
    "s = 'je pars en vacances pour quelques jours .'\r\n",
    "print(tokenizer_encode(tokenizer, s, SRC_TEXT.vocab))\r\n",
    "\r\n",
    "\r\n",
    "s_ids = [3, 5, 251, 17, 365, 35, 492, 390, 4, 2]\r\n",
    "print(tokenzier_decode(s_ids, SRC_TEXT.vocab))\r\n",
    "print(tokenzier_decode(s_ids, TARG_TEXT.vocab))"
   ],
   "outputs": [
    {
     "output_type": "stream",
     "name": "stdout",
     "text": [
      "[3, 5, 251, 17, 365, 35, 492, 390, 4, 2]\n",
      "<start> je pars en vacances pour quelques jours . <end>\n",
      "<start> i tennis very forgetful me helping bed . <end>\n"
     ]
    }
   ],
   "metadata": {
    "collapsed": false,
    "pycharm": {
     "name": "#%%\n"
    }
   }
  },
  {
   "cell_type": "code",
   "execution_count": 49,
   "source": [
    "# inp_sentence 一个法语句子，例如\"je pars en vacances pour quelques jours .\"\r\n",
    "def evaluate(model, inp_sentence):\r\n",
    "    model.eval()  # 设置eval mode\r\n",
    "\r\n",
    "    inp_sentence_ids = tokenizer_encode(tokenizer, inp_sentence, SRC_TEXT.vocab)  # 转化为索引\r\n",
    "    # print(tokenzier_decode(inp_sentence_ids, SRC_TEXT.vocab))\r\n",
    "    encoder_input = torch.tensor(inp_sentence_ids).unsqueeze(dim=0)  # =>[b=1, inp_seq_len=10]\r\n",
    "    # print(encoder_input.shape)\r\n",
    "\r\n",
    "    decoder_input = [TARG_TEXT.vocab.stoi['<start>']]\r\n",
    "    decoder_input = torch.tensor(decoder_input).unsqueeze(0)  # =>[b=1,seq_len=1]\r\n",
    "    # print(decoder_input.shape)\r\n",
    "\r\n",
    "    with torch.no_grad():\r\n",
    "        for i in range(MAX_LENGTH + 2):\r\n",
    "            enc_padding_mask, combined_mask, dec_padding_mask = create_mask(encoder_input.cpu(), decoder_input.cpu()) ################\r\n",
    "            # [b,1,1,inp_seq_len], [b,1,targ_seq_len,inp_seq_len], [b,1,1,inp_seq_len]\r\n",
    "\r\n",
    "            encoder_input = encoder_input.to(device)\r\n",
    "            decoder_input = decoder_input.to(device)\r\n",
    "            enc_padding_mask = enc_padding_mask.to(device)\r\n",
    "            combined_mask = combined_mask.to(device)\r\n",
    "            dec_padding_mask = dec_padding_mask.to(device)\r\n",
    "\r\n",
    "            # forward\r\n",
    "            predictions, attention_weights = model(encoder_input,\r\n",
    "                                                   decoder_input,\r\n",
    "                                                   enc_padding_mask,\r\n",
    "                                                   combined_mask,\r\n",
    "                                                   dec_padding_mask)\r\n",
    "            # [b=1, targ_seq_len, target_vocab_size]\r\n",
    "            # {'..block1': [b, num_heads, targ_seq_len, targ_seq_len],\r\n",
    "            #  '..block2': [b, num_heads, targ_seq_len, inp_seq_len], ...}\r\n",
    "\r\n",
    "            # 看最后一个词并计算它的 argmax\r\n",
    "            prediction = predictions[:, -1:, :]  # =>[b=1, 1, target_vocab_size]\r\n",
    "            prediction_id = torch.argmax(prediction, dim=-1)  # => [b=1, 1]\r\n",
    "            # print('prediction_id:', prediction_id, prediction_id.dtype) # torch.int64\r\n",
    "            if prediction_id.squeeze().item() == TARG_TEXT.vocab.stoi['<end>']:\r\n",
    "                return decoder_input.squeeze(dim=0), attention_weights\r\n",
    "\r\n",
    "            decoder_input = torch.cat([decoder_input, prediction_id],\r\n",
    "                                      dim=-1)  # [b=1,targ_seq_len=1]=>[b=1,targ_seq_len=2]\r\n",
    "            # decoder_input在逐渐变长\r\n",
    "\r\n",
    "    return decoder_input.squeeze(dim=0), attention_weights\r\n",
    "    # [targ_seq_len],\r\n",
    "    # {'..block1': [b, num_heads, targ_seq_len, targ_seq_len],\r\n",
    "    #  '..block2': [b, num_heads, targ_seq_len, inp_seq_len], ...}\r\n",
    "\r\n",
    "\r\n",
    "\r\n",
    "# s = 'je pars en vacances pour quelques jours .'\r\n",
    "# evaluate(s)\r\n",
    "\r\n",
    "s = 'je pars en vacances pour quelques jours .'\r\n",
    "s_targ = 'i m taking a couple of days off .'\r\n",
    "pred_result, attention_weights = evaluate(reload_model, s)\r\n",
    "pred_sentence = tokenzier_decode(pred_result, TARG_TEXT.vocab)\r\n",
    "print('real target:', s_targ)\r\n",
    "print('pred_sentence:', pred_sentence)"
   ],
   "outputs": [
    {
     "output_type": "stream",
     "name": "stdout",
     "text": [
      "real target: i m taking a couple of days off .\n",
      "pred_sentence: <start> i m leaving for a couple for days .\n"
     ]
    }
   ],
   "metadata": {
    "collapsed": false,
    "pycharm": {
     "name": "#%%\n"
    }
   }
  },
  {
   "cell_type": "code",
   "execution_count": 51,
   "source": [
    "# 批量翻译\r\n",
    "sentence_pairs = [\r\n",
    "    ['je pars en vacances pour quelques jours .', 'i m taking a couple of days off .'],\r\n",
    "    ['je ne me panique pas .', 'i m not panicking .'],\r\n",
    "    ['je recherche un assistant .', 'i am looking for an assistant .'],\r\n",
    "    ['je suis loin de chez moi .', 'i m a long way from home .'],\r\n",
    "    ['vous etes en retard .', 'you re very late .'],\r\n",
    "    ['j ai soif .', 'i am thirsty .'],\r\n",
    "    ['je suis fou de vous .', 'i m crazy about you .'],\r\n",
    "    ['vous etes vilain .', 'you are naughty .'],\r\n",
    "    ['il est vieux et laid .', 'he s old and ugly .'],\r\n",
    "    ['je suis terrifiee .', 'i m terrified .'],\r\n",
    "]\r\n",
    "\r\n",
    "\r\n",
    "def batch_translate(sentence_pairs):\r\n",
    "    for pair in sentence_pairs:\r\n",
    "        print('input:', pair[0])\r\n",
    "        print('target:', pair[1])\r\n",
    "        pred_result, _ = evaluate(reload_model, pair[0])\r\n",
    "        pred_sentence = tokenzier_decode(pred_result, TARG_TEXT.vocab)\r\n",
    "        print('pred:', pred_sentence)\r\n",
    "        print('')\r\n",
    "\r\n",
    "batch_translate(sentence_pairs)"
   ],
   "outputs": [
    {
     "output_type": "stream",
     "name": "stdout",
     "text": [
      "input: je pars en vacances pour quelques jours .\n",
      "target: i m taking a couple of days off .\n",
      "pred: <start> i m leaving for a couple for days .\n",
      "\n",
      "input: je ne me panique pas .\n",
      "target: i m not panicking .\n",
      "pred: <start> i m not getting involved .\n",
      "\n",
      "input: je recherche un assistant .\n",
      "target: i am looking for an assistant .\n",
      "pred: <start> i m looking for a job .\n",
      "\n",
      "input: je suis loin de chez moi .\n",
      "target: i m a long way from home .\n",
      "pred: <start> i m at home .\n",
      "\n",
      "input: vous etes en retard .\n",
      "target: you re very late .\n",
      "pred: <start> you re late .\n",
      "\n",
      "input: j ai soif .\n",
      "target: i am thirsty .\n",
      "pred: <start> i m sick .\n",
      "\n",
      "input: je suis fou de vous .\n",
      "target: i m crazy about you .\n",
      "pred: <start> i m crazy about you .\n",
      "\n",
      "input: vous etes vilain .\n",
      "target: you are naughty .\n",
      "pred: <start> you re the oldest .\n",
      "\n",
      "input: il est vieux et laid .\n",
      "target: he s old and ugly .\n",
      "pred: <start> he is old and old .\n",
      "\n",
      "input: je suis terrifiee .\n",
      "target: i m terrified .\n",
      "pred: <start> i m disgusted .\n",
      "\n"
     ]
    }
   ],
   "metadata": {
    "collapsed": false,
    "pycharm": {
     "name": "#%%\n"
    }
   }
  },
  {
   "cell_type": "code",
   "execution_count": null,
   "source": [
    "def my_translations():\r\n",
    "    test_pairs = [\"\",\r\n",
    "    ]"
   ],
   "outputs": [],
   "metadata": {}
  },
  {
   "cell_type": "code",
   "execution_count": 52,
   "source": [
    "# 随机选个句子翻译\r\n",
    "def evaluateRandomly(n=10):\r\n",
    "    for i in range(n):\r\n",
    "        pair = random.choice(pairs)\r\n",
    "        print('input:', pair[0])\r\n",
    "        print('target:', pair[1])\r\n",
    "        pred_result, attentions = evaluate(reload_model, pair[0])\r\n",
    "        pred_sentence = tokenzier_decode(pred_result, TARG_TEXT.vocab)\r\n",
    "        print('pred:', pred_sentence)\r\n",
    "        print('')\r\n",
    "\r\n",
    "\r\n",
    "evaluateRandomly(5)"
   ],
   "outputs": [
    {
     "output_type": "stream",
     "name": "stdout",
     "text": [
      "input: tu es trop jeune pour voyager seul .\n",
      "target: you are too young to travel alone .\n",
      "pred: <start> you are too young to travel alone .\n",
      "\n",
      "input: tu n es plus seule .\n",
      "target: you re not alone anymore .\n",
      "pred: <start> you re not alone anymore .\n",
      "\n",
      "input: tu es son frere n est ce pas ?\n",
      "target: you are his brother right ?\n",
      "pred: <start> you re new right ?\n",
      "\n",
      "input: je ne suis pas fatiguee du tout .\n",
      "target: i m not at all tired .\n",
      "pred: <start> i m not tired at all .\n",
      "\n",
      "input: vous gaspillez notre temps a tous les deux .\n",
      "target: you re wasting both of our time .\n",
      "pred: <start> you re both our time .\n",
      "\n"
     ]
    }
   ],
   "metadata": {
    "collapsed": false,
    "pycharm": {
     "name": "#%%\n"
    }
   }
  },
  {
   "cell_type": "markdown",
   "source": [
    "## 18.attention 的可视化"
   ],
   "metadata": {
    "collapsed": false,
    "pycharm": {
     "name": "#%% md\n"
    }
   }
  },
  {
   "cell_type": "code",
   "execution_count": 53,
   "source": [
    "# 可视化attenton 这里我们只展示...block2的attention，即[b, num_heads, targ_seq_len, inp_seq_len]\r\n",
    "# attention: {'decoder_layer{i + 1}_block1': [b, num_heads, targ_seq_len, targ_seq_len],\r\n",
    "#             'decoder_layer{i + 1}_block2': [b, num_heads, targ_seq_len, inp_seq_len], ...}\r\n",
    "# sentence: [seq_len]，例如：'je recherche un assistant .'\r\n",
    "# pred_result: [seq_len]，例如：'<start> i m looking for an assistant .'\r\n",
    "# layer: 字符串类型，表示模型decoder的N层decoder-layer的第几层的attention，形如'decoder_layer{i}_block1'或'decoder_layer{i}_block2'\r\n",
    "def plot_attention_weights(attention, sentence, pred_sentence, layer):\r\n",
    "    sentence = sentence.split()\r\n",
    "    pred_sentence = pred_sentence.split()\r\n",
    "\r\n",
    "    fig = plt.figure(figsize=(16, 8))\r\n",
    "\r\n",
    "    # block2 attention[layer] => [b=1, num_heads, targ_seq_len, inp_seq_len]\r\n",
    "    attention = torch.squeeze(attention[layer], dim=0) # => [num_heads, targ_seq_len, inp_seq_len]\r\n",
    "\r\n",
    "    for head in range(attention.shape[0]):\r\n",
    "        ax = fig.add_subplot(2, 4, head + 1)  # 111是单个整数编码的子绘图网格参数。例如，“111”表示“1×1网格，第一子图”，“234”表示“2×3网格，第四子图”\r\n",
    "\r\n",
    "        cax = ax.matshow(attention[head].cpu(), cmap='viridis')  # 绘制网格热图？注意力权重\r\n",
    "        # fig.colorbar(cax)#给子图添加colorbar（颜色条或渐变色条）\r\n",
    "\r\n",
    "        fontdict = {'fontsize': 10}\r\n",
    "\r\n",
    "        # 设置轴刻度线\r\n",
    "        ax.set_xticks(range(len(sentence)+2))  # 算上start和end\r\n",
    "        ax.set_yticks(range(len(pred_sentence)))\r\n",
    "\r\n",
    "        ax.set_ylim(len(pred_sentence) - 1.5, -0.5)  # 设定y座标轴的范围\r\n",
    "\r\n",
    "        # 设置轴\r\n",
    "        ax.set_xticklabels(['<start>']+sentence+['<end>'], fontdict=fontdict, rotation=90)  # 顺时间旋转90度\r\n",
    "        ax.set_yticklabels(pred_sentence, fontdict=fontdict)\r\n",
    "\r\n",
    "        ax.set_xlabel('Head {}'.format(head + 1))\r\n",
    "    plt.tight_layout()\r\n",
    "    plt.show()\r\n",
    "\r\n",
    "\r\n",
    "def translate(sentence_pair, plot=None):\r\n",
    "    print('input:', sentence_pair[0])\r\n",
    "    print('target:', sentence_pair[1])\r\n",
    "    pred_result, attention_weights = evaluate(reload_model, sentence_pair[0])\r\n",
    "    print('attention_weights:', attention_weights.keys())\r\n",
    "    pred_sentence = tokenzier_decode(pred_result, TARG_TEXT.vocab)\r\n",
    "    print('pred:', pred_sentence)\r\n",
    "    print('')\r\n",
    "\r\n",
    "    if plot:\r\n",
    "        plot_attention_weights(attention_weights, sentence_pair[0], pred_sentence, plot)"
   ],
   "outputs": [],
   "metadata": {
    "collapsed": false,
    "pycharm": {
     "name": "#%%\n"
    }
   }
  },
  {
   "cell_type": "code",
   "execution_count": 54,
   "source": [
    "translate(sentence_pairs[0], plot='decoder_layer4_block2')"
   ],
   "outputs": [
    {
     "output_type": "stream",
     "name": "stdout",
     "text": [
      "input: je pars en vacances pour quelques jours .\n",
      "target: i m taking a couple of days off .\n",
      "attention_weights: dict_keys(['decoder_layer1_block1', 'decoder_layer1_block2', 'decoder_layer2_block1', 'decoder_layer2_block2', 'decoder_layer3_block1', 'decoder_layer3_block2', 'decoder_layer4_block1', 'decoder_layer4_block2'])\n",
      "pred: <start> i m leaving for a couple for days .\n",
      "\n"
     ]
    },
    {
     "output_type": "display_data",
     "data": {
      "image/png": "[encoded data removed]",
      "text/plain": [
       "<Figure size 1152x576 with 8 Axes>"
      ]
     },
     "metadata": {}
    }
   ],
   "metadata": {
    "collapsed": false,
    "pycharm": {
     "name": "#%%\n"
    }
   }
  },
  {
   "cell_type": "code",
   "execution_count": 55,
   "source": [
    "translate(sentence_pairs[2], plot='decoder_layer4_block2')\r\n"
   ],
   "outputs": [
    {
     "output_type": "stream",
     "name": "stdout",
     "text": [
      "input: je recherche un assistant .\n",
      "target: i am looking for an assistant .\n",
      "attention_weights: dict_keys(['decoder_layer1_block1', 'decoder_layer1_block2', 'decoder_layer2_block1', 'decoder_layer2_block2', 'decoder_layer3_block1', 'decoder_layer3_block2', 'decoder_layer4_block1', 'decoder_layer4_block2'])\n",
      "pred: <start> i m looking for a job .\n",
      "\n"
     ]
    },
    {
     "output_type": "display_data",
     "data": {
      "image/png": "[encoded data removed]",
      "text/plain": [
       "<Figure size 1152x576 with 8 Axes>"
      ]
     },
     "metadata": {}
    }
   ],
   "metadata": {
    "collapsed": false,
    "pycharm": {
     "name": "#%%\n"
    }
   }
  },
  {
   "cell_type": "markdown",
   "source": [
    "## 19.总结\n",
    "\n",
    "代码还有以下待完善的地方：\n",
    "- 没有实现标签平滑\n",
    "- 在训练过程中使用了teacher-forcing，即总是会将target传递到下一时间步长。更好的做法是设置一个teacher_forcing_ration\n",
    "- 在evaluate阶段的解码使用的是greedy search decode，即对于每一步，我们只需从具有最高 softmax 值的 decoder_output 中选择单词。可以尝试使用更好的beam search"
   ],
   "metadata": {
    "collapsed": false,
    "pycharm": {
     "name": "#%% md\n"
    }
   }
  }
 ],
 "metadata": {
  "kernelspec": {
   "name": "python3",
   "display_name": "Python 3.6.5 64-bit ('base': conda)"
  },
  "language_info": {
   "name": "python",
   "version": "3.6.5",
   "mimetype": "text/x-python",
   "codemirror_mode": {
    "name": "ipython",
    "version": 3
   },
   "pygments_lexer": "ipython3",
   "nbconvert_exporter": "python",
   "file_extension": ".py"
  },
  "interpreter": {
   "hash": "b3ba2566441a7c06988d0923437866b63cedc61552a5af99d1f4fb67d367b25f"
  }
 },
 "nbformat": 4,
 "nbformat_minor": 2
}