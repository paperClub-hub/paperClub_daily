{
 "cells": [
  {
   "cell_type": "code",
   "execution_count": 7,
   "metadata": {},
   "outputs": [
    {
     "name": "stdout",
     "output_type": "stream",
     "text": [
      "[['A', 'C'], ['A', 'B', 'C'], ['B', 'C'], ['E', 'D'], ['E', 'F']]\n"
     ]
    }
   ],
   "source": [
    "def find_paths(edges):\n",
    "    graph = {}\n",
    "    for edge in edges:\n",
    "        src, dest = edge\n",
    "        if src not in graph:\n",
    "            graph[src] = set()\n",
    "        graph[src].add(dest)\n",
    "        # if dest not in graph:\n",
    "        #     graph[dest] = set()\n",
    "    \n",
    "    paths = []\n",
    "    \n",
    "    def dfs(node, path):\n",
    "        path.append(node)\n",
    "        if node not in graph or not graph[node]:\n",
    "            paths.append(path[:])\n",
    "        else:\n",
    "            for neighbor in graph[node]:\n",
    "                dfs(neighbor, path)\n",
    "        path.pop()\n",
    "        \n",
    "    for start_node in graph.keys():\n",
    "        dfs(start_node, [])\n",
    "    \n",
    "    return paths\n",
    "\n",
    "input_data = [(\"A\", \"B\"), (\"B\", \"C\"), (\"A\", \"C\"), (\"E\", \"F\"), ('E', 'D')]\n",
    "result = find_paths(input_data)\n",
    "print(result)\n"
   ]
  },
  {
   "cell_type": "code",
   "execution_count": 14,
   "metadata": {},
   "outputs": [
    {
     "data": {
      "text/plain": [
       "675"
      ]
     },
     "execution_count": 14,
     "metadata": {},
     "output_type": "execute_result"
    }
   ],
   "source": [
    "from datetime import datetime\n",
    "\n",
    "    s = '11/5/2021 00:00:00'\n",
    "    now = datetime.now()\n",
    "    fomat_date = \"%d/%m/%Y %H:%M:%S\"\n",
    "    date = datetime.strptime(s, fomat_date)\n",
    "    \n",
    "    if ispan:\n",
    "        out = (now - date).days\n",
    "    else:\n",
    "        out = date.strftime(\"%Y-%m-%d %H:%M:%S\")\n",
    "    \n",
    "    return out\n",
    "\n",
    "str2date(ispan=False)"
   ]
  }
 ],
 "metadata": {
  "kernelspec": {
   "display_name": "base",
   "language": "python",
   "name": "python3"
  },
  "language_info": {
   "codemirror_mode": {
    "name": "ipython",
    "version": 3
   },
   "file_extension": ".py",
   "mimetype": "text/x-python",
   "name": "python",
   "nbconvert_exporter": "python",
   "pygments_lexer": "ipython3",
   "version": "3.6.5"
  },
  "orig_nbformat": 4
 },
 "nbformat": 4,
 "nbformat_minor": 2
}
