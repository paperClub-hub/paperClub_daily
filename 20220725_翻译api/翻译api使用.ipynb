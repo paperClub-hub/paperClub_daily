{
 "cells": [
  {
   "cell_type": "code",
   "execution_count": 3,
   "metadata": {},
   "outputs": [],
   "source": [
    "\n",
    "\n",
    "\n",
    "import random\n",
    "import requests\n",
    "from hashlib import md5\n",
    "\n",
    "\n",
    "class Translator:\n",
    "    def __init__(self):\n",
    "        self.appid = '20210313000725566'\n",
    "        self.appkey = 'anWY5DNo2Ab57bgmXnqR'\n",
    "        self.url = 'http://api.fanyi.baidu.com/api/trans/vip/translate'\n",
    "        self.headers = {'Content-Type': 'application/x-www-form-urlencoded'}\n",
    "        self.payload_zh2en = {\n",
    "            'appid': '20210313000725566',\n",
    "            'from': 'zh',\n",
    "            'to': 'en',\n",
    "        }\n",
    "\n",
    "        self.payload_en2zh = {\n",
    "            'appid': '20210313000725566',\n",
    "            'from': 'en',\n",
    "            'to': 'zh',\n",
    "        }\n",
    "\n",
    "\n",
    "    @staticmethod\n",
    "    def make_md5(s, encoding='utf-8'):\n",
    "        return md5(s.encode(encoding)).hexdigest()\n",
    "\n",
    "    def translate_2en(self, query):\n",
    "        salt = random.randint(32768, 65536)\n",
    "        sign = self.make_md5(self.appid + query + str(salt) + self.appkey)\n",
    "\n",
    "        self.payload_zh2en['salt'] = salt\n",
    "        self.payload_zh2en['sign'] = sign\n",
    "        self.payload_zh2en['q'] = query\n",
    "        r = requests.post(self.url, params=self.payload_zh2en, headers=self.headers)\n",
    "        result = r.json()['trans_result'][0]['dst']\n",
    "\n",
    "        return result\n",
    "\n",
    "\n",
    "    def translate_2cn(self, query):\n",
    "        salt = random.randint(32768, 65536)\n",
    "        sign = self.make_md5(self.appid + query + str(salt) + self.appkey)\n",
    "\n",
    "        self.payload_en2zh['salt'] = salt\n",
    "        self.payload_en2zh['sign'] = sign\n",
    "        self.payload_en2zh['q'] = query\n",
    "        r = requests.post(self.url, params=self.payload_en2zh, headers=self.headers)\n",
    "        result = r.json()['trans_result'][0]['dst']\n",
    "        \n",
    "        return result\n",
    "\n",
    "\n",
    "\n",
    "BaiDu = Translator()\n"
   ]
  },
  {
   "cell_type": "code",
   "execution_count": 9,
   "metadata": {},
   "outputs": [
    {
     "name": "stdout",
     "output_type": "stream",
     "text": [
      "txt = spray, 汉译英：spray\n",
      "txt = Black dog, 汉译英：Black dog\n",
      "txt = Two black dogs, 汉译英：Two black dogs\n"
     ]
    }
   ],
   "source": [
    "import time\n",
    "texts = ['浪花','黑色的狗', '两只黑色的狗',]\n",
    "\n",
    "for txt in texts:\n",
    "    english = BaiDu.translate_2en(txt)\n",
    "    time.sleep(1)\n",
    "    print(f\"txt = {english}, 汉译英：{english}\")\n"
   ]
  }
 ],
 "metadata": {
  "kernelspec": {
   "display_name": "Python 3.7.6 ('base')",
   "language": "python",
   "name": "python3"
  },
  "language_info": {
   "codemirror_mode": {
    "name": "ipython",
    "version": 3
   },
   "file_extension": ".py",
   "mimetype": "text/x-python",
   "name": "python",
   "nbconvert_exporter": "python",
   "pygments_lexer": "ipython3",
   "version": "3.7.6"
  },
  "orig_nbformat": 4,
  "vscode": {
   "interpreter": {
    "hash": "1448b48b023bcc9c3d4a79e814720a10ca6d4244f75e0f7ce4af58f96ba2b7d3"
   }
  }
 },
 "nbformat": 4,
 "nbformat_minor": 2
}
